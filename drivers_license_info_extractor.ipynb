{
  "nbformat": 4,
  "nbformat_minor": 0,
  "metadata": {
    "kernelspec": {
      "display_name": "Python 3",
      "language": "python",
      "name": "python3"
    },
    "language_info": {
      "codemirror_mode": {
        "name": "ipython",
        "version": 3
      },
      "file_extension": ".py",
      "mimetype": "text/x-python",
      "name": "python",
      "nbconvert_exporter": "python",
      "pygments_lexer": "ipython3",
      "version": "3.6.9"
    },
    "colab": {
      "name": "drivers_license_info_extractor.ipynb",
      "provenance": [],
      "include_colab_link": true
    }
  },
  "cells": [
    {
      "cell_type": "markdown",
      "metadata": {
        "id": "view-in-github",
        "colab_type": "text"
      },
      "source": [
        "<a href=\"https://colab.research.google.com/github/Davilirio/Python_data_analysis/blob/master/drivers_license_info_extractor.ipynb\" target=\"_parent\"><img src=\"https://colab.research.google.com/assets/colab-badge.svg\" alt=\"Open In Colab\"/></a>"
      ]
    },
    {
      "cell_type": "markdown",
      "metadata": {
        "id": "MuSrdFQDT9ji",
        "colab_type": "text"
      },
      "source": [
        "## American Driver's License information extractor"
      ]
    },
    {
      "cell_type": "markdown",
      "metadata": {
        "id": "-HQEHE3OT9jm",
        "colab_type": "text"
      },
      "source": [
        "### Initial extractor with Regular Expressions:"
      ]
    },
    {
      "cell_type": "code",
      "metadata": {
        "id": "k4fkQxI1T9jp",
        "colab_type": "code",
        "colab": {
          "base_uri": "https://localhost:8080/",
          "height": 231
        },
        "outputId": "7a2e02f1-9873-492c-8e46-f75a6ed2b714"
      },
      "source": [
        "# Importing the libraries:\n",
        "import pandas as pd \n",
        "import spacy\n",
        "import re\n",
        "import itertools\n",
        "import nltk\n",
        "from nameparser.parser import HumanName\n",
        "from nltk.tokenize import sent_tokenize, word_tokenize\n",
        "from nltk.corpus import stopwords\n",
        "\n",
        "# Lendo o arquivo:\n",
        "# dataset = pd.read_csv('/home/davi/projetos/Access/driver_license_dataset/results1.csv', names = ['arquivo', 'conteudo'])\n",
        "!python -m spacy download en_core_web_md"
      ],
      "execution_count": null,
      "outputs": [
        {
          "output_type": "stream",
          "text": [
            "Collecting en_core_web_md==2.1.0\n",
            "\u001b[?25l  Downloading https://github.com/explosion/spacy-models/releases/download/en_core_web_md-2.1.0/en_core_web_md-2.1.0.tar.gz (95.4MB)\n",
            "\u001b[K     |████████████████████████████████| 95.4MB 1.2MB/s \n",
            "\u001b[?25hBuilding wheels for collected packages: en-core-web-md\n",
            "  Building wheel for en-core-web-md (setup.py) ... \u001b[?25l\u001b[?25hdone\n",
            "  Created wheel for en-core-web-md: filename=en_core_web_md-2.1.0-cp36-none-any.whl size=97126236 sha256=dc424c5fdb2f91614935406aaca3bf8552949b910d23a0ea02686ccf4e260831\n",
            "  Stored in directory: /tmp/pip-ephem-wheel-cache-w2zkc3d2/wheels/c1/2c/5f/fd7f3ec336bf97b0809c86264d2831c5dfb00fc2e239d1bb01\n",
            "Successfully built en-core-web-md\n",
            "Installing collected packages: en-core-web-md\n",
            "Successfully installed en-core-web-md-2.1.0\n",
            "\u001b[38;5;2m✔ Download and installation successful\u001b[0m\n",
            "You can now load the model via spacy.load('en_core_web_md')\n"
          ],
          "name": "stdout"
        }
      ]
    },
    {
      "cell_type": "code",
      "metadata": {
        "id": "xSHdzzxTT9jy",
        "colab_type": "code",
        "colab": {}
      },
      "source": [
        "# Criando listas de arquivos e conteudo:\n",
        "\n",
        "filenames = [str(x).lower() for x in list(dataset['arquivo'].values)]\n",
        "carteiras = [str(x).lower() for x in list(dataset['conteudo'].values)]"
      ],
      "execution_count": null,
      "outputs": []
    },
    {
      "cell_type": "code",
      "metadata": {
        "id": "_4RPmi0oT9j4",
        "colab_type": "code",
        "colab": {}
      },
      "source": [
        "# Create a dict where the key is the file name, the values are dicts where \n",
        "# the keys are the variables to be found in the driver's license and the \n",
        "# values to those keys are the values found by the extractor\n",
        "carteira = {}\n",
        "\n",
        "for i in range(len(carteiras)):\n",
        "    #st = sts.match(str(carteiras[i]))\n",
        "    st = re.search(r' ?(georgia)|(utah)|(florida)|(orida)|(lorida) ?', str(carteiras[i]))\n",
        "    s = re.search(r'((?<=sex )([f|m]))', str(carteiras[i]))\n",
        "    o = re.search(r'((?<=eyes )([a-z]{1,3}))', str(carteiras[i]))\n",
        "    iss = re.search(r'(?<=[iss |iss dd ])(\\d{1,2}/\\d{1,2}/\\d{1,4})', str(carteiras[i]))\n",
        "    dl = re.search(r'(?<=[dl |dln |4d ])(\\d{9})', str(carteiras[i]))\n",
        "    n = re.search(r'(?<=[dob |date of birth ] )(\\d{1,2}/\\d{1,2}/\\d{1,4})', str(carteiras[i]))\n",
        "    ln = re.search(r'(?<=[ln | last name |1 ] )(\\w{2,10})', str(carteiras[i]))\n",
        "    fn = re.search(r'(?<=[fn | first name |2 ] )(\\w{2,10})', str(carteiras[i]))\n",
        "    # Setting the minimum of attributes found to three (3):\n",
        "    num = ( bool( s ) + bool( o ) + bool( n ) + bool( iss ) + bool( dl )  )\n",
        "    # If there are three (3) or more attributes found, the drivers license will be added:\n",
        "    if num >= 2:\n",
        "        carteira[filenames[i]] = dict(Sex =  s.group() if not s is None else '',\n",
        "                           Eyes =  o.group() if not o is None else '',\n",
        "                           Issued =  iss.group() if not iss is None else '',\n",
        "                           DL_number =  dl.group() if not dl is None else '',\n",
        "                            DOB =  n.group() if not n is None else '',\n",
        "                                     last_name = ln.group() if not ln is None else '',\n",
        "                                      first_name = fn.group() if not fn is None else '',\n",
        "                                      state = st.group() if not st is None else '',\n",
        "                                      text = carteiras[i]\n",
        "                                     )"
      ],
      "execution_count": null,
      "outputs": []
    },
    {
      "cell_type": "markdown",
      "metadata": {
        "id": "4SFDnvb1T9j-",
        "colab_type": "text"
      },
      "source": [
        "### Viewing the first 10 driver's licenses extracted:"
      ]
    },
    {
      "cell_type": "code",
      "metadata": {
        "id": "DFrCVkk0T9kA",
        "colab_type": "code",
        "colab": {}
      },
      "source": [
        "# Visualizando as primeiras 10 carteiras:\n",
        "dict(itertools.islice(carteira.items(), 120))"
      ],
      "execution_count": null,
      "outputs": []
    },
    {
      "cell_type": "markdown",
      "metadata": {
        "id": "Oc66KbBsT9kH",
        "colab_type": "text"
      },
      "source": [
        "### Division between the 3 main states attended and an outlier group:"
      ]
    },
    {
      "cell_type": "code",
      "metadata": {
        "id": "BncxWc0LT9kJ",
        "colab_type": "code",
        "colab": {}
      },
      "source": [
        "# !!!  Test area  !!!\n",
        "\n",
        "t = 'florida the sunshine state driver license class e s530-003-67-834-0 andrea coney od we sneed 2400 nw 132nd st miami, fl 33167-1351 dob: 09-14-1967 sex: f issued: 10-12-2012 hgt: 5-02 expires: 09-14-2020 seal oft rest endorse: safe driver operation of a motor vehicle constitutes consent to any sobriety test required by law. '\n",
        "m_teste =  re.search('(\\D{1}\\d{3}-\\d{1,3}-\\d{1,3}-\\d{1,3}-\\d{1})', t)\n",
        "n_teste = re.search(r' ?f?l?(orid)a? ?', t)\n",
        "o_teste = re.search(r'(?<=[dl no. ])(\\d{6,12})', t)\n",
        "print(m_teste)"
      ],
      "execution_count": null,
      "outputs": []
    },
    {
      "cell_type": "code",
      "metadata": {
        "id": "nwkZImo_T9kN",
        "colab_type": "code",
        "colab": {}
      },
      "source": [
        "# Divide and count how many from each of the 3 states:\n",
        "\n",
        "florida_dl = dict()\n",
        "utah_dl = dict()\n",
        "georgia_dl = dict()\n",
        "outliers = dict()\n",
        "\n",
        "for i, carteira in enumerate(carteiras):\n",
        "    florida_re = re.search(r' ?f?l?(orid)a? ?', str(carteira))\n",
        "    dln_florida_re = re.search('(\\D{1}\\d{3}-\\d{1,3}-\\d{1,3}-\\d{1,3}-\\d{1})', str(carteira))\n",
        "    georgia_re = re.search(r' ?g?(eorgi)a? ?', str(carteira))\n",
        "    dln_georgia_re = re.search(r'(?<=[dl no. ])(\\d{6,12})', str(carteira))\n",
        "    utah_re = re.search(r' ?(utah) ?', str(carteira))\n",
        "    if florida_re or dln_florida_re:\n",
        "        florida_dl[filenames[carteiras.index(carteira)]] = carteira\n",
        "    if georgia_re:\n",
        "        georgia_dl[filenames[carteiras.index(carteira)]] = carteira\n",
        "    if utah_re:\n",
        "        utah_dl[filenames[carteiras.index(carteira)]] = carteira\n",
        "    if bool(florida_re) + bool(dln_florida_re) + bool(georgia_re) + bool(utah_re) == 0:\n",
        "        outliers[filenames[carteiras.index(carteira)]] = carteira\n",
        "        \n",
        "        \n",
        "print(\"The number of driver's licenses found for Florida, Utah and Georgia, respectively, are:  {}\".format([len(florida_dl), len(utah_dl), len(georgia_dl)]))"
      ],
      "execution_count": null,
      "outputs": []
    },
    {
      "cell_type": "markdown",
      "metadata": {
        "id": "l55wZ_awT9kR",
        "colab_type": "text"
      },
      "source": [
        "### Defining for one Driver's License"
      ]
    },
    {
      "cell_type": "code",
      "metadata": {
        "scrolled": true,
        "id": "8AG2vPJpT9kT",
        "colab_type": "code",
        "colab": {}
      },
      "source": [
        "\n",
        "def state_classifier(carteira):\n",
        "        florida_re = re.search(r' ?f?l?(orid)a? ?', str(carteira))\n",
        "        dln_florida_re = re.search('(\\D{1}\\d{3}-\\d{1,3}-\\d{1,3}-\\d{1,3}-\\d{1})', str(carteira))\n",
        "        georgia_re = re.search(r' ?g?(eorgi)a? ?', str(carteira))\n",
        "        dln_georgia_re = re.search(r'(?<=[dl no. ])(\\d{6,12})', str(carteira))\n",
        "        utah_re = re.search(r' ?(utah) ?', str(carteira))\n",
        "        if florida_re or dln_florida_re:\n",
        "            state = 'florida'\n",
        "        if georgia_re:\n",
        "            state = 'georgia'\n",
        "        if utah_re:\n",
        "            state = 'utah'\n",
        "        if bool(florida_re) + bool(dln_florida_re) + bool(georgia_re) + bool(utah_re) == 0:\n",
        "             state = 'outlier'\n",
        "        \n",
        "        return state"
      ],
      "execution_count": null,
      "outputs": []
    },
    {
      "cell_type": "markdown",
      "metadata": {
        "id": "fGGAeBNST9kY",
        "colab_type": "text"
      },
      "source": [
        "### Measuring informations obtained by the basic extractor:"
      ]
    },
    {
      "cell_type": "code",
      "metadata": {
        "id": "pyOb5jcfT9kZ",
        "colab_type": "code",
        "colab": {}
      },
      "source": [
        "((len(utah_dl)+len(georgia_dl)+len(florida_dl))/len(carteiras))*100"
      ],
      "execution_count": null,
      "outputs": []
    },
    {
      "cell_type": "markdown",
      "metadata": {
        "id": "gYBnpZihT9kd",
        "colab_type": "text"
      },
      "source": [
        "## Personalized Extractors per State"
      ]
    },
    {
      "cell_type": "markdown",
      "metadata": {
        "id": "ev5875w7T9kf",
        "colab_type": "text"
      },
      "source": [
        "### Florida:"
      ]
    },
    {
      "cell_type": "code",
      "metadata": {
        "id": "qCMsK0ZYT9kh",
        "colab_type": "code",
        "colab": {}
      },
      "source": [
        "florida_dl_dict = dict()\n",
        "for i in range(len(carteiras)):\n",
        "    s = re.search(r'((?<=sex )([f|m]))', str(carteiras[i]))\n",
        "    o = re.search(r'((?<=eyes )([a-z]{1,3}))', str(carteiras[i]))\n",
        "    exp = re.search(r'(?<=[iss|iss dd ])(\\d{1,2}/\\d{1,2}/\\d{1,4})', str(carteiras[i]))\n",
        "    dl = re.search(r'(?<=[dln | 4d ])(\\D{1}-\\d{3}-\\d{1,2}-\\d{1-3}-\\d{1})', str(carteiras[i]))\n",
        "    n = re.search(r'(?<=[dob |date of birth ] )(\\d{1,2}/\\d{1,2}/\\d{1,4})', str(carteiras[i]))\n",
        "    ln = re.search(r'(?<=[ln | last name ] )(\\w{2,10})', str(carteiras[i]))\n",
        "    fn = re.search(r'(?<=[fn | first name ] )(\\w{2,10})', str(carteiras[i]))\n",
        "    cl = re.search(r'(?<=[9 |class ])([a|b|c|e|])', str(carteiras[i]))\n",
        "    #Setando o número mínimo de argumentos aceitos para 3:\n",
        "    num = ( bool( s ) + bool( o ) + bool( n ) + bool( exp ) + bool( dl )  )\n",
        "    #Caso a quantia de argumentos aceitos seja igual/maior a 3, será adicionada a carteira no dicionario:\n",
        "    if num >= 2:\n",
        "        florida_dl_dict[filenames[i]] = dict(Sexo =  s.group() if not s is None else '',\n",
        "                            Olho =  o.group() if not o is None else '',\n",
        "                            Expedicao =  exp.group() if not exp is None else '',\n",
        "                           Numero_Carteira =  dl.group() if not dl is None else '',\n",
        "                            Nascimento =  n.group() if not n is None else '',\n",
        "                                     sobrenome = ln.group() if not ln is None else '',\n",
        "                                      nome = fn.group() if not fn is None else '',\n",
        "                                      classe = cl.group() if not cl is None else '')"
      ],
      "execution_count": null,
      "outputs": []
    },
    {
      "cell_type": "code",
      "metadata": {
        "id": "m2phHex3T9kl",
        "colab_type": "code",
        "colab": {}
      },
      "source": [
        "def florida_extractor(carteira):\n",
        "    florida_dl_info = dict()\n",
        "    s = re.search(r'((?<=sex )([f|m]))', str(carteira))\n",
        "    o = re.search(r' ?(blu)|(bro)|(blk)|(hzl)|(grn) ?', str(carteira))\n",
        "    exp = re.search(r'(?<=exp )(\\d{1,2}/\\d{1,2}/\\d{1,4})', str(carteira))\n",
        "    dl = re.search('(\\D{1}\\d{3}-\\d{1,3}-\\d{1,3}-\\d{1,3}-\\d{1})', str(carteira))\n",
        "    n = re.search(r'(?<=[(dob )|(date of birth )] )(\\d{1,2}/\\d{1,2}/\\d{1,4})', str(carteira))\n",
        "    cl = re.search(r'(?<=[9 |class ])([a|b|c|e|])', str(carteira))\n",
        "    #Setando o número mínimo de argumentos aceitos para 3:\n",
        "    num = ( bool( s ) + bool( o ) + bool( n ) + bool( exp ) + bool( dl )  )\n",
        "    #Caso a quantia de argumentos aceitos seja igual/maior a 3, será adicionada a carteira no dicionario:\n",
        "    if num >= 2:\n",
        "        florida_dl_info[carteira] = dict(sex =  s.group() if not s is None else '',\n",
        "                            eyes =  o.group() if not o is None else '',\n",
        "                            expiration_date =  exp.group() if not exp is None else '',\n",
        "                           dl_number =  dl.group() if not dl is None else '',\n",
        "                            birth_date =  n.group() if not n is None else '',\n",
        "                                        #  name = name_extractor(carteira),\n",
        "                                        #  location = location_extractor(carteira),\n",
        "                                      dl_class = cl.group() if not cl is None else '')\n",
        "    \n",
        "    return florida_dl_info "
      ],
      "execution_count": null,
      "outputs": []
    },
    {
      "cell_type": "code",
      "metadata": {
        "id": "qYeLcYI1T9kp",
        "colab_type": "code",
        "colab": {
          "base_uri": "https://localhost:8080/",
          "height": 144
        },
        "outputId": "8c5b14a0-ee9d-4f9c-99e0-ab2908642ed1"
      },
      "source": [
        "carteira_florida = \"p. florida usa grigat .. driver license 9 class e *o dilm230-073-83-470-0 40dln macedo 2bruno miguel de pina a1339 sand lime rd winter garden, fl 34787-4291 3dob 12/30/1983 15 sex m 4b exp 12/30/202016 hgt 5-11\\\" 12 rest none si safe driver 31d0b suns staf t83 9a end none 1de hesunghi a5/eive arriv tate 4a iss 12/12/2012 ine 5 dd g711906070623 oooinoooo arrivealive replaced 06/07/2019 suneh veteran m he state operation of a motor vehicle constitutes consent to any sobriety test required by law. donor 10000000 tri \"\n",
        "florida_extractor(carteira_florida)"
      ],
      "execution_count": null,
      "outputs": [
        {
          "output_type": "execute_result",
          "data": {
            "text/plain": [
              "{'p. florida usa grigat .. driver license 9 class e *o dilm230-073-83-470-0 40dln macedo 2bruno miguel de pina a1339 sand lime rd winter garden, fl 34787-4291 3dob 12/30/1983 15 sex m 4b exp 12/30/202016 hgt 5-11\" 12 rest none si safe driver 31d0b suns staf t83 9a end none 1de hesunghi a5/eive arriv tate 4a iss 12/12/2012 ine 5 dd g711906070623 oooinoooo arrivealive replaced 06/07/2019 suneh veteran m he state operation of a motor vehicle constitutes consent to any sobriety test required by law. donor 10000000 tri ': {'birth_date': '12/30/1983',\n",
              "  'dl_class': 'a',\n",
              "  'dl_number': 'm230-073-83-470-0',\n",
              "  'expiration_date': '12/30/2020',\n",
              "  'eyes': '',\n",
              "  'sex': 'm'}}"
            ]
          },
          "metadata": {
            "tags": []
          },
          "execution_count": 12
        }
      ]
    },
    {
      "cell_type": "markdown",
      "metadata": {
        "id": "nb8VlTcwT9ks",
        "colab_type": "text"
      },
      "source": [
        "### Georgia:"
      ]
    },
    {
      "cell_type": "code",
      "metadata": {
        "id": "QO1WTroUT9ku",
        "colab_type": "code",
        "colab": {}
      },
      "source": [
        "def georgia_extractor(carteira):\n",
        "    georgia_dl_info = dict()\n",
        "    s = re.search(r'((?<=sex )([f|m]))', str(carteira))\n",
        "    o = re.search(r' ?(blu)|(bro)|(blk)|(hzl)|(grn) ?', str(carteira))\n",
        "    exp = re.search(r'(?<=exp )(\\d{1,2}/\\d{1,2}/\\d{1,4})', str(carteira))\n",
        "    dl = re.search(r'(?<=dl no. )(\\d{6,12})', str(carteira))\n",
        "    n = re.search(r'(?<=[dob |date of birth ] )(\\d{1,2}/\\d{1,2}/\\d{1,4})', str(carteira))\n",
        "    cl = re.search(r'(?<=class )([a|b|c|e|f|p|m])', str(carteira))\n",
        "    #Setando o número mínimo de argumentos aceitos para 3:\n",
        "    num = ( bool( s ) + bool( o ) + bool( n ) + bool( exp ) + bool( dl )  )\n",
        "    #Caso a quantia de argumentos aceitos seja igual/maior a 3, será adicionada a carteira no dicionario:\n",
        "    if num >= 2:\n",
        "        georgia_dl_info[carteira] = dict(sex =  s.group() if not s is None else '',\n",
        "                            eyes =  o.group() if not o is None else '',\n",
        "                            expiration_date =  exp.group() if not exp is None else '',\n",
        "                           dl_number =  dl.group() if not dl is None else '',\n",
        "                            birth_date =  n.group() if not n is None else '',\n",
        "                                         name = name_extractor(carteira),\n",
        "                                         location = location_extractor(carteira),\n",
        "                                      dl_class = cl.group() if not cl is None else '')\n",
        "    \n",
        "    return georgia_dl_info"
      ],
      "execution_count": null,
      "outputs": []
    },
    {
      "cell_type": "code",
      "metadata": {
        "id": "w_q6OA3kT9ky",
        "colab_type": "code",
        "colab": {}
      },
      "source": [
        "carteira_georgia = 'usa georgia driver\\'s license porno bith 120863 cossioner dl no. 020718220 dob 12/08/1963 class c exp 12/08/2026 marcie t williams 492 bethlehem rd locust grove, ga 30248-2546 henry restrictions ab end none iss 01/15/2019 sex f eyes bro hgt 6-00\" wgt 180 lb dd 369028917900049118 suares www usageorgiadriver\\'slicensepornobith120863cossionerdlno.020718220dob12/08/1963classcexp12/08/2026marcietwilliams492bethlehemrdlocustgrove,ga30248-2546henryrestrictionsabendnoneiss01/15/2019sexfeyesbrohgt6-00\"wgt180lbdd369028917900049118suareswww'\n",
        "georgia_extractor(carteira_georgia)"
      ],
      "execution_count": null,
      "outputs": []
    },
    {
      "cell_type": "markdown",
      "metadata": {
        "id": "q51Hi8XNT9k1",
        "colab_type": "text"
      },
      "source": [
        "### Utah:"
      ]
    },
    {
      "cell_type": "code",
      "metadata": {
        "id": "3aIyCVesT9k2",
        "colab_type": "code",
        "colab": {}
      },
      "source": [
        "def utah_extractor(carteira):\n",
        "    utah_dl_info = dict()\n",
        "    s = re.search(r'((?<=sex )([f|m]))', str(carteira))\n",
        "    o = re.search(r' ?(blu)|(bro)|(blk)|(hzl)|(grn) ?', str(carteira))\n",
        "    exp = re.search(r'(?<=exp )(\\d{1,2}/\\d{1,2}/\\d{1,4})', str(carteira))\n",
        "    dl = re.search(r'(\\d{9})', str(carteira))\n",
        "    #dl = re.search(r'(?<=(4d )|( - ))(\\d{6,12})', str(carteira))\n",
        "    n = re.search(r'(?<=[dob |date of birth ] )(\\d{1,2}/\\d{1,2}/\\d{1,4})', str(carteira))\n",
        "    cl = re.search(r'(?<=class )([a|b|c|d|e|f|p|m])', str(carteira))\n",
        "    #Setando o número mínimo de argumentos aceitos para 3:\n",
        "    num = ( bool( s ) + bool( o ) + bool( n ) + bool( exp ) + bool( dl )  )\n",
        "    #Caso a quantia de argumentos aceitos seja igual/maior a 3, será adicionada a carteira no dicionario:\n",
        "    if num >= 2:\n",
        "        utah_dl_info[carteira] = dict(sex =  s.group() if not s is None else '',\n",
        "                            eyes =  o.group() if not o is None else '',\n",
        "                            expiration_date =  exp.group() if not exp is None else '',\n",
        "                           dl_number =  dl.group() if not dl is None else '',\n",
        "                            birth_date =  n.group() if not n is None else '',\n",
        "                                      name = name_extractor(carteira),\n",
        "                                      location = location_extractor(carteira), \n",
        "                                      dl_class = cl.group() if not cl is None else '')\n",
        "    \n",
        "    return utah_dl_info"
      ],
      "execution_count": null,
      "outputs": []
    },
    {
      "cell_type": "code",
      "metadata": {
        "id": "vvBACG92T9k5",
        "colab_type": "code",
        "colab": {}
      },
      "source": [
        "carteira_utah =  'utah déronkerglase 158625619 ss 02/23/2018 v dob 02/25/1979. exp 02/25/2023 jensen kraig bert e 365 w 300 n salina, ut 846.54 do 3648351 class a nd t u sex m 12 rest a 16 hot 6-02 17 wgt 285 lb 18 eyes blu 0 2125/79 har bln g 02/25/79 utahdéronkerglase158625619ss02/23/2018vdob02/25/1979.exp02/25/2023jensenkraigberte365w300nsalina,ut846.54do3648351classandtusexm12resta16hot6-0217wgt285lb18eyesblu02125/79harblng02/25/79'\n",
        "utah_extractor(carteira_utah)"
      ],
      "execution_count": null,
      "outputs": []
    },
    {
      "cell_type": "markdown",
      "metadata": {
        "id": "Zn5KKEE2T9k8",
        "colab_type": "text"
      },
      "source": [
        "### Function to decide which extractor to use:"
      ]
    },
    {
      "cell_type": "code",
      "metadata": {
        "id": "uzIpPmTiT9k9",
        "colab_type": "code",
        "colab": {}
      },
      "source": [
        "def decide_extract(carteira):\n",
        "    # From the state_classifier output, decide which extractor to use:\n",
        "    if state_classifier(carteira) == 'florida':\n",
        "        return florida_extractor(carteira)\n",
        "    \n",
        "    if state_classifier(carteira) == 'georgia':\n",
        "        return georgia_extractor(carteira)\n",
        "    \n",
        "    if state_classifier(carteira) == 'utah':\n",
        "        return utah_extractor(carteira)\n",
        "\n",
        "    "
      ],
      "execution_count": null,
      "outputs": []
    },
    {
      "cell_type": "markdown",
      "metadata": {
        "id": "vfEwluhST9lB",
        "colab_type": "text"
      },
      "source": [
        "### Testing the main function:"
      ]
    },
    {
      "cell_type": "code",
      "metadata": {
        "id": "8njhOLiqT9lC",
        "colab_type": "code",
        "colab": {}
      },
      "source": [
        "decide_extract(carteira_florida)"
      ],
      "execution_count": null,
      "outputs": []
    },
    {
      "cell_type": "code",
      "metadata": {
        "id": "hO5QVgUdT9lE",
        "colab_type": "code",
        "colab": {}
      },
      "source": [
        "decide_extract(carteira_utah)"
      ],
      "execution_count": null,
      "outputs": []
    },
    {
      "cell_type": "code",
      "metadata": {
        "id": "vw0SZf-IT9lI",
        "colab_type": "code",
        "colab": {}
      },
      "source": [
        "decide_extract(carteira_georgia)"
      ],
      "execution_count": null,
      "outputs": []
    },
    {
      "cell_type": "markdown",
      "metadata": {
        "id": "ATX150AlT9lK",
        "colab_type": "text"
      },
      "source": [
        "### Name extractor"
      ]
    },
    {
      "cell_type": "code",
      "metadata": {
        "id": "0_kd2mmYT9lM",
        "colab_type": "code",
        "colab": {
          "base_uri": "https://localhost:8080/",
          "height": 390
        },
        "outputId": "214f4bf2-ac99-48e1-8197-fe5837fda7fa"
      },
      "source": [
        "nlp = spacy.load(\"en_core_web_md\")\n",
        "def name_extractor(carteira):\n",
        "    name_list = list()\n",
        "    doc = nlp(carteira)\n",
        "    for ent in doc.ents:\n",
        "        if ent.label_ == 'PERSON':\n",
        "            name_list.append(ent)\n",
        "            \n",
        "    return name_list"
      ],
      "execution_count": null,
      "outputs": [
        {
          "output_type": "error",
          "ename": "OSError",
          "evalue": "ignored",
          "traceback": [
            "\u001b[0;31m---------------------------------------------------------------------------\u001b[0m",
            "\u001b[0;31mOSError\u001b[0m                                   Traceback (most recent call last)",
            "\u001b[0;32m<ipython-input-10-31f96920317b>\u001b[0m in \u001b[0;36m<module>\u001b[0;34m()\u001b[0m\n\u001b[0;32m----> 1\u001b[0;31m \u001b[0mnlp\u001b[0m \u001b[0;34m=\u001b[0m \u001b[0mspacy\u001b[0m\u001b[0;34m.\u001b[0m\u001b[0mload\u001b[0m\u001b[0;34m(\u001b[0m\u001b[0;34m\"en_core_web_md\"\u001b[0m\u001b[0;34m)\u001b[0m\u001b[0;34m\u001b[0m\u001b[0;34m\u001b[0m\u001b[0m\n\u001b[0m\u001b[1;32m      2\u001b[0m \u001b[0;32mdef\u001b[0m \u001b[0mname_extractor\u001b[0m\u001b[0;34m(\u001b[0m\u001b[0mcarteira\u001b[0m\u001b[0;34m)\u001b[0m\u001b[0;34m:\u001b[0m\u001b[0;34m\u001b[0m\u001b[0;34m\u001b[0m\u001b[0m\n\u001b[1;32m      3\u001b[0m     \u001b[0mname_list\u001b[0m \u001b[0;34m=\u001b[0m \u001b[0mlist\u001b[0m\u001b[0;34m(\u001b[0m\u001b[0;34m)\u001b[0m\u001b[0;34m\u001b[0m\u001b[0;34m\u001b[0m\u001b[0m\n\u001b[1;32m      4\u001b[0m     \u001b[0mdoc\u001b[0m \u001b[0;34m=\u001b[0m \u001b[0mnlp\u001b[0m\u001b[0;34m(\u001b[0m\u001b[0mcarteira\u001b[0m\u001b[0;34m)\u001b[0m\u001b[0;34m\u001b[0m\u001b[0;34m\u001b[0m\u001b[0m\n\u001b[1;32m      5\u001b[0m     \u001b[0;32mfor\u001b[0m \u001b[0ment\u001b[0m \u001b[0;32min\u001b[0m \u001b[0mdoc\u001b[0m\u001b[0;34m.\u001b[0m\u001b[0ments\u001b[0m\u001b[0;34m:\u001b[0m\u001b[0;34m\u001b[0m\u001b[0;34m\u001b[0m\u001b[0m\n",
            "\u001b[0;32m/usr/local/lib/python3.6/dist-packages/spacy/__init__.py\u001b[0m in \u001b[0;36mload\u001b[0;34m(name, **overrides)\u001b[0m\n\u001b[1;32m     25\u001b[0m     \u001b[0;32mif\u001b[0m \u001b[0mdepr_path\u001b[0m \u001b[0;32mnot\u001b[0m \u001b[0;32min\u001b[0m \u001b[0;34m(\u001b[0m\u001b[0;32mTrue\u001b[0m\u001b[0;34m,\u001b[0m \u001b[0;32mFalse\u001b[0m\u001b[0;34m,\u001b[0m \u001b[0;32mNone\u001b[0m\u001b[0;34m)\u001b[0m\u001b[0;34m:\u001b[0m\u001b[0;34m\u001b[0m\u001b[0;34m\u001b[0m\u001b[0m\n\u001b[1;32m     26\u001b[0m         \u001b[0mdeprecation_warning\u001b[0m\u001b[0;34m(\u001b[0m\u001b[0mWarnings\u001b[0m\u001b[0;34m.\u001b[0m\u001b[0mW001\u001b[0m\u001b[0;34m.\u001b[0m\u001b[0mformat\u001b[0m\u001b[0;34m(\u001b[0m\u001b[0mpath\u001b[0m\u001b[0;34m=\u001b[0m\u001b[0mdepr_path\u001b[0m\u001b[0;34m)\u001b[0m\u001b[0;34m)\u001b[0m\u001b[0;34m\u001b[0m\u001b[0;34m\u001b[0m\u001b[0m\n\u001b[0;32m---> 27\u001b[0;31m     \u001b[0;32mreturn\u001b[0m \u001b[0mutil\u001b[0m\u001b[0;34m.\u001b[0m\u001b[0mload_model\u001b[0m\u001b[0;34m(\u001b[0m\u001b[0mname\u001b[0m\u001b[0;34m,\u001b[0m \u001b[0;34m**\u001b[0m\u001b[0moverrides\u001b[0m\u001b[0;34m)\u001b[0m\u001b[0;34m\u001b[0m\u001b[0;34m\u001b[0m\u001b[0m\n\u001b[0m\u001b[1;32m     28\u001b[0m \u001b[0;34m\u001b[0m\u001b[0m\n\u001b[1;32m     29\u001b[0m \u001b[0;34m\u001b[0m\u001b[0m\n",
            "\u001b[0;32m/usr/local/lib/python3.6/dist-packages/spacy/util.py\u001b[0m in \u001b[0;36mload_model\u001b[0;34m(name, **overrides)\u001b[0m\n\u001b[1;32m    137\u001b[0m     \u001b[0;32melif\u001b[0m \u001b[0mhasattr\u001b[0m\u001b[0;34m(\u001b[0m\u001b[0mname\u001b[0m\u001b[0;34m,\u001b[0m \u001b[0;34m\"exists\"\u001b[0m\u001b[0;34m)\u001b[0m\u001b[0;34m:\u001b[0m  \u001b[0;31m# Path or Path-like to model data\u001b[0m\u001b[0;34m\u001b[0m\u001b[0;34m\u001b[0m\u001b[0m\n\u001b[1;32m    138\u001b[0m         \u001b[0;32mreturn\u001b[0m \u001b[0mload_model_from_path\u001b[0m\u001b[0;34m(\u001b[0m\u001b[0mname\u001b[0m\u001b[0;34m,\u001b[0m \u001b[0;34m**\u001b[0m\u001b[0moverrides\u001b[0m\u001b[0;34m)\u001b[0m\u001b[0;34m\u001b[0m\u001b[0;34m\u001b[0m\u001b[0m\n\u001b[0;32m--> 139\u001b[0;31m     \u001b[0;32mraise\u001b[0m \u001b[0mIOError\u001b[0m\u001b[0;34m(\u001b[0m\u001b[0mErrors\u001b[0m\u001b[0;34m.\u001b[0m\u001b[0mE050\u001b[0m\u001b[0;34m.\u001b[0m\u001b[0mformat\u001b[0m\u001b[0;34m(\u001b[0m\u001b[0mname\u001b[0m\u001b[0;34m=\u001b[0m\u001b[0mname\u001b[0m\u001b[0;34m)\u001b[0m\u001b[0;34m)\u001b[0m\u001b[0;34m\u001b[0m\u001b[0;34m\u001b[0m\u001b[0m\n\u001b[0m\u001b[1;32m    140\u001b[0m \u001b[0;34m\u001b[0m\u001b[0m\n\u001b[1;32m    141\u001b[0m \u001b[0;34m\u001b[0m\u001b[0m\n",
            "\u001b[0;31mOSError\u001b[0m: [E050] Can't find model 'en_core_web_md'. It doesn't seem to be a shortcut link, a Python package or a valid path to a data directory."
          ]
        }
      ]
    },
    {
      "cell_type": "code",
      "metadata": {
        "id": "xTPiLm_jT9lP",
        "colab_type": "code",
        "colab": {}
      },
      "source": [
        "name_extractor(carteira_utah)"
      ],
      "execution_count": null,
      "outputs": []
    },
    {
      "cell_type": "code",
      "metadata": {
        "id": "8AWSBRBHT9lR",
        "colab_type": "code",
        "colab": {}
      },
      "source": [
        "def get_human_names(text):\n",
        "    tokens = nltk.tokenize.word_tokenize(text)\n",
        "    pos = nltk.pos_tag(tokens)\n",
        "    sentt = nltk.ne_chunk(pos, binary = False)\n",
        "    person_list = []\n",
        "    person = []\n",
        "    name = \"\"\n",
        "    for subtree in sentt.subtrees(filter=lambda t: t.label() == 'PERSON'):\n",
        "        for leaf in subtree.leaves():\n",
        "            person.append(leaf[0])\n",
        "        if len(person) > 1: #avoid grabbing lone surnames\n",
        "            for part in person:\n",
        "                name += part + ' '\n",
        "            if name[:-1] not in person_list:\n",
        "                person_list.append(name[:-1])\n",
        "            name = ''\n",
        "        person = []\n",
        "\n",
        "    return (person_list)\n",
        "\n",
        "\n",
        "names = get_human_names(filtered_text)\n",
        "print(\"LAST, FIRST\")\n",
        "for name in names: \n",
        "    last_first = HumanName(name).last + ', ' + HumanName(name).first\n",
        "    print(last_first)"
      ],
      "execution_count": null,
      "outputs": []
    },
    {
      "cell_type": "code",
      "metadata": {
        "id": "J4dFInEIT9lU",
        "colab_type": "code",
        "colab": {}
      },
      "source": [
        "stopwords = ['florida', 'exp', 'dob', 'iss', 'eyes', 'driver',\n",
        "             'license', 'class', 'state', 'motor', 'constitutes',\n",
        "             'to', 'is', 'an', 'any', 'sex', 'usa', 'georgia', 'utah',\n",
        "             'wgt', 'rest', 'blu', 'bro', 'brn', 'blk', 'hzl', 'end', \n",
        "             'none', 'replace', 'operation', 'exp', 'rest', 'hgt', 'bln',\n",
        "             'usa', 'driver\\'s', 'lb', 'dl no', 'dd', 'medical', 'information', 'governor',\n",
        "             '/', ')', '(']\n",
        "\n",
        "def filter_dl(carteira):\n",
        "    for word in stopwords:\n",
        "        if word in carteira:\n",
        "            carteira = carteira.replace(\" \" + word + \" \", \" \")\n",
        "    \n",
        "    return carteira"
      ],
      "execution_count": null,
      "outputs": []
    },
    {
      "cell_type": "code",
      "metadata": {
        "id": "pw2XCZFIT9lW",
        "colab_type": "code",
        "colab": {}
      },
      "source": [
        "carteira_georgia = 'usa ( georgia driver\\'s license governor moton dut 010382 dl no. 049938575 dob 01/03/1982 class c exp 01/03/2027 celetha qen thompson commissioner 273 plantation dr east point sa 30344-2272 fulton resulctions a end none iss 01/05/2019 sex f eyes bro hgt 5-06\" wgt 172 lb dd 368039938510048651 althe hann urgent medical information on reverse donor usa(georgiadriver\\'slicensegovernormotondut010382dlno.049938575dob01/03/1982classcexp01/03/2027celethaqenthompsoncommissioner273plantationdreastpointsa30344-2272fultonresulctionsaendnoneiss01/05/2019sexfeyesbrohgt5-06\"wgt172lbdd368039938510048651althehannurgentmedicalinformationonreversedonor'\n",
        "filtered = filter_dl(carteira_georgia)\n",
        "filtered"
      ],
      "execution_count": null,
      "outputs": []
    },
    {
      "cell_type": "code",
      "metadata": {
        "id": "--jEuAboT9lZ",
        "colab_type": "code",
        "colab": {}
      },
      "source": [
        "name_extractor(filtered)"
      ],
      "execution_count": null,
      "outputs": []
    },
    {
      "cell_type": "code",
      "metadata": {
        "id": "S4ZQM6oaT9ld",
        "colab_type": "code",
        "colab": {}
      },
      "source": [
        "for word in stopwords:\n",
        "    if word in carteira_utah:\n",
        "        carteira_florida = carteira_florida.replace(\" \" + word + \" \", \" \")\n",
        "carteira_florida"
      ],
      "execution_count": null,
      "outputs": []
    },
    {
      "cell_type": "markdown",
      "metadata": {
        "id": "JZphTPxxT9le",
        "colab_type": "text"
      },
      "source": [
        "### Location extractor"
      ]
    },
    {
      "cell_type": "code",
      "metadata": {
        "id": "_iB2k2WIT9lf",
        "colab_type": "code",
        "colab": {}
      },
      "source": [
        "\n",
        "def location_extractor(carteira):\n",
        "    doc = nlp(carteira)\n",
        "    loc_list = list()\n",
        "    for ent in doc.ents:\n",
        "        if ent.label_ == 'GPE':\n",
        "            loc_list.append(ent.text)\n",
        "    \n",
        "    return loc_list"
      ],
      "execution_count": null,
      "outputs": []
    },
    {
      "cell_type": "code",
      "metadata": {
        "id": "5ULi0ALjT9li",
        "colab_type": "code",
        "colab": {}
      },
      "source": [
        "location_extractor(\"p. florida usa grigat .. driver license 9 class e *o dilm230-073-83-470-0 40dln macedo 2bruno miguel de pina a1339 sand lime rd winter garden, fl 34787-4291 3dob 12/30/1983 15 sex m 4b exp 12/30/202016 hgt 5-11\\\" 12 rest none si safe driver 31d0b suns staf t83 9a end none 1de hesunghi a5/eive arriv tate 4a iss 12/12/2012 ine 5 dd g711906070623 oooinoooo arrivealive replaced 06/07/2019 suneh veteran m he state operation of a motor vehicle constitutes consent to any sobriety test required by law. donor 10000000 tri \")"
      ],
      "execution_count": null,
      "outputs": []
    },
    {
      "cell_type": "code",
      "metadata": {
        "id": "wdr2c5hYT9ll",
        "colab_type": "code",
        "colab": {}
      },
      "source": [
        "nlp = spacy.load(\"en_core_web_md\")\n",
        "doc = nlp(\"049938575 01/03/1982 c 01/03/2027 \")\n",
        "\n",
        "for ent in doc.ents:\n",
        "    print(ent)"
      ],
      "execution_count": null,
      "outputs": []
    },
    {
      "cell_type": "code",
      "metadata": {
        "id": "VhyDMN5hT9ln",
        "colab_type": "code",
        "colab": {}
      },
      "source": [
        "result = re.sub('(\\d)|(-)|(/)',' ',carteira_florida) \n",
        "result"
      ],
      "execution_count": null,
      "outputs": []
    },
    {
      "cell_type": "markdown",
      "metadata": {
        "id": "JJxS73T5T9lp",
        "colab_type": "text"
      },
      "source": [
        "### Setting to OOP"
      ]
    },
    {
      "cell_type": "code",
      "metadata": {
        "id": "1y1xA47BT9lp",
        "colab_type": "code",
        "colab": {}
      },
      "source": [
        "import re\n",
        "import spacy\n",
        "\n",
        "class driver_license:\n",
        "\n",
        "    def __init__(self, text):\n",
        "        self.text = text\n",
        "        \n",
        "        \n",
        "        self.name_stopwords = ['florida', 'exp', 'dob', 'iss', 'eyes', 'driver',\n",
        "                       'license', 'class', 'state', 'motor', 'constitutes',\n",
        "                       'to', 'is', 'an', 'any', 'sex', 'usa', 'georgia', 'utah',\n",
        "                       'wgt', 'rest', 'blu', 'bro', 'brn', 'blk', 'hzl', 'end',\n",
        "                       'none', 'replace', 'operation', 'exp', 'rest', 'hgt', 'bln',\n",
        "                       'usa', 'driver\\'s', 'lb', 'dl no', 'dd', 'medical', 'information', 'governor',\n",
        "                       '/', ')', '(', 'governory', 'comissioner', 'restriction', 'restrictions',\n",
        "                       'donor', 'aclass', 'dln', 'oooinoooo', 'arrivealive', 'veteran']\n",
        "        \n",
        "        \n",
        "    def state(self):\n",
        "\n",
        "        florida_re = re.search(r' ?f?l?(orid)a? ?', str(self.text))\n",
        "        dln_florida_re = re.search('(\\D{1}\\d{3}-\\d{1,3}-\\d{1,3}-\\d{1,3}-\\d{1})', str(self.text))\n",
        "        georgia_re = re.search(r' ?g?(eorgi)a? ?', str(self.text))\n",
        "        utah_re = re.search(r' ?(utah) ?', str(self.text))\n",
        "        \n",
        "        if florida_re or dln_florida_re:\n",
        "            self.state = 'florida'\n",
        "        elif georgia_re:\n",
        "            state = 'georgia'\n",
        "        elif utah_re:\n",
        "            self.state = 'utah'\n",
        "        else: \n",
        "            self.state = 'outlier'\n",
        "\n",
        "        return self.state\n",
        "    \n",
        "    \n",
        "    def info(self):\n",
        "    # From the state_classifier output, decide which extractor to use:\n",
        "        if self.state == 'florida':\n",
        "            \n",
        "            self.info = dict()\n",
        "            \n",
        "            s = re.search(r'((?<=sex )([f|m]))', str(self.text))\n",
        "            o = re.search(r' ?(blu)|(bro)|(blk)|(hzl)|(grn) ?', str(self.text))\n",
        "            exp = re.search(r'(?<=exp )(\\d{1,2}/\\d{1,2}/\\d{1,4})', str(self.text))\n",
        "            dl = re.search('(\\D{1}\\d{3}-\\d{1,3}-\\d{1,3}-\\d{1,3}-\\d{1})', str(self.text))\n",
        "            n = re.search(r'(?<=[(dob )|(date of birth )] )(\\d{1,2}/\\d{1,2}/\\d{1,4})', str(self.text))\n",
        "            cl = re.search(r'(?<=[9 |class ])([a|b|c|e|])', str(self.text))\n",
        "            # Setando o número mínimo de argumentos aceitos para 3:\n",
        "            num = (bool(s) + bool(o) + bool(n) + bool(exp) + bool(dl))\n",
        "            # Caso a quantia de argumentos aceitos seja igual/maior a 3, será adicionada a carteira no dicionario:\n",
        "            if num >= 2:\n",
        "                \n",
        "                self.info[self.text] = dict(sex=s.group() if not s is None else '',\n",
        "                                                 eyes=o.group() if not o is None else '',\n",
        "                                                 expiration_date=exp.group() if not exp is None else '',\n",
        "                                                 dl_number=dl.group() if not dl is None else '',\n",
        "                                                 birth_date=n.group() if not n is None else '',\n",
        "                                                 name=self.name,\n",
        "                                                 #location=location_extractor(carteira),\n",
        "                                                 dl_class=cl.group() if not cl is None else '')\n",
        "\n",
        "            return self.info\n",
        "\n",
        "        elif self.state == 'georgia':\n",
        "            self.info = dict()\n",
        "            s = re.search(r'((?<=sex )([f|m]))', str(self.text))\n",
        "            o = re.search(r' ?(blu)|(bro)|(blk)|(hzl)|(grn) ?', str(self.text))\n",
        "            exp = re.search(r'(?<=exp )(\\d{1,2}/\\d{1,2}/\\d{1,4})', str(self.text))\n",
        "            dl = re.search(r'(?<=(dl no. |dl no.)(\\d{6,12})', str(self.text))\n",
        "            n = re.search(r'(?<=[dob |date of birth ] )(\\d{1,2}/\\d{1,2}/\\d{1,4})', str(self.text))\n",
        "            cl = re.search(r'(?<=class )([a|b|c|e|f|p|m])', str(self.text))\n",
        "            # Setando o número mínimo de argumentos aceitos para 3:\n",
        "            num = (bool(s) + bool(o) + bool(n) + bool(exp) + bool(dl))\n",
        "            # Caso a quantia de argumentos aceitos seja igual/maior a 3, será adicionada a carteira no dicionario:\n",
        "            if num >= 2:\n",
        "                \n",
        "                self.info[self.text] = dict(sex=s.group() if not s is None else '',\n",
        "                                                 eyes=o.group() if not o is None else '',\n",
        "                                                 expiration_date=exp.group() if not exp is None else '',\n",
        "                                                 dl_number=dl.group() if not dl is None else '',\n",
        "                                                 birth_date=n.group() if not n is None else '',\n",
        "                                                 name=self.name,\n",
        "                                                 #location=location_extractor(carteira),\n",
        "                                                 dl_class=cl.group() if not cl is None else '')\n",
        "\n",
        "            return self.info\n",
        "\n",
        "        elif self.state == 'utah':\n",
        "            \n",
        "            self.info = dict()\n",
        "            \n",
        "            s = re.search(r'((?<=sex )([f|m]))', str(self.text))\n",
        "            o = re.search(r' ?(blu)|(bro)|(blk)|(hzl)|(grn) ?', str(self.text))\n",
        "            exp = re.search(r'(?<=exp )(\\d{1,2}/\\d{1,2}/\\d{1,4})', str(self.text))\n",
        "            dl = re.search(r'(\\d{9})', str(self.text))\n",
        "            n = re.search(r'(?<=[dob |date of birth ] )(\\d{1,2}/\\d{1,2}/\\d{1,4})', str(self.text))\n",
        "            cl = re.search(r'(?<=class )([a|b|c|d|e|f|p|m])', str(self.text))\n",
        "            # Setando o número mínimo de argumentos aceitos para 3:\n",
        "            num = (bool(s) + bool(o) + bool(n) + bool(exp) + bool(dl))\n",
        "            # Caso a quantia de argumentos aceitos seja igual/maior a 3, será adicionada a carteira no dicionario:\n",
        "            if num >= 2:\n",
        "                \n",
        "                self.info[self.text] = dict(sex=s.group() if not s is None else '',\n",
        "                                              eyes=o.group() if not o is None else '',\n",
        "                                              expiration_date=exp.group() if not exp is None else '',\n",
        "                                              dl_number=dl.group() if not dl is None else '',\n",
        "                                              birth_date=n.group() if not n is None else '',\n",
        "                                              name=self.name,\n",
        "                                              #location=location_extractor(carteira),\n",
        "                                              dl_class=cl.group() if not cl is None else '')\n",
        "                \n",
        "            \n",
        "            return self.info\n",
        "        \n",
        "    def name(self):\n",
        "        name_list = list()\n",
        "        \n",
        "        stopwords_names = ['florida', 'exp', 'dob', 'iss', 'eyes', 'driver',\n",
        "                       'license', 'class', 'state', 'motor', 'constitutes',\n",
        "                       'to', 'is', 'an', 'any', 'sex', 'usa', 'georgia', 'utah',\n",
        "                       'wgt', 'rest', 'blu', 'bro', 'brn', 'blk', 'hzl', 'end',\n",
        "                       'none', 'replace', 'operation', 'exp', 'rest', 'hgt', 'bln',\n",
        "                       'usa', 'driver\\'s', 'lb', 'dl no', 'dd', 'medical', 'information', 'governor',\n",
        "                       '/', ')', '(', 'governory', 'comissioner', 'restriction', 'restrictions',\n",
        "                       'donor', 'aclass', 'dln', 'oooinoooo', 'arrivealive', 'veteran']\n",
        "        \n",
        "        \n",
        "        def filter_for_name_dl(carteira):\n",
        "            \n",
        "            for word in self.name_stopwords:\n",
        "                \n",
        "                if word in carteira:\n",
        "                    carteira = carteira.replace(\" \" + word + \" \", \" \")\n",
        "                    carteira = re.sub('(\\d)|(-)|(/)', ' ', carteira)\n",
        "                    \n",
        "            return carteira\n",
        "        \n",
        "        nlp = spacy.load('en_core_web_md')\n",
        "        doc = nlp(filter_for_name_dl(self.text))\n",
        "        \n",
        "        for ent in doc.ents:\n",
        "            if ent.label_ == 'PERSON':\n",
        "                name_list.append(ent.text)\n",
        "        \n",
        "        self.name = name_list\n",
        "        \n",
        "        \n",
        "        return self.name\n",
        "        \n",
        "    "
      ],
      "execution_count": null,
      "outputs": []
    },
    {
      "cell_type": "code",
      "metadata": {
        "id": "rlNzn_Z-T9lr",
        "colab_type": "code",
        "colab": {}
      },
      "source": [
        "dl = driver_license(\"p. florida usa grigat .. driver license 9 class e *o dilm230-073-83-470-0 40dln macedo 2bruno miguel de pina a1339 sand lime rd winter garden, fl 34787-4291 3dob 12/30/1983 15 sex m 4b exp 12/30/202016 hgt 5-11 12 rest none si safe driver 31d0b suns staf t83 9a end none 1de hesunghi a5/eive arriv tate 4a iss 12/12/2012 ine 5 dd g711906070623 oooinoooo arrivealive replaced 06/07/2019 suneh veteran m he state operation of a motor vehicle constitutes consent to any sobriety test required by law. donor 10000000 tri\")\n",
        "dl.info(), dl.name()"
      ],
      "execution_count": null,
      "outputs": []
    },
    {
      "cell_type": "code",
      "metadata": {
        "id": "9D7uhUZjT9lu",
        "colab_type": "code",
        "colab": {}
      },
      "source": [
        ""
      ],
      "execution_count": null,
      "outputs": []
    }
  ]
}