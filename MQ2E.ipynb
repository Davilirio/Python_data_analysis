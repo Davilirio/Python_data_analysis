{
  "nbformat": 4,
  "nbformat_minor": 0,
  "metadata": {
    "colab": {
      "name": "MQ2E.ipynb",
      "provenance": [],
      "collapsed_sections": [],
      "authorship_tag": "ABX9TyNsLxQ0qUT2aoAlyEoGxcIr",
      "include_colab_link": true
    },
    "kernelspec": {
      "name": "python3",
      "display_name": "Python 3"
    }
  },
  "cells": [
    {
      "cell_type": "markdown",
      "metadata": {
        "id": "view-in-github",
        "colab_type": "text"
      },
      "source": [
        "<a href=\"https://colab.research.google.com/github/Davilirio/Python_data_analysis/blob/master/MQ2E.ipynb\" target=\"_parent\"><img src=\"https://colab.research.google.com/assets/colab-badge.svg\" alt=\"Open In Colab\"/></a>"
      ]
    },
    {
      "cell_type": "code",
      "metadata": {
        "id": "LJKLY54wXt5U",
        "colab": {
          "base_uri": "https://localhost:8080/"
        },
        "outputId": "a5a9e39d-28a6-4936-966a-1ffde5a13a7d"
      },
      "source": [
        "!pip install linearmodels"
      ],
      "execution_count": 2,
      "outputs": [
        {
          "output_type": "stream",
          "text": [
            "Collecting linearmodels\n",
            "\u001b[?25l  Downloading https://files.pythonhosted.org/packages/33/98/9606898621df26cad70021f928ab977926a7ed6ad30a10572cc93f67a970/linearmodels-4.17-cp36-cp36m-manylinux1_x86_64.whl (1.5MB)\n",
            "\u001b[K     |████████████████████████████████| 1.5MB 6.0MB/s \n",
            "\u001b[?25hRequirement already satisfied: scipy>=1 in /usr/local/lib/python3.6/dist-packages (from linearmodels) (1.4.1)\n",
            "Requirement already satisfied: patsy in /usr/local/lib/python3.6/dist-packages (from linearmodels) (0.5.1)\n",
            "Collecting mypy-extensions>=0.4\n",
            "  Downloading https://files.pythonhosted.org/packages/5c/eb/975c7c080f3223a5cdaff09612f3a5221e4ba534f7039db34c35d95fa6a5/mypy_extensions-0.4.3-py2.py3-none-any.whl\n",
            "Requirement already satisfied: pandas>=0.23 in /usr/local/lib/python3.6/dist-packages (from linearmodels) (1.1.5)\n",
            "Requirement already satisfied: Cython>=0.29.14 in /usr/local/lib/python3.6/dist-packages (from linearmodels) (0.29.21)\n",
            "Requirement already satisfied: numpy>=1.15 in /usr/local/lib/python3.6/dist-packages (from linearmodels) (1.19.4)\n",
            "Collecting property-cached>=1.6.3\n",
            "  Downloading https://files.pythonhosted.org/packages/5c/6c/94d8e520b20a2502e508e1c558f338061cf409cbee78fd6a3a5c6ae812bd/property_cached-1.6.4-py2.py3-none-any.whl\n",
            "Requirement already satisfied: statsmodels>=0.9 in /usr/local/lib/python3.6/dist-packages (from linearmodels) (0.10.2)\n",
            "Requirement already satisfied: six in /usr/local/lib/python3.6/dist-packages (from patsy->linearmodels) (1.15.0)\n",
            "Requirement already satisfied: pytz>=2017.2 in /usr/local/lib/python3.6/dist-packages (from pandas>=0.23->linearmodels) (2018.9)\n",
            "Requirement already satisfied: python-dateutil>=2.7.3 in /usr/local/lib/python3.6/dist-packages (from pandas>=0.23->linearmodels) (2.8.1)\n",
            "Installing collected packages: mypy-extensions, property-cached, linearmodels\n",
            "Successfully installed linearmodels-4.17 mypy-extensions-0.4.3 property-cached-1.6.4\n"
          ],
          "name": "stdout"
        }
      ]
    },
    {
      "cell_type": "code",
      "metadata": {
        "id": "DlYdv0fvLd2C"
      },
      "source": [
        "import numpy as np\n",
        "import statsmodels.api as sm\n",
        "from statsmodels.formula.api import ols\n",
        "from scipy.ndimage.interpolation import shift\n",
        "import pandas as pd\n",
        "import matplotlib.pyplot as plt\n",
        "from statsmodels.sandbox.regression.gmm import IV2SLS as sls\n",
        "from linearmodels.iv import IV2SLS"
      ],
      "execution_count": 3,
      "outputs": []
    },
    {
      "cell_type": "code",
      "metadata": {
        "colab": {
          "base_uri": "https://localhost:8080/"
        },
        "id": "thVJt9yRfSKq",
        "outputId": "59760bed-8a4a-4efb-c31d-5fcfcea6f51a"
      },
      "source": [
        "x = [9.384037\t\t,12.49205\t\t,10.15123\t\t,3.969234\t\t,11.22021\t\t,7.053592\t\t,11.21397\t\t,12.92253\t\t,5.260528\t\t,9.245915\t\t,12.23626\t\t,12.62259\t\t,10.76048\t\t,12.52159\t\t,8.596485\t\t,13.82085\t\t,7.229485\t\t,12.59341\t\t,8.587203\t\t,10.61918\t\t,6.158685\t\t,8.334646\t\t,14.77749\t\t,12.51743\t\t,9.898167\t\t,12.00444\t\t,13.82187\t\t,10.57086\t\t,9.373612\t\t,13.00577\t\t,10.001\t\t,13.13393\t\t,17.23179\t\t,11.5966\t\t,9.242477\t\t,1.639814\t\t,9.865471\t\t,15.59969\t\t,9.507248\t\t,11.0872\t\t,10.35309\t\t,16.70251\t\t,15.07791\t\t,9.933088\t\t,12.03716\t\t,15.96111\t\t,9.794756\t\t,6.223539\t\t,6.128167\t\t,6.080409\t\t,13.06767\t\t,8.728737\t\t,10.24003\t\t,16.15474\t\t,13.02866\t\t,12.77594\t\t,13.78554\t\t,12.47706\t\t,10.96659\t\t,4.014013\t\t,15.72047\t\t,4.404097\t\t,13.03976\t\t,7.524463\t\t,9.439558\t\t,5.144634\t\t,11.48883\t\t,9.110517\t\t,11.63254\t\t,11.68001\t\t,11.27001\t\t,10.97662\t\t,12.4446\t\t,12.7265\t\t,10.36107\t\t,6.382313\t\t,12.67794\t\t,10.52474\t\t,14.45934\t\t,8.914623\t\t,8.562088\t\t,9.93448\t\t,11.11299\t\t,14.98805\t\t,15.76222\t\t,10.80198\t\t,9.946788\t\t,4.821705\t\t,9.602241\t\t,9.785084\t\t]\n",
        "len(x)"
      ],
      "execution_count": 55,
      "outputs": [
        {
          "output_type": "execute_result",
          "data": {
            "text/plain": [
              "90"
            ]
          },
          "metadata": {
            "tags": []
          },
          "execution_count": 55
        }
      ]
    },
    {
      "cell_type": "code",
      "metadata": {
        "colab": {
          "base_uri": "https://localhost:8080/"
        },
        "id": "3YLXOoUwfY7r",
        "outputId": "2f105eca-8880-4c15-a7c8-330d9dee88ff"
      },
      "source": [
        "y=[\t\t69.56599,\t\t70.93386,\t\t67.13956,\t\t52.94334,\t\t60.85608,\t\t56.86313,\t\t63.83839,\t\t71.32599,\t\t58.90408,\t\t59.98986,\t\t66.67406,\t\t69.81581,\t\t70.42963,\t\t74.09744,\t\t67.96977,\t\t74.29905,\t\t65.61272,\t\t70.71265,\t\t64.43282,\t\t64.37928,\t\t56.97442,\t\t56.84522,\t\t69.42366,\t\t71.19716,\t\t67.4888,\t\t70.10452,\t\t73.89326,\t\t71.14352,\t\t66.53094,\t\t71.50073,\t67.91754,\t\t73.2056,\t\t84.23586,\t78.43824,\t\t71.01487,\t\t52.31186,\t\t59.90692,\t\t74.60895,\t\t68.61565,\t69.89749,\t\t68.88191,\t\t81.27016,\t\t84.79838,\t\t76.52046,\t\t76.17368,\t\t81.86633,\t\t71.552,\t\t59.48807,\t\t52.08296,\t\t47.71331,\t\t59.84106,\t\t55.49755,\t\t58.29302,\t\t72.74291,\t\t72.32827,\t\t71.89715,\t\t74.87852,\t\t73.12127,\t\t69.03547,\t\t52.41491,\t\t68.21809,\t\t52.92928,\t\t62.25097,\t\t58.08406,\t\t59.27546,\t\t52.33179,\t\t62.58669,\t\t62.57345,\t\t68.40366,\t\t71.4606,\t\t73.24609,\t\t73.09506,\t74.18145,\t75.85994,\t\t72.53261,\t\t63.16094,\t\t70.98943,\t\t70.26633,\t\t75.91901,\t\t65.85706,\t\t60.62146,\t59.54728,\t\t61.82454,\t\t70.09711,\t\t76.07267,\t\t68.19608,\t\t63.16901,\t\t50.94413,\t\t55.95074,\t\t58.97906]\n",
        "len(y)"
      ],
      "execution_count": 56,
      "outputs": [
        {
          "output_type": "execute_result",
          "data": {
            "text/plain": [
              "90"
            ]
          },
          "metadata": {
            "tags": []
          },
          "execution_count": 56
        }
      ]
    },
    {
      "cell_type": "code",
      "metadata": {
        "id": "trTkxDvM_G9R"
      },
      "source": [
        "def mq2e(y, x):\n",
        "  \n",
        "  df = pd.DataFrame()\n",
        "  \n",
        "  # criando as colunas para o minimo quadrado em 2 estagios\n",
        "  df['x'] = x\n",
        "  df['x_lag'] = df['x'].shift(1)\n",
        "  df['y'] = y\n",
        "  df['y_lag'] = df['y'].shift(1)\n",
        "  df['Intercept'] = 1\n",
        "\n",
        "  mq2e = IV2SLS(dependent=df['y'],\n",
        "            exog=df[['Intercept','x']],\n",
        "            endog=df['y_lag'],\n",
        "            instruments=df['x_lag'])\n",
        "\n",
        "  mq2e_fitted = mq2e.fit()\n",
        "\n",
        "  reg = ols(formula = 'y ~ y_lag + x', data = df)\n",
        "  OLS = reg.fit()\n",
        "\n",
        "  ols_params = OLS.params\n",
        "  mq2e_params = mq2e_fitted.params\n",
        "\n",
        "  bias = dict()\n",
        "\n",
        "  bias['vies_beta1'] = ols_params['Intercept'] - mq2e_params['Intercept']\n",
        "  bias['vies_beta2'] = ols_params['y_lag'] - mq2e_params['y_lag']\n",
        "  bias['vies_beta3'] = ols_params['x'] - mq2e_params['x']\n",
        "\n",
        "  # print(OLS.)\n",
        "\n",
        "  return mq2e_fitted.summary, OLS.summary(), bias, df"
      ],
      "execution_count": 38,
      "outputs": []
    },
    {
      "cell_type": "code",
      "metadata": {
        "id": "K7q1BS2pJgLi",
        "colab": {
          "base_uri": "https://localhost:8080/"
        },
        "outputId": "55db8830-b816-44ea-d567-9af12c81014a"
      },
      "source": [
        "iv2sls, mqo, vies, df = mq2e(y, x)"
      ],
      "execution_count": 57,
      "outputs": [
        {
          "output_type": "stream",
          "text": [
            "/usr/local/lib/python3.6/dist-packages/linearmodels/iv/data.py:25: FutureWarning: is_categorical is deprecated and will be removed in a future version.  Use is_categorical_dtype instead\n",
            "  if is_categorical(s):\n",
            "/usr/local/lib/python3.6/dist-packages/linearmodels/utility.py:549: MissingValueWarning: \n",
            "Inputs contain missing values. Dropping rows with missing observations.\n",
            "  warnings.warn(missing_value_warning_msg, MissingValueWarning)\n"
          ],
          "name": "stderr"
        }
      ]
    },
    {
      "cell_type": "code",
      "metadata": {
        "colab": {
          "base_uri": "https://localhost:8080/",
          "height": 465
        },
        "id": "izOHMgx5QWJe",
        "outputId": "71f82b77-0241-4249-d4f9-ada94521750a"
      },
      "source": [
        "mqo"
      ],
      "execution_count": 58,
      "outputs": [
        {
          "output_type": "execute_result",
          "data": {
            "text/html": [
              "<table class=\"simpletable\">\n",
              "<caption>OLS Regression Results</caption>\n",
              "<tr>\n",
              "  <th>Dep. Variable:</th>            <td>y</td>        <th>  R-squared:         </th> <td>   0.965</td>\n",
              "</tr>\n",
              "<tr>\n",
              "  <th>Model:</th>                   <td>OLS</td>       <th>  Adj. R-squared:    </th> <td>   0.964</td>\n",
              "</tr>\n",
              "<tr>\n",
              "  <th>Method:</th>             <td>Least Squares</td>  <th>  F-statistic:       </th> <td>   1179.</td>\n",
              "</tr>\n",
              "<tr>\n",
              "  <th>Date:</th>             <td>Thu, 17 Dec 2020</td> <th>  Prob (F-statistic):</th> <td>3.08e-63</td>\n",
              "</tr>\n",
              "<tr>\n",
              "  <th>Time:</th>                 <td>21:05:00</td>     <th>  Log-Likelihood:    </th> <td> -162.52</td>\n",
              "</tr>\n",
              "<tr>\n",
              "  <th>No. Observations:</th>      <td>    89</td>      <th>  AIC:               </th> <td>   331.0</td>\n",
              "</tr>\n",
              "<tr>\n",
              "  <th>Df Residuals:</th>          <td>    86</td>      <th>  BIC:               </th> <td>   338.5</td>\n",
              "</tr>\n",
              "<tr>\n",
              "  <th>Df Model:</th>              <td>     2</td>      <th>                     </th>     <td> </td>   \n",
              "</tr>\n",
              "<tr>\n",
              "  <th>Covariance Type:</th>      <td>nonrobust</td>    <th>                     </th>     <td> </td>   \n",
              "</tr>\n",
              "</table>\n",
              "<table class=\"simpletable\">\n",
              "<tr>\n",
              "      <td></td>         <th>coef</th>     <th>std err</th>      <th>t</th>      <th>P>|t|</th>  <th>[0.025</th>    <th>0.975]</th>  \n",
              "</tr>\n",
              "<tr>\n",
              "  <th>Intercept</th> <td>    7.6972</td> <td>    1.465</td> <td>    5.255</td> <td> 0.000</td> <td>    4.785</td> <td>   10.609</td>\n",
              "</tr>\n",
              "<tr>\n",
              "  <th>y_lag</th>     <td>    0.5581</td> <td>    0.020</td> <td>   27.457</td> <td> 0.000</td> <td>    0.518</td> <td>    0.599</td>\n",
              "</tr>\n",
              "<tr>\n",
              "  <th>x</th>         <td>    2.0353</td> <td>    0.052</td> <td>   39.394</td> <td> 0.000</td> <td>    1.933</td> <td>    2.138</td>\n",
              "</tr>\n",
              "</table>\n",
              "<table class=\"simpletable\">\n",
              "<tr>\n",
              "  <th>Omnibus:</th>       <td> 3.582</td> <th>  Durbin-Watson:     </th> <td>   0.477</td>\n",
              "</tr>\n",
              "<tr>\n",
              "  <th>Prob(Omnibus):</th> <td> 0.167</td> <th>  Jarque-Bera (JB):  </th> <td>   3.114</td>\n",
              "</tr>\n",
              "<tr>\n",
              "  <th>Skew:</th>          <td>-0.362</td> <th>  Prob(JB):          </th> <td>   0.211</td>\n",
              "</tr>\n",
              "<tr>\n",
              "  <th>Kurtosis:</th>      <td> 2.439</td> <th>  Cond. No.          </th> <td>    617.</td>\n",
              "</tr>\n",
              "</table><br/><br/>Warnings:<br/>[1] Standard Errors assume that the covariance matrix of the errors is correctly specified."
            ],
            "text/plain": [
              "<class 'statsmodels.iolib.summary.Summary'>\n",
              "\"\"\"\n",
              "                            OLS Regression Results                            \n",
              "==============================================================================\n",
              "Dep. Variable:                      y   R-squared:                       0.965\n",
              "Model:                            OLS   Adj. R-squared:                  0.964\n",
              "Method:                 Least Squares   F-statistic:                     1179.\n",
              "Date:                Thu, 17 Dec 2020   Prob (F-statistic):           3.08e-63\n",
              "Time:                        21:05:00   Log-Likelihood:                -162.52\n",
              "No. Observations:                  89   AIC:                             331.0\n",
              "Df Residuals:                      86   BIC:                             338.5\n",
              "Df Model:                           2                                         \n",
              "Covariance Type:            nonrobust                                         \n",
              "==============================================================================\n",
              "                 coef    std err          t      P>|t|      [0.025      0.975]\n",
              "------------------------------------------------------------------------------\n",
              "Intercept      7.6972      1.465      5.255      0.000       4.785      10.609\n",
              "y_lag          0.5581      0.020     27.457      0.000       0.518       0.599\n",
              "x              2.0353      0.052     39.394      0.000       1.933       2.138\n",
              "==============================================================================\n",
              "Omnibus:                        3.582   Durbin-Watson:                   0.477\n",
              "Prob(Omnibus):                  0.167   Jarque-Bera (JB):                3.114\n",
              "Skew:                          -0.362   Prob(JB):                        0.211\n",
              "Kurtosis:                       2.439   Cond. No.                         617.\n",
              "==============================================================================\n",
              "\n",
              "Warnings:\n",
              "[1] Standard Errors assume that the covariance matrix of the errors is correctly specified.\n",
              "\"\"\""
            ]
          },
          "metadata": {
            "tags": []
          },
          "execution_count": 58
        }
      ]
    },
    {
      "cell_type": "code",
      "metadata": {
        "colab": {
          "base_uri": "https://localhost:8080/",
          "height": 371
        },
        "id": "2gNswc_GB2nF",
        "outputId": "149a392c-22bc-4100-e9d0-61c2c8da3767"
      },
      "source": [
        "iv2sls"
      ],
      "execution_count": 59,
      "outputs": [
        {
          "output_type": "execute_result",
          "data": {
            "text/html": [
              "<table class=\"simpletable\">\n",
              "<caption>IV-2SLS Estimation Summary</caption>\n",
              "<tr>\n",
              "  <th>Dep. Variable:</th>            <td>y</td>        <th>  R-squared:         </th> <td>0.9620</td> \n",
              "</tr>\n",
              "<tr>\n",
              "  <th>Estimator:</th>             <td>IV-2SLS</td>     <th>  Adj. R-squared:    </th> <td>0.9611</td> \n",
              "</tr>\n",
              "<tr>\n",
              "  <th>No. Observations:</th>        <td>89</td>        <th>  F-statistic:       </th> <td>1913.3</td> \n",
              "</tr>\n",
              "<tr>\n",
              "  <th>Date:</th>             <td>Thu, Dec 17 2020</td> <th>  P-value (F-stat)   </th> <td>0.0000</td> \n",
              "</tr>\n",
              "<tr>\n",
              "  <th>Time:</th>                 <td>21:05:00</td>     <th>  Distribution:      </th> <td>chi2(2)</td>\n",
              "</tr>\n",
              "<tr>\n",
              "  <th>Cov. Estimator:</th>        <td>robust</td>      <th>                     </th>    <td></td>    \n",
              "</tr>\n",
              "<tr>\n",
              "  <th></th>                          <td></td>         <th>                     </th>    <td></td>    \n",
              "</tr>\n",
              "</table>\n",
              "<table class=\"simpletable\">\n",
              "<caption>Parameter Estimates</caption>\n",
              "<tr>\n",
              "      <td></td>      <th>Parameter</th> <th>Std. Err.</th> <th>T-stat</th> <th>P-value</th> <th>Lower CI</th> <th>Upper CI</th>\n",
              "</tr>\n",
              "<tr>\n",
              "  <th>Intercept</th>  <td>11.267</td>    <td>1.9203</td>   <td>5.8670</td> <td>0.0000</td>   <td>7.5029</td>   <td>15.030</td> \n",
              "</tr>\n",
              "<tr>\n",
              "  <th>x</th>          <td>2.0386</td>    <td>0.0513</td>   <td>39.766</td> <td>0.0000</td>   <td>1.9381</td>   <td>2.1391</td> \n",
              "</tr>\n",
              "<tr>\n",
              "  <th>y_lag</th>      <td>0.5043</td>    <td>0.0277</td>   <td>18.214</td> <td>0.0000</td>   <td>0.4500</td>   <td>0.5585</td> \n",
              "</tr>\n",
              "</table><br/><br/>Endogenous: y_lag<br/>Instruments: x_lag<br/>Robust Covariance (Heteroskedastic)<br/>Debiased: False"
            ],
            "text/plain": [
              "<class 'linearmodels.compat.statsmodels.Summary'>\n",
              "\"\"\"\n",
              "                          IV-2SLS Estimation Summary                          \n",
              "==============================================================================\n",
              "Dep. Variable:                      y   R-squared:                      0.9620\n",
              "Estimator:                    IV-2SLS   Adj. R-squared:                 0.9611\n",
              "No. Observations:                  89   F-statistic:                    1913.3\n",
              "Date:                Thu, Dec 17 2020   P-value (F-stat)                0.0000\n",
              "Time:                        21:05:00   Distribution:                  chi2(2)\n",
              "Cov. Estimator:                robust                                         \n",
              "                                                                              \n",
              "                             Parameter Estimates                              \n",
              "==============================================================================\n",
              "            Parameter  Std. Err.     T-stat    P-value    Lower CI    Upper CI\n",
              "------------------------------------------------------------------------------\n",
              "Intercept      11.267     1.9203     5.8670     0.0000      7.5029      15.030\n",
              "x              2.0386     0.0513     39.766     0.0000      1.9381      2.1391\n",
              "y_lag          0.5043     0.0277     18.214     0.0000      0.4500      0.5585\n",
              "==============================================================================\n",
              "\n",
              "Endogenous: y_lag\n",
              "Instruments: x_lag\n",
              "Robust Covariance (Heteroskedastic)\n",
              "Debiased: False\n",
              "\"\"\""
            ]
          },
          "metadata": {
            "tags": []
          },
          "execution_count": 59
        }
      ]
    },
    {
      "cell_type": "code",
      "metadata": {
        "colab": {
          "base_uri": "https://localhost:8080/"
        },
        "id": "u8T3ApS7A2Zl",
        "outputId": "e2024437-dd7f-4f38-de44-c299e1cdde5f"
      },
      "source": [
        "vies"
      ],
      "execution_count": 60,
      "outputs": [
        {
          "output_type": "execute_result",
          "data": {
            "text/plain": [
              "{'vies_beta1': -3.5694568892245826,\n",
              " 'vies_beta2': 0.053861175368693726,\n",
              " 'vies_beta3': -0.0032797329225884297}"
            ]
          },
          "metadata": {
            "tags": []
          },
          "execution_count": 60
        }
      ]
    },
    {
      "cell_type": "markdown",
      "metadata": {
        "id": "Ls_xRmx9CFdE"
      },
      "source": [
        "## TESTE"
      ]
    },
    {
      "cell_type": "code",
      "metadata": {
        "id": "Mj45GsjGgU98"
      },
      "source": [
        "olss=ols(formula=('y~y_lag+x'), data=df)\n",
        "reg = olss.fit()"
      ],
      "execution_count": 61,
      "outputs": []
    },
    {
      "cell_type": "code",
      "metadata": {
        "colab": {
          "base_uri": "https://localhost:8080/",
          "height": 338
        },
        "id": "0WUTKbo-gVAG",
        "outputId": "ad242942-d52f-4185-87bd-c876fce98b5f"
      },
      "source": [
        "reg.summary2()"
      ],
      "execution_count": 62,
      "outputs": [
        {
          "output_type": "execute_result",
          "data": {
            "text/html": [
              "<table class=\"simpletable\">\n",
              "<tr>\n",
              "        <td>Model:</td>               <td>OLS</td>         <td>Adj. R-squared:</td>     <td>0.964</td> \n",
              "</tr>\n",
              "<tr>\n",
              "  <td>Dependent Variable:</td>         <td>y</td>               <td>AIC:</td>         <td>331.0348</td>\n",
              "</tr>\n",
              "<tr>\n",
              "         <td>Date:</td>        <td>2020-12-17 21:05</td>        <td>BIC:</td>         <td>338.5007</td>\n",
              "</tr>\n",
              "<tr>\n",
              "   <td>No. Observations:</td>         <td>89</td>          <td>Log-Likelihood:</td>    <td>-162.52</td>\n",
              "</tr>\n",
              "<tr>\n",
              "       <td>Df Model:</td>              <td>2</td>           <td>F-statistic:</td>       <td>1179.</td> \n",
              "</tr>\n",
              "<tr>\n",
              "     <td>Df Residuals:</td>           <td>86</td>        <td>Prob (F-statistic):</td> <td>3.08e-63</td>\n",
              "</tr>\n",
              "<tr>\n",
              "      <td>R-squared:</td>            <td>0.965</td>            <td>Scale:</td>         <td>2.3361</td> \n",
              "</tr>\n",
              "</table>\n",
              "<table class=\"simpletable\">\n",
              "<tr>\n",
              "      <td></td>       <th>Coef.</th> <th>Std.Err.</th>    <th>t</th>     <th>P>|t|</th> <th>[0.025</th> <th>0.975]</th> \n",
              "</tr>\n",
              "<tr>\n",
              "  <th>Intercept</th> <td>7.6972</td>  <td>1.4649</td>  <td>5.2546</td>  <td>0.0000</td> <td>4.7852</td> <td>10.6092</td>\n",
              "</tr>\n",
              "<tr>\n",
              "  <th>y_lag</th>     <td>0.5581</td>  <td>0.0203</td>  <td>27.4574</td> <td>0.0000</td> <td>0.5177</td> <td>0.5986</td> \n",
              "</tr>\n",
              "<tr>\n",
              "  <th>x</th>         <td>2.0353</td>  <td>0.0517</td>  <td>39.3936</td> <td>0.0000</td> <td>1.9326</td> <td>2.1380</td> \n",
              "</tr>\n",
              "</table>\n",
              "<table class=\"simpletable\">\n",
              "<tr>\n",
              "     <td>Omnibus:</td>     <td>3.582</td>  <td>Durbin-Watson:</td>   <td>0.477</td>\n",
              "</tr>\n",
              "<tr>\n",
              "  <td>Prob(Omnibus):</td>  <td>0.167</td> <td>Jarque-Bera (JB):</td> <td>3.114</td>\n",
              "</tr>\n",
              "<tr>\n",
              "       <td>Skew:</td>     <td>-0.362</td>     <td>Prob(JB):</td>     <td>0.211</td>\n",
              "</tr>\n",
              "<tr>\n",
              "     <td>Kurtosis:</td>    <td>2.439</td>  <td>Condition No.:</td>    <td>617</td> \n",
              "</tr>\n",
              "</table>"
            ],
            "text/plain": [
              "<class 'statsmodels.iolib.summary2.Summary'>\n",
              "\"\"\"\n",
              "                 Results: Ordinary least squares\n",
              "=================================================================\n",
              "Model:              OLS              Adj. R-squared:     0.964   \n",
              "Dependent Variable: y                AIC:                331.0348\n",
              "Date:               2020-12-17 21:05 BIC:                338.5007\n",
              "No. Observations:   89               Log-Likelihood:     -162.52 \n",
              "Df Model:           2                F-statistic:        1179.   \n",
              "Df Residuals:       86               Prob (F-statistic): 3.08e-63\n",
              "R-squared:          0.965            Scale:              2.3361  \n",
              "-------------------------------------------------------------------\n",
              "            Coef.    Std.Err.      t      P>|t|    [0.025    0.975]\n",
              "-------------------------------------------------------------------\n",
              "Intercept   7.6972     1.4649    5.2546   0.0000   4.7852   10.6092\n",
              "y_lag       0.5581     0.0203   27.4574   0.0000   0.5177    0.5986\n",
              "x           2.0353     0.0517   39.3936   0.0000   1.9326    2.1380\n",
              "-----------------------------------------------------------------\n",
              "Omnibus:               3.582        Durbin-Watson:          0.477\n",
              "Prob(Omnibus):         0.167        Jarque-Bera (JB):       3.114\n",
              "Skew:                  -0.362       Prob(JB):               0.211\n",
              "Kurtosis:              2.439        Condition No.:          617  \n",
              "=================================================================\n",
              "\n",
              "\"\"\""
            ]
          },
          "metadata": {
            "tags": []
          },
          "execution_count": 62
        }
      ]
    }
  ]
}