{
  "nbformat": 4,
  "nbformat_minor": 0,
  "metadata": {
    "colab": {
      "name": "book_recommendation.ipynb",
      "provenance": [],
      "authorship_tag": "ABX9TyNKC+nPYm0/NjsfO+sGCISh",
      "include_colab_link": true
    },
    "kernelspec": {
      "name": "python3",
      "display_name": "Python 3"
    },
    "accelerator": "GPU"
  },
  "cells": [
    {
      "cell_type": "markdown",
      "metadata": {
        "id": "view-in-github",
        "colab_type": "text"
      },
      "source": [
        "<a href=\"https://colab.research.google.com/github/Davilirio/Python_data_analysis/blob/master/book_recommendation.ipynb\" target=\"_parent\"><img src=\"https://colab.research.google.com/assets/colab-badge.svg\" alt=\"Open In Colab\"/></a>"
      ]
    },
    {
      "cell_type": "markdown",
      "metadata": {
        "id": "vDnCJCoHYmic",
        "colab_type": "text"
      },
      "source": [
        "Using the book rating dataset: https://www.kaggle.com/philippsp/book-recommender-collaborative-filtering-shiny\n",
        "\n",
        "We'll look to find the best books, group books in parameter space, analyse the books dataset and make a book recomendation system for a specific user."
      ]
    },
    {
      "cell_type": "code",
      "metadata": {
        "id": "LISLlNT1Mf0l",
        "colab_type": "code",
        "colab": {}
      },
      "source": [
        "import fastai\n",
        "import seaborn as sns\n",
        "from fastai.collab import *\n",
        "from google.colab import drive, files\n",
        "\n",
        "drive.mount('/content/gdrive/')\n",
        "path = Path('/content/gdrive/My Drive/data_science_stuff/datasets/books/')"
      ],
      "execution_count": null,
      "outputs": []
    },
    {
      "cell_type": "markdown",
      "metadata": {
        "id": "TwxhYsTdZKZk",
        "colab_type": "text"
      },
      "source": [
        "Opening both dataframes, we'll start by taking a look at how our data is distributed and some information about it"
      ]
    },
    {
      "cell_type": "code",
      "metadata": {
        "id": "UqMKGbHiNlHQ",
        "colab_type": "code",
        "colab": {}
      },
      "source": [
        "ratings = pd.read_csv(path/'ratings.csv')\n",
        "books = pd.read_csv(path/'books.csv')"
      ],
      "execution_count": null,
      "outputs": []
    },
    {
      "cell_type": "code",
      "metadata": {
        "id": "FQ0EcVcVXufK",
        "colab_type": "code",
        "colab": {}
      },
      "source": [
        "ratings = ratings.merge(books[['book_id', 'title']])\n",
        "ratings.head()"
      ],
      "execution_count": null,
      "outputs": []
    },
    {
      "cell_type": "code",
      "metadata": {
        "id": "13NycTwPay2F",
        "colab_type": "code",
        "colab": {}
      },
      "source": [
        "len(ratings)"
      ],
      "execution_count": null,
      "outputs": []
    },
    {
      "cell_type": "code",
      "metadata": {
        "id": "rQfVn7GfjVCv",
        "colab_type": "code",
        "colab": {}
      },
      "source": [
        "mean_rating = ratings.groupby('title').rating.mean()"
      ],
      "execution_count": 5,
      "outputs": []
    },
    {
      "cell_type": "code",
      "metadata": {
        "id": "cPYxW0OSXxu4",
        "colab_type": "code",
        "colab": {}
      },
      "source": [
        "print('Top 10 books with highest mean rating \\n'),\n",
        "mean_rating.sort_values(ascending = False)[:10]"
      ],
      "execution_count": null,
      "outputs": []
    },
    {
      "cell_type": "code",
      "metadata": {
        "id": "j9oFBhZUYbE_",
        "colab_type": "code",
        "colab": {}
      },
      "source": [
        "print('Top 10 books with lowest mean rating \\n'),\n",
        "mean_rating.sort_values()[:10]"
      ],
      "execution_count": null,
      "outputs": []
    },
    {
      "cell_type": "markdown",
      "metadata": {
        "id": "1HQl2aWLZttk",
        "colab_type": "text"
      },
      "source": [
        "Even though we show this kind of data, note that the mean rating is **not** as informative as it seems once it can be biased by the type of user that read/rates that book in the platform"
      ]
    },
    {
      "cell_type": "code",
      "metadata": {
        "id": "UWQRcM-kaG25",
        "colab_type": "code",
        "colab": {}
      },
      "source": [
        "most_read = ratings.groupby('title').rating.count().sort_values(ascending = False)\n",
        "print('Ratings seem to be limited at 100 \\n'),\n",
        "most_read[:10]"
      ],
      "execution_count": null,
      "outputs": []
    },
    {
      "cell_type": "code",
      "metadata": {
        "id": "n3RAXbjmb3W-",
        "colab_type": "code",
        "colab": {}
      },
      "source": [
        "min = ratings['rating'].min()\n",
        "max = ratings['rating'].max()\n",
        "print(f\"The lowest rating is: {min} \\nThe highest rating is: {max}\")"
      ],
      "execution_count": null,
      "outputs": []
    },
    {
      "cell_type": "markdown",
      "metadata": {
        "id": "dIDaWFvnb1Ix",
        "colab_type": "text"
      },
      "source": [
        "Defining a basic Fast.ai learner for collab filtering"
      ]
    },
    {
      "cell_type": "code",
      "metadata": {
        "id": "zqHcg8-vrM-s",
        "colab_type": "code",
        "colab": {}
      },
      "source": [
        "train = ratings[:-30]\n",
        "test = ratings[-30:]"
      ],
      "execution_count": 10,
      "outputs": []
    },
    {
      "cell_type": "code",
      "metadata": {
        "id": "4DNLNQm4aNw6",
        "colab_type": "code",
        "colab": {}
      },
      "source": [
        "data = CollabDataBunch.from_df(train, seed=42, valid_pct=0.1,\n",
        "                               item_name='title', user_name='user_id', test=test)\n",
        "y_range = [0.5, 5.5]"
      ],
      "execution_count": null,
      "outputs": []
    },
    {
      "cell_type": "code",
      "metadata": {
        "id": "tXrEWqsIbgaW",
        "colab_type": "code",
        "colab": {}
      },
      "source": [
        "learn = collab_learner(data,y_range=y_range, wd=1e-1, n_factors=50)"
      ],
      "execution_count": null,
      "outputs": []
    },
    {
      "cell_type": "code",
      "metadata": {
        "id": "zLff9hKHdB7a",
        "colab_type": "code",
        "colab": {}
      },
      "source": [
        "  learn.lr_find()\n",
        "learn.recorder.plot()"
      ],
      "execution_count": null,
      "outputs": []
    },
    {
      "cell_type": "code",
      "metadata": {
        "id": "STMEEHuYdQ0M",
        "colab_type": "code",
        "colab": {}
      },
      "source": [
        "def fit_1c(ep, lr):\n",
        "  learn.fit_one_cycle(ep, lr)\n",
        "  learn.recorder.plot_losses()"
      ],
      "execution_count": null,
      "outputs": []
    },
    {
      "cell_type": "code",
      "metadata": {
        "id": "pYnzYXAbduGq",
        "colab_type": "code",
        "colab": {}
      },
      "source": [
        "fit_1c(25, 6e-2)"
      ],
      "execution_count": null,
      "outputs": []
    },
    {
      "cell_type": "code",
      "metadata": {
        "id": "XnbwSFW4sf7T",
        "colab_type": "code",
        "colab": {
          "base_uri": "https://localhost:8080/",
          "height": 121
        },
        "outputId": "bf0f684c-15dc-4db9-f24e-64a817717d52"
      },
      "source": [
        "learn.model.cuda() # model into the gpu"
      ],
      "execution_count": 19,
      "outputs": [
        {
          "output_type": "execute_result",
          "data": {
            "text/plain": [
              "EmbeddingDotBias(\n",
              "  (u_weight): Embedding(27560, 50)\n",
              "  (i_weight): Embedding(813, 50)\n",
              "  (u_bias): Embedding(27560, 1)\n",
              "  (i_bias): Embedding(813, 1)\n",
              ")"
            ]
          },
          "metadata": {
            "tags": []
          },
          "execution_count": 19
        }
      ]
    },
    {
      "cell_type": "markdown",
      "metadata": {
        "id": "6eATSeXXmVED",
        "colab_type": "text"
      },
      "source": [
        "Analysing book bias to extract the unbiased opinion about the book within the whole user base"
      ]
    },
    {
      "cell_type": "code",
      "metadata": {
        "id": "NlQnXn1Fd2UI",
        "colab_type": "code",
        "colab": {}
      },
      "source": [
        "book_bias = learn.bias(most_read.index[:500])\n",
        "book_bias.shape"
      ],
      "execution_count": null,
      "outputs": []
    },
    {
      "cell_type": "code",
      "metadata": {
        "id": "9qpRUG4hiSqe",
        "colab_type": "code",
        "colab": {}
      },
      "source": [
        "book_info = [(b, i, mean_rating.loc[i]) for i,b in zip(most_read.index,book_bias)]"
      ],
      "execution_count": 21,
      "outputs": []
    },
    {
      "cell_type": "code",
      "metadata": {
        "id": "W5oal0kDj1CL",
        "colab_type": "code",
        "colab": {
          "base_uri": "https://localhost:8080/",
          "height": 364
        },
        "outputId": "f613a570-8416-4680-96f8-265133158ae8"
      },
      "source": [
        "for t, b in zip(most_read.index[:5], book_bias[:5]):\n",
        "  print(f'Book: {t}\\n -> Bias: {b} \\n -> Mean Rating: {mean_rating.loc[t]} \\n')"
      ],
      "execution_count": 22,
      "outputs": [
        {
          "output_type": "stream",
          "text": [
            "Book: Pearls of Lutra (Redwall, #9)\n",
            " -> Bias: -0.11252568662166595 \n",
            " -> Mean Rating: 2.8 \n",
            "\n",
            "Book: Blue Ocean Strategy: How To Create Uncontested Market Space And Make The Competition Irrelevant\n",
            " -> Bias: 0.5358605980873108 \n",
            " -> Mean Rating: 4.02 \n",
            "\n",
            "Book: Narcissus and Goldmund\n",
            " -> Bias: 0.4363575875759125 \n",
            " -> Mean Rating: 3.8 \n",
            "\n",
            "Book: Blue Like Jazz: Nonreligious Thoughts on Christian Spirituality\n",
            " -> Bias: -0.05481935665011406 \n",
            " -> Mean Rating: 3.02 \n",
            "\n",
            "Book: Naked\n",
            " -> Bias: 0.4303600788116455 \n",
            " -> Mean Rating: 3.81 \n",
            "\n"
          ],
          "name": "stdout"
        }
      ]
    },
    {
      "cell_type": "code",
      "metadata": {
        "id": "khC4Ns4IkBg4",
        "colab_type": "code",
        "colab": {
          "base_uri": "https://localhost:8080/",
          "height": 121
        },
        "outputId": "d91dcb18-3bd0-4628-a5d9-d4ba6e416365"
      },
      "source": [
        "print('Best books by the members'),\n",
        "sorted(book_info,key=lambda book: book[0], reverse=True)[:5]"
      ],
      "execution_count": 23,
      "outputs": [
        {
          "output_type": "stream",
          "text": [
            "Best books by the members\n"
          ],
          "name": "stdout"
        },
        {
          "output_type": "execute_result",
          "data": {
            "text/plain": [
              "[(tensor(0.9039), 'Girl with a Pearl Earring', 4.53),\n",
              " (tensor(0.8696), 'The Taste of Home Cookbook', 4.55),\n",
              " (tensor(0.8390), 'Franny and Zooey', 4.39),\n",
              " (tensor(0.8122), 'The Lost Boy (Dave Pelzer #2)', 4.4),\n",
              " (tensor(0.8107), 'The Universe in a Nutshell', 4.38)]"
            ]
          },
          "metadata": {
            "tags": []
          },
          "execution_count": 23
        }
      ]
    },
    {
      "cell_type": "code",
      "metadata": {
        "id": "1Awt5DtmlTuO",
        "colab_type": "code",
        "colab": {
          "base_uri": "https://localhost:8080/",
          "height": 156
        },
        "outputId": "63aa0464-de02-4e5b-bff5-37b68b13976e"
      },
      "source": [
        "print('Worst books by the members'),\n",
        "sorted(book_info,key=lambda book: book[0])[:5]"
      ],
      "execution_count": 24,
      "outputs": [
        {
          "output_type": "stream",
          "text": [
            "Worst books by the members\n"
          ],
          "name": "stdout"
        },
        {
          "output_type": "execute_result",
          "data": {
            "text/plain": [
              "[(tensor(-0.2711), 'Nine Stories', 2.53),\n",
              " (tensor(-0.2348),\n",
              "  \"Harry Potter and the Sorcerer's Stone (Harry Potter, #1)\",\n",
              "  3.09),\n",
              " (tensor(-0.1152), 'The Chamber', 2.88),\n",
              " (tensor(-0.1125), 'Pearls of Lutra (Redwall, #9)', 2.8),\n",
              " (tensor(-0.0618), 'The Woman in White', 2.88)]"
            ]
          },
          "metadata": {
            "tags": []
          },
          "execution_count": 24
        }
      ]
    },
    {
      "cell_type": "markdown",
      "metadata": {
        "id": "VSXKlRtumOlN",
        "colab_type": "text"
      },
      "source": [
        "Analysing book weights to find groups in the embedding space"
      ]
    },
    {
      "cell_type": "code",
      "metadata": {
        "id": "IlRYWZzVmo9e",
        "colab_type": "code",
        "colab": {
          "base_uri": "https://localhost:8080/",
          "height": 34
        },
        "outputId": "e47aeeb7-db6c-4e2f-b67e-0cca81e9d03b"
      },
      "source": [
        "book_w = learn.weight(most_read.index[:500])\n",
        "book_w.shape # 50 factors, so a 500x50 matrix"
      ],
      "execution_count": 25,
      "outputs": [
        {
          "output_type": "execute_result",
          "data": {
            "text/plain": [
              "torch.Size([500, 50])"
            ]
          },
          "metadata": {
            "tags": []
          },
          "execution_count": 25
        }
      ]
    },
    {
      "cell_type": "code",
      "metadata": {
        "id": "MNVmptpSm109",
        "colab_type": "code",
        "colab": {}
      },
      "source": [
        "# transforming in an numpy array:\n",
        "array_bw = np.asarray(book_w)"
      ],
      "execution_count": 26,
      "outputs": []
    },
    {
      "cell_type": "markdown",
      "metadata": {
        "id": "SIBL2JIRnnoK",
        "colab_type": "text"
      },
      "source": [
        "As we have 50 factors, it may be almost impossible to interpretate each one. Here we cover the maximum amount of space in the matrix of weights space using only 3 components instead of 50 to try to extract understandable information"
      ]
    },
    {
      "cell_type": "code",
      "metadata": {
        "id": "Sw-iG61anC_E",
        "colab_type": "code",
        "colab": {}
      },
      "source": [
        "principal_comps = book_w.pca(3) # creating 3 components\n",
        "comp1, comp2, comp3 = principal_comps.t() # dividing them into 3 separate tensors"
      ],
      "execution_count": 27,
      "outputs": []
    },
    {
      "cell_type": "code",
      "metadata": {
        "id": "Gv3F5nkJneCI",
        "colab_type": "code",
        "colab": {
          "base_uri": "https://localhost:8080/",
          "height": 69
        },
        "outputId": "13e26a19-b423-4e15-cdff-bce4829825c9"
      },
      "source": [
        "principal_comps.t()"
      ],
      "execution_count": 28,
      "outputs": [
        {
          "output_type": "execute_result",
          "data": {
            "text/plain": [
              "tensor([[ 0.7490, -0.4674,  0.3095,  ...,  0.8699,  0.0835, -0.1962],\n",
              "        [-0.5093,  0.6513, -0.1807,  ...,  0.3220, -0.3976, -0.5434],\n",
              "        [ 0.7307,  0.3598, -0.2873,  ..., -0.1587, -0.6213,  0.6585]])"
            ]
          },
          "metadata": {
            "tags": []
          },
          "execution_count": 28
        }
      ]
    },
    {
      "cell_type": "code",
      "metadata": {
        "id": "XwVqqlfUngS5",
        "colab_type": "code",
        "colab": {}
      },
      "source": [
        "comp_1 = [(w, n) for w, n in zip(comp1, most_read.index)]\n",
        "comp_2 = [(f, i) for f, i in zip(comp2, most_read.index)]\n",
        "comp_3 = [(f, i) for f, i in zip(comp3, most_read.index)]"
      ],
      "execution_count": 29,
      "outputs": []
    },
    {
      "cell_type": "markdown",
      "metadata": {
        "id": "Zdo6AK5KoQAd",
        "colab_type": "text"
      },
      "source": [
        "Looking for information in the first component:"
      ]
    },
    {
      "cell_type": "code",
      "metadata": {
        "id": "xAAQIZ0soRN5",
        "colab_type": "code",
        "colab": {
          "base_uri": "https://localhost:8080/",
          "height": 191
        },
        "outputId": "5ca82a78-b1e6-46ce-e489-dc0e9b69fa53"
      },
      "source": [
        "sorted(comp_1, key=lambda w: w[0], reverse=True)[:10]"
      ],
      "execution_count": 30,
      "outputs": [
        {
          "output_type": "execute_result",
          "data": {
            "text/plain": [
              "[(tensor(1.0661), 'We Were the Mulvaneys'),\n",
              " (tensor(1.0228), 'Antigone (The Theban Plays, #3)'),\n",
              " (tensor(1.0118), 'Mornings on Horseback'),\n",
              " (tensor(1.0016), 'My Name is Red'),\n",
              " (tensor(0.9917), 'Unfinished Tales of Númenor and Middle-Earth'),\n",
              " (tensor(0.9665), 'The Road'),\n",
              " (tensor(0.9471), 'A Great and Terrible Beauty (Gemma Doyle, #1)'),\n",
              " (tensor(0.9168), 'The Snows of Kilimanjaro and Other Stories'),\n",
              " (tensor(0.9088), \"The River (Brian's Saga, #2)\"),\n",
              " (tensor(0.8872), 'Last Chance to See')]"
            ]
          },
          "metadata": {
            "tags": []
          },
          "execution_count": 30
        }
      ]
    },
    {
      "cell_type": "code",
      "metadata": {
        "id": "-hzBTAIGoq10",
        "colab_type": "code",
        "colab": {
          "base_uri": "https://localhost:8080/",
          "height": 191
        },
        "outputId": "75877f81-9dc9-4e33-d10a-90e0d5b13f55"
      },
      "source": [
        "sorted(comp_1, key=lambda w: w[0])[:10]"
      ],
      "execution_count": 31,
      "outputs": [
        {
          "output_type": "execute_result",
          "data": {
            "text/plain": [
              "[(tensor(-1.4511), 'The Adventures of Huckleberry Finn'),\n",
              " (tensor(-1.4233), 'Ten Apples Up On Top!'),\n",
              " (tensor(-1.2946), 'Endymion (Hyperion Cantos, #3)'),\n",
              " (tensor(-1.2487), 'Goldfinger (James Bond, #7)'),\n",
              " (tensor(-1.2152), 'Postmortem (Kay Scarpetta, #1)'),\n",
              " (tensor(-1.0525), 'East of Eden'),\n",
              " (tensor(-0.9626), 'Here on Earth'),\n",
              " (tensor(-0.9625), 'His Excellency: George Washington'),\n",
              " (tensor(-0.9338), 'The Wind in the Willows'),\n",
              " (tensor(-0.9323), 'Sentimental Education')]"
            ]
          },
          "metadata": {
            "tags": []
          },
          "execution_count": 31
        }
      ]
    },
    {
      "cell_type": "markdown",
      "metadata": {
        "id": "beNKTYyPpERf",
        "colab_type": "text"
      },
      "source": [
        "Looking for information in the second component:"
      ]
    },
    {
      "cell_type": "code",
      "metadata": {
        "id": "MqXIrVFKpcaZ",
        "colab_type": "code",
        "colab": {
          "base_uri": "https://localhost:8080/",
          "height": 191
        },
        "outputId": "6d05b19a-4438-4ecb-b355-a98539b72c0c"
      },
      "source": [
        "sorted(comp_2, key=lambda w: w[0], reverse=True)[:10]"
      ],
      "execution_count": 32,
      "outputs": [
        {
          "output_type": "execute_result",
          "data": {
            "text/plain": [
              "[(tensor(1.2250), 'Regeneration (Regeneration, #1)'),\n",
              " (tensor(1.1154), 'What Looks Like Crazy on an Ordinary Day (Idlewild, #1)'),\n",
              " (tensor(1.0140), 'Inés of My Soul'),\n",
              " (tensor(1.0084), 'Songs in Ordinary Time'),\n",
              " (tensor(0.9180), 'All the Names'),\n",
              " (tensor(0.8908), 'The Odyssey'),\n",
              " (tensor(0.8899), 'Nickel and Dimed: On (Not) Getting By in America'),\n",
              " (tensor(0.8869), 'East of Eden'),\n",
              " (tensor(0.8777), 'Rainbow Six (Jack Ryan Universe, #10)'),\n",
              " (tensor(0.8415), 'What Do You Care What Other People Think?')]"
            ]
          },
          "metadata": {
            "tags": []
          },
          "execution_count": 32
        }
      ]
    },
    {
      "cell_type": "code",
      "metadata": {
        "id": "r_T_I-mNpflC",
        "colab_type": "code",
        "colab": {
          "base_uri": "https://localhost:8080/",
          "height": 243
        },
        "outputId": "097e4062-7361-4d37-a379-300a1b7e4c68"
      },
      "source": [
        "sorted(comp_2, key=lambda w: w[0])[:10]"
      ],
      "execution_count": 33,
      "outputs": [
        {
          "output_type": "execute_result",
          "data": {
            "text/plain": [
              "[(tensor(-1.1753), 'Persuasion'),\n",
              " (tensor(-1.0113), 'Generation X: Tales for an Accelerated Culture'),\n",
              " (tensor(-0.9765),\n",
              "  'Sherlock Holmes: The Complete Novels and Stories, Volume I'),\n",
              " (tensor(-0.8995),\n",
              "  'Blue Like Jazz: Nonreligious Thoughts on Christian Spirituality'),\n",
              " (tensor(-0.8846),\n",
              "  'Freakonomics: A Rogue Economist Explores the Hidden Side of Everything (Freakonomics, #1)'),\n",
              " (tensor(-0.8732), 'Assassination Vacation'),\n",
              " (tensor(-0.8231), 'Me Talk Pretty One Day'),\n",
              " (tensor(-0.8226), 'The Time Machine'),\n",
              " (tensor(-0.8051), 'An Ideal Husband'),\n",
              " (tensor(-0.7931), 'How to Win Friends and Influence People')]"
            ]
          },
          "metadata": {
            "tags": []
          },
          "execution_count": 33
        }
      ]
    },
    {
      "cell_type": "markdown",
      "metadata": {
        "id": "iowRA2VTpiDC",
        "colab_type": "text"
      },
      "source": [
        "Looking for information in the third component\n"
      ]
    },
    {
      "cell_type": "code",
      "metadata": {
        "id": "1m-WwsHzpp6A",
        "colab_type": "code",
        "colab": {
          "base_uri": "https://localhost:8080/",
          "height": 191
        },
        "outputId": "d0f9e0a9-d9cb-4019-ce89-4980ddfbdef0"
      },
      "source": [
        "sorted(comp_3, key=lambda w: w[0], reverse=True)[:10]"
      ],
      "execution_count": 34,
      "outputs": [
        {
          "output_type": "execute_result",
          "data": {
            "text/plain": [
              "[(tensor(1.1003), 'Where the Heart Is'),\n",
              " (tensor(1.0510), 'The Terror'),\n",
              " (tensor(1.0022), 'The Snows of Kilimanjaro and Other Stories'),\n",
              " (tensor(0.9365), 'A Christmas Carol'),\n",
              " (tensor(0.9208), 'Naked'),\n",
              " (tensor(0.8979), 'Life of Pi'),\n",
              " (tensor(0.8727), 'Live and Let Die (James Bond, #2)'),\n",
              " (tensor(0.8634), 'Oedipus Rex  (The Theban Plays, #1)'),\n",
              " (tensor(0.8553), 'Brave New World Revisited '),\n",
              " (tensor(0.8370), 'Night (The Night Trilogy #1)')]"
            ]
          },
          "metadata": {
            "tags": []
          },
          "execution_count": 34
        }
      ]
    },
    {
      "cell_type": "code",
      "metadata": {
        "id": "I-k1djn9ptCP",
        "colab_type": "code",
        "colab": {
          "base_uri": "https://localhost:8080/",
          "height": 191
        },
        "outputId": "352fe12b-19f5-4d67-c438-dc010a2da320"
      },
      "source": [
        "sorted(comp_3, key=lambda w: w[0])[:10]"
      ],
      "execution_count": 35,
      "outputs": [
        {
          "output_type": "execute_result",
          "data": {
            "text/plain": [
              "[(tensor(-1.0766), 'Men Are from Mars, Women Are from Venus'),\n",
              " (tensor(-1.0539), 'Trace (Kay Scarpetta, #13)'),\n",
              " (tensor(-1.0428), 'Pompeii'),\n",
              " (tensor(-0.9296), 'Hamlet'),\n",
              " (tensor(-0.9250), 'Heretics of Dune (Dune Chronicles #5)'),\n",
              " (tensor(-0.9152), 'The Street Lawyer'),\n",
              " (tensor(-0.8976), 'A Bend in the River'),\n",
              " (tensor(-0.8850), 'The Road'),\n",
              " (tensor(-0.8512), 'Breaking the Spell: Religion as a Natural Phenomenon'),\n",
              " (tensor(-0.8455), 'Bridge to Terabithia')]"
            ]
          },
          "metadata": {
            "tags": []
          },
          "execution_count": 35
        }
      ]
    },
    {
      "cell_type": "markdown",
      "metadata": {
        "id": "CEIOGtjoukBL",
        "colab_type": "text"
      },
      "source": [
        "Predictions"
      ]
    },
    {
      "cell_type": "code",
      "metadata": {
        "id": "Y_HHiLtGqWAl",
        "colab_type": "code",
        "colab": {}
      },
      "source": [
        "predictions = learn.get_preds(ds_type=DatasetType.Train)\n",
        "preds = predictions[0].numpy()"
      ],
      "execution_count": null,
      "outputs": []
    },
    {
      "cell_type": "code",
      "metadata": {
        "id": "HMzpwif7q1Bq",
        "colab_type": "code",
        "colab": {
          "base_uri": "https://localhost:8080/",
          "height": 434
        },
        "outputId": "235b105c-8563-4053-b843-b5b3dabf3a03"
      },
      "source": [
        "for t, p in zip(test['rating'].values[:6], preds[:6]):\n",
        "  print(f'True value: {t} \\nPredicted value: {p}\\n\\n')"
      ],
      "execution_count": 41,
      "outputs": [
        {
          "output_type": "stream",
          "text": [
            "True value: 3 \n",
            "Predicted value: 4.898460865020752\n",
            "\n",
            "\n",
            "True value: 5 \n",
            "Predicted value: 4.0081987380981445\n",
            "\n",
            "\n",
            "True value: 4 \n",
            "Predicted value: 2.4927268028259277\n",
            "\n",
            "\n",
            "True value: 4 \n",
            "Predicted value: 3.9799094200134277\n",
            "\n",
            "\n",
            "True value: 3 \n",
            "Predicted value: 3.9950125217437744\n",
            "\n",
            "\n",
            "True value: 5 \n",
            "Predicted value: 2.6713061332702637\n",
            "\n",
            "\n"
          ],
          "name": "stdout"
        }
      ]
    },
    {
      "cell_type": "code",
      "metadata": {
        "id": "6C4MgOZQsl9s",
        "colab_type": "code",
        "colab": {}
      },
      "source": [
        ""
      ],
      "execution_count": null,
      "outputs": []
    }
  ]
}