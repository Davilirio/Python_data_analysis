{
  "nbformat": 4,
  "nbformat_minor": 0,
  "metadata": {
    "colab": {
      "name": "book_recommendation.ipynb",
      "provenance": [],
      "collapsed_sections": [],
      "authorship_tag": "ABX9TyPqbrodvRwW36Zl07vgE6gU",
      "include_colab_link": true
    },
    "kernelspec": {
      "name": "python3",
      "display_name": "Python 3"
    },
    "accelerator": "GPU"
  },
  "cells": [
    {
      "cell_type": "markdown",
      "metadata": {
        "id": "view-in-github",
        "colab_type": "text"
      },
      "source": [
        "<a href=\"https://colab.research.google.com/github/Davilirio/Python_data_analysis/blob/master/book_recommendation.ipynb\" target=\"_parent\"><img src=\"https://colab.research.google.com/assets/colab-badge.svg\" alt=\"Open In Colab\"/></a>"
      ]
    },
    {
      "cell_type": "markdown",
      "metadata": {
        "id": "vDnCJCoHYmic",
        "colab_type": "text"
      },
      "source": [
        "Using the book rating dataset: https://www.kaggle.com/philippsp/book-recommender-collaborative-filtering-shiny\n",
        "\n",
        "We'll look to find the best books, group books in parameter space, analyse the books dataset and make a book recomendation system for a specific user."
      ]
    },
    {
      "cell_type": "code",
      "metadata": {
        "id": "LISLlNT1Mf0l",
        "colab_type": "code",
        "colab": {}
      },
      "source": [
        "import fastai\n",
        "import seaborn as sns\n",
        "from fastai.collab import *\n",
        "from google.colab import drive, files\n",
        "\n",
        "drive.mount('/content/gdrive/')\n",
        "path = Path('/content/gdrive/My Drive/data_science_stuff/datasets/books/')"
      ],
      "execution_count": null,
      "outputs": []
    },
    {
      "cell_type": "markdown",
      "metadata": {
        "id": "TwxhYsTdZKZk",
        "colab_type": "text"
      },
      "source": [
        "Opening both dataframes, we'll start by taking a look at how our data is distributed and some information about it"
      ]
    },
    {
      "cell_type": "code",
      "metadata": {
        "id": "UqMKGbHiNlHQ",
        "colab_type": "code",
        "colab": {}
      },
      "source": [
        "ratings = pd.read_csv(path/'ratings.csv')\n",
        "books = pd.read_csv(path/'books.csv')"
      ],
      "execution_count": null,
      "outputs": []
    },
    {
      "cell_type": "code",
      "metadata": {
        "id": "FQ0EcVcVXufK",
        "colab_type": "code",
        "colab": {}
      },
      "source": [
        "ratings = ratings.merge(books[['book_id', 'title']])\n",
        "ratings.head()"
      ],
      "execution_count": null,
      "outputs": []
    },
    {
      "cell_type": "code",
      "metadata": {
        "id": "13NycTwPay2F",
        "colab_type": "code",
        "colab": {}
      },
      "source": [
        "len(ratings)"
      ],
      "execution_count": null,
      "outputs": []
    },
    {
      "cell_type": "code",
      "metadata": {
        "id": "rQfVn7GfjVCv",
        "colab_type": "code",
        "colab": {}
      },
      "source": [
        "mean_rating = ratings.groupby('title').rating.mean()"
      ],
      "execution_count": 6,
      "outputs": []
    },
    {
      "cell_type": "code",
      "metadata": {
        "id": "cPYxW0OSXxu4",
        "colab_type": "code",
        "colab": {}
      },
      "source": [
        "print('Top 10 books with highest mean rating \\n'),\n",
        "mean_rating.sort_values(ascending = False)[:10]"
      ],
      "execution_count": null,
      "outputs": []
    },
    {
      "cell_type": "code",
      "metadata": {
        "id": "j9oFBhZUYbE_",
        "colab_type": "code",
        "colab": {}
      },
      "source": [
        "print('Top 10 books with lowest mean rating \\n'),\n",
        "mean_rating.sort_values()[:10]"
      ],
      "execution_count": null,
      "outputs": []
    },
    {
      "cell_type": "markdown",
      "metadata": {
        "id": "1HQl2aWLZttk",
        "colab_type": "text"
      },
      "source": [
        "Even though we show this kind of data, note that the mean rating is **not** as informative as it seems once it can be biased by the type of user that read/rates that book in the platform"
      ]
    },
    {
      "cell_type": "code",
      "metadata": {
        "id": "UWQRcM-kaG25",
        "colab_type": "code",
        "colab": {}
      },
      "source": [
        "most_read = ratings.groupby('title').rating.count().sort_values(ascending = False)\n",
        "print('Ratings seem to be limited at 100 \\n'),\n",
        "most_read[:10]"
      ],
      "execution_count": null,
      "outputs": []
    },
    {
      "cell_type": "code",
      "metadata": {
        "id": "n3RAXbjmb3W-",
        "colab_type": "code",
        "colab": {}
      },
      "source": [
        "min = ratings['rating'].min()\n",
        "max = ratings['rating'].max()\n",
        "print(f\"The lowest rating is: {min} \\nThe highest rating is: {max}\")"
      ],
      "execution_count": null,
      "outputs": []
    },
    {
      "cell_type": "markdown",
      "metadata": {
        "id": "dIDaWFvnb1Ix",
        "colab_type": "text"
      },
      "source": [
        "Defining a basic Fast.ai learner for collab filtering"
      ]
    },
    {
      "cell_type": "code",
      "metadata": {
        "id": "zqHcg8-vrM-s",
        "colab_type": "code",
        "colab": {}
      },
      "source": [
        "train = ratings[:-30]\n",
        "test = ratings[-30:]"
      ],
      "execution_count": 10,
      "outputs": []
    },
    {
      "cell_type": "code",
      "metadata": {
        "id": "4DNLNQm4aNw6",
        "colab_type": "code",
        "colab": {}
      },
      "source": [
        "data = CollabDataBunch.from_df(train, seed=42, valid_pct=0.1,\n",
        "                               item_name='title', user_name='user_id', test=test)\n",
        "y_range = [0.5, 5.5]"
      ],
      "execution_count": null,
      "outputs": []
    },
    {
      "cell_type": "code",
      "metadata": {
        "id": "tXrEWqsIbgaW",
        "colab_type": "code",
        "colab": {}
      },
      "source": [
        "learn = collab_learner(data,y_range=y_range, wd=1e-1, n_factors=50)"
      ],
      "execution_count": null,
      "outputs": []
    },
    {
      "cell_type": "code",
      "metadata": {
        "id": "zLff9hKHdB7a",
        "colab_type": "code",
        "colab": {}
      },
      "source": [
        "  learn.lr_find()\n",
        "learn.recorder.plot()"
      ],
      "execution_count": null,
      "outputs": []
    },
    {
      "cell_type": "code",
      "metadata": {
        "id": "STMEEHuYdQ0M",
        "colab_type": "code",
        "colab": {}
      },
      "source": [
        "def fit_1c(ep, lr):\n",
        "  learn.fit_one_cycle(ep, lr)\n",
        "  learn.recorder.plot_losses()"
      ],
      "execution_count": null,
      "outputs": []
    },
    {
      "cell_type": "code",
      "metadata": {
        "id": "pYnzYXAbduGq",
        "colab_type": "code",
        "colab": {}
      },
      "source": [
        "fit_1c(25, 6e-2)"
      ],
      "execution_count": null,
      "outputs": []
    },
    {
      "cell_type": "code",
      "metadata": {
        "id": "1R7sH_BKvGQf",
        "colab_type": "code",
        "colab": {}
      },
      "source": [
        "learn.save('rcmd_bk_v1')"
      ],
      "execution_count": 16,
      "outputs": []
    },
    {
      "cell_type": "code",
      "metadata": {
        "id": "3EKSBOlgwOZA",
        "colab_type": "code",
        "colab": {
          "base_uri": "https://localhost:8080/",
          "height": 34
        },
        "outputId": "162c05dc-1dd6-43f5-9783-38845a0caeb7"
      },
      "source": [
        "learn=None\n",
        "gc.collect()"
      ],
      "execution_count": 17,
      "outputs": [
        {
          "output_type": "execute_result",
          "data": {
            "text/plain": [
              "10608"
            ]
          },
          "metadata": {
            "tags": []
          },
          "execution_count": 17
        }
      ]
    },
    {
      "cell_type": "code",
      "metadata": {
        "id": "6YZzfLoRwQ5h",
        "colab_type": "code",
        "colab": {}
      },
      "source": [
        "learn.load('rcmd_bk_v1');"
      ],
      "execution_count": 48,
      "outputs": []
    },
    {
      "cell_type": "code",
      "metadata": {
        "id": "XnbwSFW4sf7T",
        "colab_type": "code",
        "colab": {
          "base_uri": "https://localhost:8080/",
          "height": 121
        },
        "outputId": "574155c3-0b94-40e3-d476-dfd17cea010f"
      },
      "source": [
        "learn.model.cuda() # model into the gpu"
      ],
      "execution_count": 23,
      "outputs": [
        {
          "output_type": "execute_result",
          "data": {
            "text/plain": [
              "EmbeddingDotBias(\n",
              "  (u_weight): Embedding(27560, 50)\n",
              "  (i_weight): Embedding(813, 50)\n",
              "  (u_bias): Embedding(27560, 1)\n",
              "  (i_bias): Embedding(813, 1)\n",
              ")"
            ]
          },
          "metadata": {
            "tags": []
          },
          "execution_count": 23
        }
      ]
    },
    {
      "cell_type": "markdown",
      "metadata": {
        "id": "6eATSeXXmVED",
        "colab_type": "text"
      },
      "source": [
        "Analysing book bias to extract the unbiased opinion about the book within the whole user base"
      ]
    },
    {
      "cell_type": "code",
      "metadata": {
        "id": "NlQnXn1Fd2UI",
        "colab_type": "code",
        "colab": {}
      },
      "source": [
        "book_bias = learn.bias(most_read.index[:500])\n",
        "book_bias.shape"
      ],
      "execution_count": null,
      "outputs": []
    },
    {
      "cell_type": "code",
      "metadata": {
        "id": "9qpRUG4hiSqe",
        "colab_type": "code",
        "colab": {}
      },
      "source": [
        "book_info = [(b, i, mean_rating.loc[i]) for i,b in zip(most_read.index,book_bias)]"
      ],
      "execution_count": 25,
      "outputs": []
    },
    {
      "cell_type": "code",
      "metadata": {
        "id": "W5oal0kDj1CL",
        "colab_type": "code",
        "colab": {
          "base_uri": "https://localhost:8080/",
          "height": 364
        },
        "outputId": "8bf619be-0ace-4839-a1c4-b0639d9869d0"
      },
      "source": [
        "for t, b in zip(most_read.index[:5], book_bias[:5]):\n",
        "  print(f'Book: {t}\\n -> Bias: {b} \\n -> Mean Rating: {mean_rating.loc[t]} \\n')"
      ],
      "execution_count": 26,
      "outputs": [
        {
          "output_type": "stream",
          "text": [
            "Book: Pearls of Lutra (Redwall, #9)\n",
            " -> Bias: -0.09689515829086304 \n",
            " -> Mean Rating: 2.8 \n",
            "\n",
            "Book: Blue Ocean Strategy: How To Create Uncontested Market Space And Make The Competition Irrelevant\n",
            " -> Bias: 0.5335620641708374 \n",
            " -> Mean Rating: 4.02 \n",
            "\n",
            "Book: Narcissus and Goldmund\n",
            " -> Bias: 0.39145544171333313 \n",
            " -> Mean Rating: 3.8 \n",
            "\n",
            "Book: Blue Like Jazz: Nonreligious Thoughts on Christian Spirituality\n",
            " -> Bias: -0.04157985374331474 \n",
            " -> Mean Rating: 3.02 \n",
            "\n",
            "Book: Naked\n",
            " -> Bias: 0.43617478013038635 \n",
            " -> Mean Rating: 3.81 \n",
            "\n"
          ],
          "name": "stdout"
        }
      ]
    },
    {
      "cell_type": "code",
      "metadata": {
        "id": "khC4Ns4IkBg4",
        "colab_type": "code",
        "colab": {
          "base_uri": "https://localhost:8080/",
          "height": 156
        },
        "outputId": "96ce00a6-0b4c-4680-a5ad-2f04f8d682df"
      },
      "source": [
        "print('Best books by the members'),\n",
        "sorted(book_info,key=lambda book: book[0], reverse=True)[:5]"
      ],
      "execution_count": 27,
      "outputs": [
        {
          "output_type": "stream",
          "text": [
            "Best books by the members\n"
          ],
          "name": "stdout"
        },
        {
          "output_type": "execute_result",
          "data": {
            "text/plain": [
              "[(tensor(0.9083), 'Girl with a Pearl Earring', 4.53),\n",
              " (tensor(0.8616), 'The Taste of Home Cookbook', 4.55),\n",
              " (tensor(0.8441), 'Franny and Zooey', 4.39),\n",
              " (tensor(0.8353), 'The Lost Boy (Dave Pelzer #2)', 4.4),\n",
              " (tensor(0.7916),\n",
              "  'Longitude: The True Story of a Lone Genius Who Solved the Greatest Scientific Problem of His Time',\n",
              "  4.34)]"
            ]
          },
          "metadata": {
            "tags": []
          },
          "execution_count": 27
        }
      ]
    },
    {
      "cell_type": "code",
      "metadata": {
        "id": "1Awt5DtmlTuO",
        "colab_type": "code",
        "colab": {
          "base_uri": "https://localhost:8080/",
          "height": 156
        },
        "outputId": "09880e1e-baff-456b-9972-4935f019b9e0"
      },
      "source": [
        "print('Worst books by the members'),\n",
        "sorted(book_info,key=lambda book: book[0])[:5]"
      ],
      "execution_count": 28,
      "outputs": [
        {
          "output_type": "stream",
          "text": [
            "Worst books by the members\n"
          ],
          "name": "stdout"
        },
        {
          "output_type": "execute_result",
          "data": {
            "text/plain": [
              "[(tensor(-0.2300), 'Nine Stories', 2.53),\n",
              " (tensor(-0.2101),\n",
              "  \"Harry Potter and the Sorcerer's Stone (Harry Potter, #1)\",\n",
              "  3.09),\n",
              " (tensor(-0.1060), 'The Chamber', 2.88),\n",
              " (tensor(-0.0969), 'Pearls of Lutra (Redwall, #9)', 2.8),\n",
              " (tensor(-0.0669), 'The Woman in White', 2.88)]"
            ]
          },
          "metadata": {
            "tags": []
          },
          "execution_count": 28
        }
      ]
    },
    {
      "cell_type": "markdown",
      "metadata": {
        "id": "VSXKlRtumOlN",
        "colab_type": "text"
      },
      "source": [
        "Analysing book weights to find groups in the embedding space"
      ]
    },
    {
      "cell_type": "code",
      "metadata": {
        "id": "IlRYWZzVmo9e",
        "colab_type": "code",
        "colab": {
          "base_uri": "https://localhost:8080/",
          "height": 34
        },
        "outputId": "ac703290-a1b9-4e51-f6ee-ae8943f4f051"
      },
      "source": [
        "book_w = learn.weight(most_read.index[:500])\n",
        "book_w.shape # 50 factors, so a 500x50 matrix"
      ],
      "execution_count": 29,
      "outputs": [
        {
          "output_type": "execute_result",
          "data": {
            "text/plain": [
              "torch.Size([500, 50])"
            ]
          },
          "metadata": {
            "tags": []
          },
          "execution_count": 29
        }
      ]
    },
    {
      "cell_type": "code",
      "metadata": {
        "id": "MNVmptpSm109",
        "colab_type": "code",
        "colab": {}
      },
      "source": [
        "# transforming in an numpy array:\n",
        "array_bw = np.asarray(book_w)"
      ],
      "execution_count": 30,
      "outputs": []
    },
    {
      "cell_type": "markdown",
      "metadata": {
        "id": "SIBL2JIRnnoK",
        "colab_type": "text"
      },
      "source": [
        "As we have 50 factors, it may be almost impossible to interpretate each one. Here we cover the maximum amount of space in the matrix of weights space using only 3 components instead of 50 to try to extract understandable information"
      ]
    },
    {
      "cell_type": "code",
      "metadata": {
        "id": "Sw-iG61anC_E",
        "colab_type": "code",
        "colab": {}
      },
      "source": [
        "principal_comps = book_w.pca(3) # creating 3 components\n",
        "comp1, comp2, comp3 = principal_comps.t() # dividing them into 3 separate tensors"
      ],
      "execution_count": 31,
      "outputs": []
    },
    {
      "cell_type": "code",
      "metadata": {
        "id": "Gv3F5nkJneCI",
        "colab_type": "code",
        "colab": {
          "base_uri": "https://localhost:8080/",
          "height": 69
        },
        "outputId": "6029161e-c797-419c-b350-c70c56c6c207"
      },
      "source": [
        "principal_comps.t()"
      ],
      "execution_count": 32,
      "outputs": [
        {
          "output_type": "execute_result",
          "data": {
            "text/plain": [
              "tensor([[-0.2183,  1.2633, -0.2229,  ...,  0.0641, -0.0174, -0.2483],\n",
              "        [-0.4163, -0.3362, -0.4003,  ..., -0.2484,  0.0841,  0.7073],\n",
              "        [ 0.0891, -0.2761,  0.3456,  ..., -0.8884, -0.7034,  0.3243]])"
            ]
          },
          "metadata": {
            "tags": []
          },
          "execution_count": 32
        }
      ]
    },
    {
      "cell_type": "code",
      "metadata": {
        "id": "XwVqqlfUngS5",
        "colab_type": "code",
        "colab": {}
      },
      "source": [
        "comp_1 = [(w, n) for w, n in zip(comp1, most_read.index)]\n",
        "comp_2 = [(f, i) for f, i in zip(comp2, most_read.index)]\n",
        "comp_3 = [(f, i) for f, i in zip(comp3, most_read.index)]"
      ],
      "execution_count": 33,
      "outputs": []
    },
    {
      "cell_type": "markdown",
      "metadata": {
        "id": "Zdo6AK5KoQAd",
        "colab_type": "text"
      },
      "source": [
        "Looking for information in the first component:"
      ]
    },
    {
      "cell_type": "code",
      "metadata": {
        "id": "xAAQIZ0soRN5",
        "colab_type": "code",
        "colab": {
          "base_uri": "https://localhost:8080/",
          "height": 208
        },
        "outputId": "be465e6d-9673-485c-d9d6-762b0758d1a1"
      },
      "source": [
        "sorted(comp_1, key=lambda w: w[0], reverse=True)[:10]"
      ],
      "execution_count": 34,
      "outputs": [
        {
          "output_type": "execute_result",
          "data": {
            "text/plain": [
              "[(tensor(1.3407), 'Postmortem (Kay Scarpetta, #1)'),\n",
              " (tensor(1.2633),\n",
              "  'Blue Ocean Strategy: How To Create Uncontested Market Space And Make The Competition Irrelevant'),\n",
              " (tensor(1.2536), 'Point of Origin (Kay Scarpetta, #9)'),\n",
              " (tensor(1.2363), 'The Adventures of Huckleberry Finn'),\n",
              " (tensor(1.1118), 'Job: A Comedy of Justice'),\n",
              " (tensor(1.0955), 'Congo'),\n",
              " (tensor(1.0813), 'In the Skin of a Lion'),\n",
              " (tensor(1.0732), 'Night (The Night Trilogy #1)'),\n",
              " (tensor(1.0132), 'Goldfinger (James Bond, #7)'),\n",
              " (tensor(0.9552), 'Endymion (Hyperion Cantos, #3)')]"
            ]
          },
          "metadata": {
            "tags": []
          },
          "execution_count": 34
        }
      ]
    },
    {
      "cell_type": "code",
      "metadata": {
        "id": "-hzBTAIGoq10",
        "colab_type": "code",
        "colab": {
          "base_uri": "https://localhost:8080/",
          "height": 208
        },
        "outputId": "397ef210-3b49-49d6-8539-4b75d6804d67"
      },
      "source": [
        "sorted(comp_1, key=lambda w: w[0])[:10]"
      ],
      "execution_count": 35,
      "outputs": [
        {
          "output_type": "execute_result",
          "data": {
            "text/plain": [
              "[(tensor(-1.2110), 'The Confusion (The Baroque Cycle, #2)'),\n",
              " (tensor(-1.0973), 'The Doors of Perception & Heaven and Hell'),\n",
              " (tensor(-1.0772), \"The River (Brian's Saga, #2)\"),\n",
              " (tensor(-1.0761),\n",
              "  'Harry Potter and the Order of the Phoenix (Harry Potter, #5)'),\n",
              " (tensor(-1.0496), 'Memories of My Melancholy Whores'),\n",
              " (tensor(-0.9951), 'Harry Potter Collection (Harry Potter, #1-6)'),\n",
              " (tensor(-0.8931), 'Blindness'),\n",
              " (tensor(-0.8585), 'Shalimar the Clown'),\n",
              " (tensor(-0.8449), 'The Sirens of Titan'),\n",
              " (tensor(-0.7868), \"Plum Lovin' (Stephanie Plum, #12.5)\")]"
            ]
          },
          "metadata": {
            "tags": []
          },
          "execution_count": 35
        }
      ]
    },
    {
      "cell_type": "markdown",
      "metadata": {
        "id": "beNKTYyPpERf",
        "colab_type": "text"
      },
      "source": [
        "Looking for information in the second component:"
      ]
    },
    {
      "cell_type": "code",
      "metadata": {
        "id": "MqXIrVFKpcaZ",
        "colab_type": "code",
        "colab": {
          "base_uri": "https://localhost:8080/",
          "height": 208
        },
        "outputId": "52d8402e-dcb2-453e-8717-3fefec7b8801"
      },
      "source": [
        "sorted(comp_2, key=lambda w: w[0], reverse=True)[:10]"
      ],
      "execution_count": 36,
      "outputs": [
        {
          "output_type": "execute_result",
          "data": {
            "text/plain": [
              "[(tensor(1.0656), 'Martin Chuzzlewit'),\n",
              " (tensor(1.0290), 'Nine Stories'),\n",
              " (tensor(0.9984), 'Life of Pi'),\n",
              " (tensor(0.9446), 'The Virgin Blue'),\n",
              " (tensor(0.9408), 'Harry Potter Boxed Set, Books 1-5 (Harry Potter, #1-5)'),\n",
              " (tensor(0.9402), 'The Terminal Man'),\n",
              " (tensor(0.9314), 'My Life in France'),\n",
              " (tensor(0.9119), 'I Hope They Serve Beer in Hell (Tucker Max, #1)'),\n",
              " (tensor(0.9026), 'Atlas Shrugged'),\n",
              " (tensor(0.8809),\n",
              "  'The Path Between the Seas: The Creation of the Panama Canal, 1870-1914')]"
            ]
          },
          "metadata": {
            "tags": []
          },
          "execution_count": 36
        }
      ]
    },
    {
      "cell_type": "code",
      "metadata": {
        "id": "r_T_I-mNpflC",
        "colab_type": "code",
        "colab": {
          "base_uri": "https://localhost:8080/",
          "height": 191
        },
        "outputId": "d25b2fc1-ad02-4bd7-8c41-6832fa1295b3"
      },
      "source": [
        "sorted(comp_2, key=lambda w: w[0])[:10]"
      ],
      "execution_count": 37,
      "outputs": [
        {
          "output_type": "execute_result",
          "data": {
            "text/plain": [
              "[(tensor(-1.2952), 'Runaways, Vol. 1: Pride and Joy (Runaways, #1)'),\n",
              " (tensor(-1.1784), 'The Testament'),\n",
              " (tensor(-0.9996), 'Wizard and Glass (The Dark Tower, #4)'),\n",
              " (tensor(-0.9137), 'Kafka on the Shore'),\n",
              " (tensor(-0.9007), 'War and Peace'),\n",
              " (tensor(-0.8932), 'Song of Susannah (The Dark Tower, #6)'),\n",
              " (tensor(-0.8721), 'From the Mixed-Up Files of Mrs. Basil E. Frankweiler'),\n",
              " (tensor(-0.8720), 'Skinny Legs and All'),\n",
              " (tensor(-0.8681), 'Point of Origin (Kay Scarpetta, #9)'),\n",
              " (tensor(-0.8672), 'In Our Time')]"
            ]
          },
          "metadata": {
            "tags": []
          },
          "execution_count": 37
        }
      ]
    },
    {
      "cell_type": "markdown",
      "metadata": {
        "id": "iowRA2VTpiDC",
        "colab_type": "text"
      },
      "source": [
        "Looking for information in the third component\n"
      ]
    },
    {
      "cell_type": "code",
      "metadata": {
        "id": "1m-WwsHzpp6A",
        "colab_type": "code",
        "colab": {
          "base_uri": "https://localhost:8080/",
          "height": 208
        },
        "outputId": "76a05790-6eee-4337-ae6a-bb729f09b7a8"
      },
      "source": [
        "sorted(comp_3, key=lambda w: w[0], reverse=True)[:10]"
      ],
      "execution_count": 38,
      "outputs": [
        {
          "output_type": "execute_result",
          "data": {
            "text/plain": [
              "[(tensor(1.3240), 'The Secret Garden'),\n",
              " (tensor(1.2172), 'Three Men in a Boat (Three Men, #1)'),\n",
              " (tensor(1.1144), 'A Christmas Carol'),\n",
              " (tensor(1.1086), 'Salamandastron (Redwall, #5)'),\n",
              " (tensor(1.1061), 'Birdsong'),\n",
              " (tensor(1.0615), 'How We Are Hungry'),\n",
              " (tensor(1.0414), 'A Bend in the Road'),\n",
              " (tensor(1.0322), 'Waiting for the Barbarians'),\n",
              " (tensor(1.0137),\n",
              "  'Longitude: The True Story of a Lone Genius Who Solved the Greatest Scientific Problem of His Time'),\n",
              " (tensor(0.9972), 'My Life in France')]"
            ]
          },
          "metadata": {
            "tags": []
          },
          "execution_count": 38
        }
      ]
    },
    {
      "cell_type": "code",
      "metadata": {
        "id": "I-k1djn9ptCP",
        "colab_type": "code",
        "colab": {
          "base_uri": "https://localhost:8080/",
          "height": 191
        },
        "outputId": "cd2b1fc4-58a6-44d0-d907-6978e5ccbae7"
      },
      "source": [
        "sorted(comp_3, key=lambda w: w[0])[:10]"
      ],
      "execution_count": 39,
      "outputs": [
        {
          "output_type": "execute_result",
          "data": {
            "text/plain": [
              "[(tensor(-1.2127), 'Never Let Me Go'),\n",
              " (tensor(-1.0171), 'Cradle and All'),\n",
              " (tensor(-0.9945), 'Rainbow Six (Jack Ryan Universe, #10)'),\n",
              " (tensor(-0.9339), 'Hard Eight (Stephanie Plum, #8)'),\n",
              " (tensor(-0.9271), 'I Like You: Hospitality Under the Influence'),\n",
              " (tensor(-0.8884), 'The Dark Tower (The Dark Tower, #7)'),\n",
              " (tensor(-0.8884), 'Hey Nostradamus!'),\n",
              " (tensor(-0.8878), 'Farmer Boy (Little House, #3)'),\n",
              " (tensor(-0.8514), 'Timbuktu'),\n",
              " (tensor(-0.7995), 'Fantastic Mr. Fox')]"
            ]
          },
          "metadata": {
            "tags": []
          },
          "execution_count": 39
        }
      ]
    },
    {
      "cell_type": "markdown",
      "metadata": {
        "id": "CEIOGtjoukBL",
        "colab_type": "text"
      },
      "source": [
        "Predictions"
      ]
    },
    {
      "cell_type": "code",
      "metadata": {
        "id": "Y_HHiLtGqWAl",
        "colab_type": "code",
        "colab": {
          "base_uri": "https://localhost:8080/",
          "height": 17
        },
        "outputId": "af91847e-285a-4946-cedb-123c0b102a7c"
      },
      "source": [
        "learn.model.cuda()\n",
        "predictions = learn.get_preds(ds_type=DatasetType.Train)\n",
        "preds = predictions[0].numpy()"
      ],
      "execution_count": 41,
      "outputs": [
        {
          "output_type": "display_data",
          "data": {
            "text/html": [
              ""
            ],
            "text/plain": [
              "<IPython.core.display.HTML object>"
            ]
          },
          "metadata": {
            "tags": []
          }
        }
      ]
    },
    {
      "cell_type": "code",
      "metadata": {
        "id": "HMzpwif7q1Bq",
        "colab_type": "code",
        "colab": {
          "base_uri": "https://localhost:8080/",
          "height": 434
        },
        "outputId": "b518f78a-1fb8-4c45-a2bf-6e539b4b8d48"
      },
      "source": [
        "for t, p in zip(test['rating'].values[:6], preds[:6]):\n",
        "  print(f'True value: {t} \\nPredicted value: {p}\\n\\n')"
      ],
      "execution_count": 42,
      "outputs": [
        {
          "output_type": "stream",
          "text": [
            "True value: 3 \n",
            "Predicted value: 3.2062723636627197\n",
            "\n",
            "\n",
            "True value: 5 \n",
            "Predicted value: 3.0001964569091797\n",
            "\n",
            "\n",
            "True value: 4 \n",
            "Predicted value: 3.6449759006500244\n",
            "\n",
            "\n",
            "True value: 4 \n",
            "Predicted value: 3.9866089820861816\n",
            "\n",
            "\n",
            "True value: 3 \n",
            "Predicted value: 4.871235370635986\n",
            "\n",
            "\n",
            "True value: 5 \n",
            "Predicted value: 3.237518548965454\n",
            "\n",
            "\n"
          ],
          "name": "stdout"
        }
      ]
    },
    {
      "cell_type": "code",
      "metadata": {
        "id": "6C4MgOZQsl9s",
        "colab_type": "code",
        "colab": {}
      },
      "source": [
        ""
      ],
      "execution_count": 1,
      "outputs": []
    }
  ]
}