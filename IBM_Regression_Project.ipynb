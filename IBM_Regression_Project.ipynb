{
  "nbformat": 4,
  "nbformat_minor": 0,
  "metadata": {
    "colab": {
      "name": "IBM_regression_project.ipynb",
      "provenance": [],
      "collapsed_sections": [],
      "authorship_tag": "ABX9TyPPGu4CT7Z4slovnLxB7yd1",
      "include_colab_link": true
    },
    "kernelspec": {
      "name": "python3",
      "display_name": "Python 3"
    }
  },
  "cells": [
    {
      "cell_type": "markdown",
      "metadata": {
        "id": "view-in-github",
        "colab_type": "text"
      },
      "source": [
        "<a href=\"https://colab.research.google.com/github/Davilirio/Python_data_analysis/blob/master/IBM_Regression_Project.ipynb\" target=\"_parent\"><img src=\"https://colab.research.google.com/assets/colab-badge.svg\" alt=\"Open In Colab\"/></a>"
      ]
    },
    {
      "cell_type": "code",
      "metadata": {
        "colab": {
          "base_uri": "https://localhost:8080/"
        },
        "id": "eDvgFZeZG81u",
        "outputId": "d3c1ea71-f031-497e-e743-e9fcb60d1a31"
      },
      "source": [
        "!pip install geopandas\n",
        "\n",
        "from google.colab import drive, files\n",
        "drive.mount('/content/gdrive')"
      ],
      "execution_count": 1,
      "outputs": [
        {
          "output_type": "stream",
          "text": [
            "Requirement already satisfied: geopandas in /usr/local/lib/python3.7/dist-packages (0.9.0)\n",
            "Requirement already satisfied: shapely>=1.6 in /usr/local/lib/python3.7/dist-packages (from geopandas) (1.7.1)\n",
            "Requirement already satisfied: fiona>=1.8 in /usr/local/lib/python3.7/dist-packages (from geopandas) (1.8.18)\n",
            "Requirement already satisfied: pyproj>=2.2.0 in /usr/local/lib/python3.7/dist-packages (from geopandas) (3.0.0.post1)\n",
            "Requirement already satisfied: pandas>=0.24.0 in /usr/local/lib/python3.7/dist-packages (from geopandas) (1.1.5)\n",
            "Requirement already satisfied: six>=1.7 in /usr/local/lib/python3.7/dist-packages (from fiona>=1.8->geopandas) (1.15.0)\n",
            "Requirement already satisfied: click-plugins>=1.0 in /usr/local/lib/python3.7/dist-packages (from fiona>=1.8->geopandas) (1.1.1)\n",
            "Requirement already satisfied: munch in /usr/local/lib/python3.7/dist-packages (from fiona>=1.8->geopandas) (2.5.0)\n",
            "Requirement already satisfied: click<8,>=4.0 in /usr/local/lib/python3.7/dist-packages (from fiona>=1.8->geopandas) (7.1.2)\n",
            "Requirement already satisfied: certifi in /usr/local/lib/python3.7/dist-packages (from fiona>=1.8->geopandas) (2020.12.5)\n",
            "Requirement already satisfied: cligj>=0.5 in /usr/local/lib/python3.7/dist-packages (from fiona>=1.8->geopandas) (0.7.1)\n",
            "Requirement already satisfied: attrs>=17 in /usr/local/lib/python3.7/dist-packages (from fiona>=1.8->geopandas) (20.3.0)\n",
            "Requirement already satisfied: numpy>=1.15.4 in /usr/local/lib/python3.7/dist-packages (from pandas>=0.24.0->geopandas) (1.19.5)\n",
            "Requirement already satisfied: pytz>=2017.2 in /usr/local/lib/python3.7/dist-packages (from pandas>=0.24.0->geopandas) (2018.9)\n",
            "Requirement already satisfied: python-dateutil>=2.7.3 in /usr/local/lib/python3.7/dist-packages (from pandas>=0.24.0->geopandas) (2.8.1)\n",
            "Drive already mounted at /content/gdrive; to attempt to forcibly remount, call drive.mount(\"/content/gdrive\", force_remount=True).\n"
          ],
          "name": "stdout"
        }
      ]
    },
    {
      "cell_type": "code",
      "metadata": {
        "id": "WqqE81hXHDLh"
      },
      "source": [
        "import pandas as pd \n",
        "import numpy as np\n",
        "import matplotlib.pyplot as plt\n",
        "import seaborn as sns\n",
        "from sklearn.linear_model import LinearRegression, Ridge,RidgeCV, Lasso,LassoCV\n",
        "from sklearn.preprocessing import StandardScaler, PolynomialFeatures\n",
        "from sklearn.model_selection import KFold, cross_val_predict, train_test_split\n",
        "from sklearn.metrics import r2_score, mean_squared_error, mean_absolute_error\n",
        "from sklearn.pipeline import Pipeline\n",
        "from sklearn.preprocessing import LabelEncoder\n",
        "from scipy import stats\n",
        "import geopandas as gpd\n",
        "\n",
        "import warnings\n",
        "warnings.simplefilter(\"ignore\")\n",
        "\n",
        "plt.style.use('seaborn-dark')"
      ],
      "execution_count": 117,
      "outputs": []
    },
    {
      "cell_type": "code",
      "metadata": {
        "colab": {
          "base_uri": "https://localhost:8080/"
        },
        "id": "I3U3OrmE2Ur0",
        "outputId": "a60aba6b-8898-4248-9036-3a6278ed3312"
      },
      "source": [
        "data = pd.read_csv('/content/gdrive/MyDrive/data_science_stuff/datasets/rio_listings.csv')\n",
        "data.shape"
      ],
      "execution_count": 31,
      "outputs": [
        {
          "output_type": "execute_result",
          "data": {
            "text/plain": [
              "(26106, 74)"
            ]
          },
          "metadata": {
            "tags": []
          },
          "execution_count": 31
        }
      ]
    },
    {
      "cell_type": "code",
      "metadata": {
        "colab": {
          "base_uri": "https://localhost:8080/"
        },
        "id": "XJwBmsCS2xh3",
        "outputId": "82f562e8-5c44-4f84-d8b3-e333c7506526"
      },
      "source": [
        "data.dtypes"
      ],
      "execution_count": 33,
      "outputs": [
        {
          "output_type": "execute_result",
          "data": {
            "text/plain": [
              "id                                                int64\n",
              "listing_url                                      object\n",
              "scrape_id                                         int64\n",
              "last_scraped                                     object\n",
              "name                                             object\n",
              "                                                 ...   \n",
              "calculated_host_listings_count                    int64\n",
              "calculated_host_listings_count_entire_homes       int64\n",
              "calculated_host_listings_count_private_rooms      int64\n",
              "calculated_host_listings_count_shared_rooms       int64\n",
              "reviews_per_month                               float64\n",
              "Length: 74, dtype: object"
            ]
          },
          "metadata": {
            "tags": []
          },
          "execution_count": 33
        }
      ]
    },
    {
      "cell_type": "code",
      "metadata": {
        "id": "6Z1liGO9JqnE"
      },
      "source": [
        "data = pd.read_csv('/content/gdrive/MyDrive/data_science_stuff/datasets/rio_listings.csv')\n",
        "data['price'] = data['price'].str.replace('$','')\n",
        "data['price'] = data['price'].str.replace(',','')\n",
        "data['price'] = data['price'].str.replace(' ','')\n",
        "data['price'] = data['price'].astype('float64')\n",
        "data = data[data['price'].notna()]\n",
        "data = data[data['bedrooms'].notna()]\n",
        "\n",
        "Q1 = data.quantile(0.25)\n",
        "Q3 = data.quantile(0.75)\n",
        "IQR = Q3 - Q1\n",
        "\n",
        "data = data[~((data < (Q1 - 1.5 * IQR)) |(data > (Q3 + 1.5 * IQR))).any(axis=1)]\n",
        "data['price'] = data['price'].astype('float32')\n",
        "data['price'].dropna(inplace=True)\n",
        "data['bedrooms'].dropna(inplace=True)"
      ],
      "execution_count": 43,
      "outputs": []
    },
    {
      "cell_type": "code",
      "metadata": {
        "colab": {
          "base_uri": "https://localhost:8080/"
        },
        "id": "iG1H6HSH3_7f",
        "outputId": "d08e03ff-2131-43ff-a9f1-f1a366c3e082"
      },
      "source": [
        "data['price'].max()"
      ],
      "execution_count": 44,
      "outputs": [
        {
          "output_type": "execute_result",
          "data": {
            "text/plain": [
              "1250.0"
            ]
          },
          "metadata": {
            "tags": []
          },
          "execution_count": 44
        }
      ]
    },
    {
      "cell_type": "code",
      "metadata": {
        "colab": {
          "base_uri": "https://localhost:8080/",
          "height": 1000
        },
        "id": "1oqfEgpl0lWu",
        "outputId": "859b4ce5-5570-4677-9f29-9dd7fc7875ec"
      },
      "source": [
        "data.loc[data['price'] == data['price'].max()]"
      ],
      "execution_count": 45,
      "outputs": [
        {
          "output_type": "execute_result",
          "data": {
            "text/html": [
              "<div>\n",
              "<style scoped>\n",
              "    .dataframe tbody tr th:only-of-type {\n",
              "        vertical-align: middle;\n",
              "    }\n",
              "\n",
              "    .dataframe tbody tr th {\n",
              "        vertical-align: top;\n",
              "    }\n",
              "\n",
              "    .dataframe thead th {\n",
              "        text-align: right;\n",
              "    }\n",
              "</style>\n",
              "<table border=\"1\" class=\"dataframe\">\n",
              "  <thead>\n",
              "    <tr style=\"text-align: right;\">\n",
              "      <th></th>\n",
              "      <th>id</th>\n",
              "      <th>listing_url</th>\n",
              "      <th>scrape_id</th>\n",
              "      <th>last_scraped</th>\n",
              "      <th>name</th>\n",
              "      <th>description</th>\n",
              "      <th>neighborhood_overview</th>\n",
              "      <th>picture_url</th>\n",
              "      <th>host_id</th>\n",
              "      <th>host_url</th>\n",
              "      <th>host_name</th>\n",
              "      <th>host_since</th>\n",
              "      <th>host_location</th>\n",
              "      <th>host_about</th>\n",
              "      <th>host_response_time</th>\n",
              "      <th>host_response_rate</th>\n",
              "      <th>host_acceptance_rate</th>\n",
              "      <th>host_is_superhost</th>\n",
              "      <th>host_thumbnail_url</th>\n",
              "      <th>host_picture_url</th>\n",
              "      <th>host_neighbourhood</th>\n",
              "      <th>host_listings_count</th>\n",
              "      <th>host_total_listings_count</th>\n",
              "      <th>host_verifications</th>\n",
              "      <th>host_has_profile_pic</th>\n",
              "      <th>host_identity_verified</th>\n",
              "      <th>neighbourhood</th>\n",
              "      <th>neighbourhood_cleansed</th>\n",
              "      <th>neighbourhood_group_cleansed</th>\n",
              "      <th>latitude</th>\n",
              "      <th>longitude</th>\n",
              "      <th>property_type</th>\n",
              "      <th>room_type</th>\n",
              "      <th>accommodates</th>\n",
              "      <th>bathrooms</th>\n",
              "      <th>bathrooms_text</th>\n",
              "      <th>bedrooms</th>\n",
              "      <th>beds</th>\n",
              "      <th>amenities</th>\n",
              "      <th>price</th>\n",
              "      <th>minimum_nights</th>\n",
              "      <th>maximum_nights</th>\n",
              "      <th>minimum_minimum_nights</th>\n",
              "      <th>maximum_minimum_nights</th>\n",
              "      <th>minimum_maximum_nights</th>\n",
              "      <th>maximum_maximum_nights</th>\n",
              "      <th>minimum_nights_avg_ntm</th>\n",
              "      <th>maximum_nights_avg_ntm</th>\n",
              "      <th>calendar_updated</th>\n",
              "      <th>has_availability</th>\n",
              "      <th>availability_30</th>\n",
              "      <th>availability_60</th>\n",
              "      <th>availability_90</th>\n",
              "      <th>availability_365</th>\n",
              "      <th>calendar_last_scraped</th>\n",
              "      <th>number_of_reviews</th>\n",
              "      <th>number_of_reviews_ltm</th>\n",
              "      <th>number_of_reviews_l30d</th>\n",
              "      <th>first_review</th>\n",
              "      <th>last_review</th>\n",
              "      <th>review_scores_rating</th>\n",
              "      <th>review_scores_accuracy</th>\n",
              "      <th>review_scores_cleanliness</th>\n",
              "      <th>review_scores_checkin</th>\n",
              "      <th>review_scores_communication</th>\n",
              "      <th>review_scores_location</th>\n",
              "      <th>review_scores_value</th>\n",
              "      <th>license</th>\n",
              "      <th>instant_bookable</th>\n",
              "      <th>calculated_host_listings_count</th>\n",
              "      <th>calculated_host_listings_count_entire_homes</th>\n",
              "      <th>calculated_host_listings_count_private_rooms</th>\n",
              "      <th>calculated_host_listings_count_shared_rooms</th>\n",
              "      <th>reviews_per_month</th>\n",
              "    </tr>\n",
              "  </thead>\n",
              "  <tbody>\n",
              "    <tr>\n",
              "      <th>3842</th>\n",
              "      <td>5205127</td>\n",
              "      <td>https://www.airbnb.com/rooms/5205127</td>\n",
              "      <td>20210126045954</td>\n",
              "      <td>2021-01-28</td>\n",
              "      <td>TRANQUILIDADE E CONFORTO</td>\n",
              "      <td>Apartamento com sala em dois ambientes, 2 quar...</td>\n",
              "      <td>Bairro boêmio, com muitos bares, restaurantes ...</td>\n",
              "      <td>https://a0.muscache.com/pictures/65077663/78df...</td>\n",
              "      <td>26907475</td>\n",
              "      <td>https://www.airbnb.com/users/show/26907475</td>\n",
              "      <td>Angela</td>\n",
              "      <td>2015-01-29</td>\n",
              "      <td>Rio de Janeiro, State of Rio de Janeiro, Brazil</td>\n",
              "      <td>Sou profissional liberal da área de Eventos.</td>\n",
              "      <td>NaN</td>\n",
              "      <td>NaN</td>\n",
              "      <td>NaN</td>\n",
              "      <td>f</td>\n",
              "      <td>https://a0.muscache.com/im/users/26907475/prof...</td>\n",
              "      <td>https://a0.muscache.com/im/users/26907475/prof...</td>\n",
              "      <td>Santa Teresa</td>\n",
              "      <td>1.0</td>\n",
              "      <td>1.0</td>\n",
              "      <td>['email', 'phone', 'manual_online', 'manual_of...</td>\n",
              "      <td>t</td>\n",
              "      <td>t</td>\n",
              "      <td>Rio de Janeiro, Brazil</td>\n",
              "      <td>Santa Teresa</td>\n",
              "      <td>NaN</td>\n",
              "      <td>-22.91407</td>\n",
              "      <td>-43.19125</td>\n",
              "      <td>Entire house</td>\n",
              "      <td>Entire home/apt</td>\n",
              "      <td>4</td>\n",
              "      <td>NaN</td>\n",
              "      <td>1 bath</td>\n",
              "      <td>2.0</td>\n",
              "      <td>3.0</td>\n",
              "      <td>[\"Essentials\", \"Free parking on premises\", \"Ca...</td>\n",
              "      <td>1250.0</td>\n",
              "      <td>4</td>\n",
              "      <td>8</td>\n",
              "      <td>4</td>\n",
              "      <td>4</td>\n",
              "      <td>8</td>\n",
              "      <td>8</td>\n",
              "      <td>4.0</td>\n",
              "      <td>8.0</td>\n",
              "      <td>NaN</td>\n",
              "      <td>t</td>\n",
              "      <td>30</td>\n",
              "      <td>60</td>\n",
              "      <td>90</td>\n",
              "      <td>365</td>\n",
              "      <td>2021-01-28</td>\n",
              "      <td>0</td>\n",
              "      <td>0</td>\n",
              "      <td>0</td>\n",
              "      <td>NaN</td>\n",
              "      <td>NaN</td>\n",
              "      <td>NaN</td>\n",
              "      <td>NaN</td>\n",
              "      <td>NaN</td>\n",
              "      <td>NaN</td>\n",
              "      <td>NaN</td>\n",
              "      <td>NaN</td>\n",
              "      <td>NaN</td>\n",
              "      <td>NaN</td>\n",
              "      <td>f</td>\n",
              "      <td>1</td>\n",
              "      <td>1</td>\n",
              "      <td>0</td>\n",
              "      <td>0</td>\n",
              "      <td>NaN</td>\n",
              "    </tr>\n",
              "    <tr>\n",
              "      <th>4928</th>\n",
              "      <td>9225010</td>\n",
              "      <td>https://www.airbnb.com/rooms/9225010</td>\n",
              "      <td>20210126045954</td>\n",
              "      <td>2021-01-28</td>\n",
              "      <td>Refinement and Comfort at Corcovado</td>\n",
              "      <td>Next to the Corcovado Hill in the traditional ...</td>\n",
              "      <td>NaN</td>\n",
              "      <td>https://a0.muscache.com/pictures/6845d3a3-d5c6...</td>\n",
              "      <td>47963096</td>\n",
              "      <td>https://www.airbnb.com/users/show/47963096</td>\n",
              "      <td>Neri</td>\n",
              "      <td>2015-11-02</td>\n",
              "      <td>Rio de Janeiro, State of Rio de Janeiro, Brazil</td>\n",
              "      <td>Trabalho com Moda, gosto de mesclar cores bási...</td>\n",
              "      <td>NaN</td>\n",
              "      <td>NaN</td>\n",
              "      <td>NaN</td>\n",
              "      <td>f</td>\n",
              "      <td>https://a0.muscache.com/im/pictures/user/94f59...</td>\n",
              "      <td>https://a0.muscache.com/im/pictures/user/94f59...</td>\n",
              "      <td>Laranjeiras</td>\n",
              "      <td>2.0</td>\n",
              "      <td>2.0</td>\n",
              "      <td>['email', 'phone', 'reviews']</td>\n",
              "      <td>t</td>\n",
              "      <td>f</td>\n",
              "      <td>NaN</td>\n",
              "      <td>Laranjeiras</td>\n",
              "      <td>NaN</td>\n",
              "      <td>-22.93530</td>\n",
              "      <td>-43.18633</td>\n",
              "      <td>Entire apartment</td>\n",
              "      <td>Entire home/apt</td>\n",
              "      <td>7</td>\n",
              "      <td>NaN</td>\n",
              "      <td>3 baths</td>\n",
              "      <td>3.0</td>\n",
              "      <td>5.0</td>\n",
              "      <td>[\"Essentials\", \"Free parking on premises\", \"El...</td>\n",
              "      <td>1250.0</td>\n",
              "      <td>7</td>\n",
              "      <td>30</td>\n",
              "      <td>7</td>\n",
              "      <td>7</td>\n",
              "      <td>30</td>\n",
              "      <td>30</td>\n",
              "      <td>7.0</td>\n",
              "      <td>30.0</td>\n",
              "      <td>NaN</td>\n",
              "      <td>t</td>\n",
              "      <td>29</td>\n",
              "      <td>59</td>\n",
              "      <td>89</td>\n",
              "      <td>364</td>\n",
              "      <td>2021-01-28</td>\n",
              "      <td>1</td>\n",
              "      <td>0</td>\n",
              "      <td>0</td>\n",
              "      <td>2016-01-02</td>\n",
              "      <td>2016-01-02</td>\n",
              "      <td>NaN</td>\n",
              "      <td>NaN</td>\n",
              "      <td>NaN</td>\n",
              "      <td>NaN</td>\n",
              "      <td>NaN</td>\n",
              "      <td>NaN</td>\n",
              "      <td>NaN</td>\n",
              "      <td>NaN</td>\n",
              "      <td>t</td>\n",
              "      <td>1</td>\n",
              "      <td>1</td>\n",
              "      <td>0</td>\n",
              "      <td>0</td>\n",
              "      <td>0.02</td>\n",
              "    </tr>\n",
              "    <tr>\n",
              "      <th>4980</th>\n",
              "      <td>9345914</td>\n",
              "      <td>https://www.airbnb.com/rooms/9345914</td>\n",
              "      <td>20210126045954</td>\n",
              "      <td>2021-01-28</td>\n",
              "      <td>Suíte Maravilhosa!</td>\n",
              "      <td>Suíte master, espaçosa, de frente para o mar  ...</td>\n",
              "      <td>A praia, perto bons restaurantes e shoppings.</td>\n",
              "      <td>https://a0.muscache.com/pictures/216e10de-1721...</td>\n",
              "      <td>48504157</td>\n",
              "      <td>https://www.airbnb.com/users/show/48504157</td>\n",
              "      <td>Elisa</td>\n",
              "      <td>2015-11-08</td>\n",
              "      <td>Rio de Janeiro, State of Rio de Janeiro, Brazil</td>\n",
              "      <td>Chef de cozinha, adoro a natureza. Gosto de vi...</td>\n",
              "      <td>NaN</td>\n",
              "      <td>NaN</td>\n",
              "      <td>NaN</td>\n",
              "      <td>f</td>\n",
              "      <td>https://a0.muscache.com/im/pictures/user/9dd99...</td>\n",
              "      <td>https://a0.muscache.com/im/pictures/user/9dd99...</td>\n",
              "      <td>Barra da Tijuca</td>\n",
              "      <td>2.0</td>\n",
              "      <td>2.0</td>\n",
              "      <td>['email', 'phone', 'reviews']</td>\n",
              "      <td>t</td>\n",
              "      <td>f</td>\n",
              "      <td>Rio de Janeiro, Brazil</td>\n",
              "      <td>Barra da Tijuca</td>\n",
              "      <td>NaN</td>\n",
              "      <td>-23.01256</td>\n",
              "      <td>-43.31776</td>\n",
              "      <td>Private room in apartment</td>\n",
              "      <td>Private room</td>\n",
              "      <td>2</td>\n",
              "      <td>NaN</td>\n",
              "      <td>0 shared baths</td>\n",
              "      <td>1.0</td>\n",
              "      <td>1.0</td>\n",
              "      <td>[\"Free parking on premises\", \"Elevator\", \"Iron...</td>\n",
              "      <td>1250.0</td>\n",
              "      <td>2</td>\n",
              "      <td>1125</td>\n",
              "      <td>2</td>\n",
              "      <td>2</td>\n",
              "      <td>1125</td>\n",
              "      <td>1125</td>\n",
              "      <td>2.0</td>\n",
              "      <td>1125.0</td>\n",
              "      <td>NaN</td>\n",
              "      <td>t</td>\n",
              "      <td>30</td>\n",
              "      <td>60</td>\n",
              "      <td>90</td>\n",
              "      <td>365</td>\n",
              "      <td>2021-01-28</td>\n",
              "      <td>1</td>\n",
              "      <td>0</td>\n",
              "      <td>0</td>\n",
              "      <td>2017-09-15</td>\n",
              "      <td>2017-09-15</td>\n",
              "      <td>NaN</td>\n",
              "      <td>NaN</td>\n",
              "      <td>NaN</td>\n",
              "      <td>NaN</td>\n",
              "      <td>NaN</td>\n",
              "      <td>NaN</td>\n",
              "      <td>NaN</td>\n",
              "      <td>NaN</td>\n",
              "      <td>t</td>\n",
              "      <td>1</td>\n",
              "      <td>0</td>\n",
              "      <td>1</td>\n",
              "      <td>0</td>\n",
              "      <td>0.02</td>\n",
              "    </tr>\n",
              "    <tr>\n",
              "      <th>5921</th>\n",
              "      <td>10984938</td>\n",
              "      <td>https://www.airbnb.com/rooms/10984938</td>\n",
              "      <td>20210126045954</td>\n",
              "      <td>2021-01-28</td>\n",
              "      <td>Olympic Games -   Barra da Tijuca</td>\n",
              "      <td>Luxuoso apartamento/FLAT de frente para o Mar ...</td>\n",
              "      <td>Fica a 05 minutos a pé da Avenida Olegário Mac...</td>\n",
              "      <td>https://a0.muscache.com/pictures/1cf0c713-25c7...</td>\n",
              "      <td>56974096</td>\n",
              "      <td>https://www.airbnb.com/users/show/56974096</td>\n",
              "      <td>Herberth</td>\n",
              "      <td>2016-02-01</td>\n",
              "      <td>Rio de Janeiro, State of Rio de Janeiro, Brazil</td>\n",
              "      <td>My name is Herberth, from Copacabana, Rio.\\r\\n...</td>\n",
              "      <td>a few days or more</td>\n",
              "      <td>0%</td>\n",
              "      <td>NaN</td>\n",
              "      <td>f</td>\n",
              "      <td>https://a0.muscache.com/im/pictures/user/91345...</td>\n",
              "      <td>https://a0.muscache.com/im/pictures/user/91345...</td>\n",
              "      <td>Barra da Tijuca</td>\n",
              "      <td>1.0</td>\n",
              "      <td>1.0</td>\n",
              "      <td>['email', 'phone', 'jumio', 'government_id']</td>\n",
              "      <td>t</td>\n",
              "      <td>f</td>\n",
              "      <td>Rio de Janeiro, Brazil</td>\n",
              "      <td>Barra da Tijuca</td>\n",
              "      <td>NaN</td>\n",
              "      <td>-23.01395</td>\n",
              "      <td>-43.30351</td>\n",
              "      <td>Entire apartment</td>\n",
              "      <td>Entire home/apt</td>\n",
              "      <td>4</td>\n",
              "      <td>NaN</td>\n",
              "      <td>2 baths</td>\n",
              "      <td>2.0</td>\n",
              "      <td>4.0</td>\n",
              "      <td>[\"Free parking on premises\", \"Elevator\", \"Cabl...</td>\n",
              "      <td>1250.0</td>\n",
              "      <td>7</td>\n",
              "      <td>60</td>\n",
              "      <td>7</td>\n",
              "      <td>7</td>\n",
              "      <td>60</td>\n",
              "      <td>60</td>\n",
              "      <td>7.0</td>\n",
              "      <td>60.0</td>\n",
              "      <td>NaN</td>\n",
              "      <td>t</td>\n",
              "      <td>30</td>\n",
              "      <td>60</td>\n",
              "      <td>90</td>\n",
              "      <td>365</td>\n",
              "      <td>2021-01-28</td>\n",
              "      <td>0</td>\n",
              "      <td>0</td>\n",
              "      <td>0</td>\n",
              "      <td>NaN</td>\n",
              "      <td>NaN</td>\n",
              "      <td>NaN</td>\n",
              "      <td>NaN</td>\n",
              "      <td>NaN</td>\n",
              "      <td>NaN</td>\n",
              "      <td>NaN</td>\n",
              "      <td>NaN</td>\n",
              "      <td>NaN</td>\n",
              "      <td>NaN</td>\n",
              "      <td>f</td>\n",
              "      <td>1</td>\n",
              "      <td>1</td>\n",
              "      <td>0</td>\n",
              "      <td>0</td>\n",
              "      <td>NaN</td>\n",
              "    </tr>\n",
              "    <tr>\n",
              "      <th>7686</th>\n",
              "      <td>13513410</td>\n",
              "      <td>https://www.airbnb.com/rooms/13513410</td>\n",
              "      <td>20210126045954</td>\n",
              "      <td>2021-01-28</td>\n",
              "      <td>Unforgettable Rio - Barra da Tijuca - Apartmen...</td>\n",
              "      <td>My place is near the best beaches of Rio de Ja...</td>\n",
              "      <td>NaN</td>\n",
              "      <td>https://a0.muscache.com/pictures/70ab4efb-4fdf...</td>\n",
              "      <td>64665191</td>\n",
              "      <td>https://www.airbnb.com/users/show/64665191</td>\n",
              "      <td>Roberson</td>\n",
              "      <td>2016-03-27</td>\n",
              "      <td>BR</td>\n",
              "      <td>NaN</td>\n",
              "      <td>NaN</td>\n",
              "      <td>NaN</td>\n",
              "      <td>NaN</td>\n",
              "      <td>f</td>\n",
              "      <td>https://a0.muscache.com/im/pictures/user/9ff3f...</td>\n",
              "      <td>https://a0.muscache.com/im/pictures/user/9ff3f...</td>\n",
              "      <td>Barra da Tijuca</td>\n",
              "      <td>1.0</td>\n",
              "      <td>1.0</td>\n",
              "      <td>['email', 'phone']</td>\n",
              "      <td>t</td>\n",
              "      <td>f</td>\n",
              "      <td>NaN</td>\n",
              "      <td>Barra da Tijuca</td>\n",
              "      <td>NaN</td>\n",
              "      <td>-23.01038</td>\n",
              "      <td>-43.36619</td>\n",
              "      <td>Entire apartment</td>\n",
              "      <td>Entire home/apt</td>\n",
              "      <td>4</td>\n",
              "      <td>NaN</td>\n",
              "      <td>2 baths</td>\n",
              "      <td>2.0</td>\n",
              "      <td>4.0</td>\n",
              "      <td>[\"Essentials\", \"Free parking on premises\", \"El...</td>\n",
              "      <td>1250.0</td>\n",
              "      <td>3</td>\n",
              "      <td>1125</td>\n",
              "      <td>3</td>\n",
              "      <td>3</td>\n",
              "      <td>1125</td>\n",
              "      <td>1125</td>\n",
              "      <td>3.0</td>\n",
              "      <td>1125.0</td>\n",
              "      <td>NaN</td>\n",
              "      <td>t</td>\n",
              "      <td>27</td>\n",
              "      <td>57</td>\n",
              "      <td>87</td>\n",
              "      <td>177</td>\n",
              "      <td>2021-01-28</td>\n",
              "      <td>0</td>\n",
              "      <td>0</td>\n",
              "      <td>0</td>\n",
              "      <td>NaN</td>\n",
              "      <td>NaN</td>\n",
              "      <td>NaN</td>\n",
              "      <td>NaN</td>\n",
              "      <td>NaN</td>\n",
              "      <td>NaN</td>\n",
              "      <td>NaN</td>\n",
              "      <td>NaN</td>\n",
              "      <td>NaN</td>\n",
              "      <td>NaN</td>\n",
              "      <td>t</td>\n",
              "      <td>1</td>\n",
              "      <td>1</td>\n",
              "      <td>0</td>\n",
              "      <td>0</td>\n",
              "      <td>NaN</td>\n",
              "    </tr>\n",
              "    <tr>\n",
              "      <th>7842</th>\n",
              "      <td>13616725</td>\n",
              "      <td>https://www.airbnb.com/rooms/13616725</td>\n",
              "      <td>20210126045954</td>\n",
              "      <td>2021-01-28</td>\n",
              "      <td>Aptº 3 Qts Barra da Tijuca</td>\n",
              "      <td>Meu espaço é perto de PRAIA , SHOPPING SUPERME...</td>\n",
              "      <td>NaN</td>\n",
              "      <td>https://a0.muscache.com/pictures/42ce7dc6-3106...</td>\n",
              "      <td>78440762</td>\n",
              "      <td>https://www.airbnb.com/users/show/78440762</td>\n",
              "      <td>Regina</td>\n",
              "      <td>2016-06-18</td>\n",
              "      <td>Rio de Janeiro, State of Rio de Janeiro, Brazil</td>\n",
              "      <td>NaN</td>\n",
              "      <td>NaN</td>\n",
              "      <td>NaN</td>\n",
              "      <td>NaN</td>\n",
              "      <td>f</td>\n",
              "      <td>https://a0.muscache.com/im/pictures/user/ed2df...</td>\n",
              "      <td>https://a0.muscache.com/im/pictures/user/ed2df...</td>\n",
              "      <td>NaN</td>\n",
              "      <td>1.0</td>\n",
              "      <td>1.0</td>\n",
              "      <td>['email', 'phone']</td>\n",
              "      <td>t</td>\n",
              "      <td>f</td>\n",
              "      <td>NaN</td>\n",
              "      <td>Barra da Tijuca</td>\n",
              "      <td>NaN</td>\n",
              "      <td>-23.00744</td>\n",
              "      <td>-43.41875</td>\n",
              "      <td>Entire apartment</td>\n",
              "      <td>Entire home/apt</td>\n",
              "      <td>5</td>\n",
              "      <td>NaN</td>\n",
              "      <td>3 baths</td>\n",
              "      <td>3.0</td>\n",
              "      <td>3.0</td>\n",
              "      <td>[\"Essentials\", \"Free parking on premises\", \"El...</td>\n",
              "      <td>1250.0</td>\n",
              "      <td>7</td>\n",
              "      <td>40</td>\n",
              "      <td>7</td>\n",
              "      <td>7</td>\n",
              "      <td>40</td>\n",
              "      <td>40</td>\n",
              "      <td>7.0</td>\n",
              "      <td>40.0</td>\n",
              "      <td>NaN</td>\n",
              "      <td>t</td>\n",
              "      <td>28</td>\n",
              "      <td>58</td>\n",
              "      <td>88</td>\n",
              "      <td>363</td>\n",
              "      <td>2021-01-28</td>\n",
              "      <td>0</td>\n",
              "      <td>0</td>\n",
              "      <td>0</td>\n",
              "      <td>NaN</td>\n",
              "      <td>NaN</td>\n",
              "      <td>NaN</td>\n",
              "      <td>NaN</td>\n",
              "      <td>NaN</td>\n",
              "      <td>NaN</td>\n",
              "      <td>NaN</td>\n",
              "      <td>NaN</td>\n",
              "      <td>NaN</td>\n",
              "      <td>NaN</td>\n",
              "      <td>f</td>\n",
              "      <td>1</td>\n",
              "      <td>1</td>\n",
              "      <td>0</td>\n",
              "      <td>0</td>\n",
              "      <td>NaN</td>\n",
              "    </tr>\n",
              "    <tr>\n",
              "      <th>9734</th>\n",
              "      <td>14491414</td>\n",
              "      <td>https://www.airbnb.com/rooms/14491414</td>\n",
              "      <td>20210126045954</td>\n",
              "      <td>2021-01-27</td>\n",
              "      <td>É como estar em minha própria casa</td>\n",
              "      <td>É um quarto fresco, confortável, silencioso co...</td>\n",
              "      <td>NaN</td>\n",
              "      <td>https://a0.muscache.com/pictures/066227c5-c095...</td>\n",
              "      <td>64656574</td>\n",
              "      <td>https://www.airbnb.com/users/show/64656574</td>\n",
              "      <td>Jose</td>\n",
              "      <td>2016-03-27</td>\n",
              "      <td>Rio de Janeiro, State of Rio de Janeiro, Brazil</td>\n",
              "      <td>NaN</td>\n",
              "      <td>NaN</td>\n",
              "      <td>NaN</td>\n",
              "      <td>NaN</td>\n",
              "      <td>f</td>\n",
              "      <td>https://a0.muscache.com/im/pictures/user/8c9b0...</td>\n",
              "      <td>https://a0.muscache.com/im/pictures/user/8c9b0...</td>\n",
              "      <td>NaN</td>\n",
              "      <td>1.0</td>\n",
              "      <td>1.0</td>\n",
              "      <td>['email', 'phone', 'facebook']</td>\n",
              "      <td>t</td>\n",
              "      <td>f</td>\n",
              "      <td>NaN</td>\n",
              "      <td>Flamengo</td>\n",
              "      <td>NaN</td>\n",
              "      <td>-22.93963</td>\n",
              "      <td>-43.17127</td>\n",
              "      <td>Private room in condominium</td>\n",
              "      <td>Private room</td>\n",
              "      <td>2</td>\n",
              "      <td>NaN</td>\n",
              "      <td>2 baths</td>\n",
              "      <td>1.0</td>\n",
              "      <td>1.0</td>\n",
              "      <td>[\"Essentials\", \"Elevator\", \"Iron\", \"Air condit...</td>\n",
              "      <td>1250.0</td>\n",
              "      <td>3</td>\n",
              "      <td>5</td>\n",
              "      <td>3</td>\n",
              "      <td>3</td>\n",
              "      <td>5</td>\n",
              "      <td>5</td>\n",
              "      <td>3.0</td>\n",
              "      <td>5.0</td>\n",
              "      <td>NaN</td>\n",
              "      <td>t</td>\n",
              "      <td>29</td>\n",
              "      <td>59</td>\n",
              "      <td>89</td>\n",
              "      <td>364</td>\n",
              "      <td>2021-01-27</td>\n",
              "      <td>0</td>\n",
              "      <td>0</td>\n",
              "      <td>0</td>\n",
              "      <td>NaN</td>\n",
              "      <td>NaN</td>\n",
              "      <td>NaN</td>\n",
              "      <td>NaN</td>\n",
              "      <td>NaN</td>\n",
              "      <td>NaN</td>\n",
              "      <td>NaN</td>\n",
              "      <td>NaN</td>\n",
              "      <td>NaN</td>\n",
              "      <td>NaN</td>\n",
              "      <td>f</td>\n",
              "      <td>1</td>\n",
              "      <td>0</td>\n",
              "      <td>1</td>\n",
              "      <td>0</td>\n",
              "      <td>NaN</td>\n",
              "    </tr>\n",
              "    <tr>\n",
              "      <th>9781</th>\n",
              "      <td>14599909</td>\n",
              "      <td>https://www.airbnb.com/rooms/14599909</td>\n",
              "      <td>20210126045954</td>\n",
              "      <td>2021-01-27</td>\n",
              "      <td>Ipanema Posto 10</td>\n",
              "      <td>Apartamento de três quartos e com ar condicion...</td>\n",
              "      <td>O apartamento ainda não está preparado para re...</td>\n",
              "      <td>https://a0.muscache.com/pictures/f4e23af2-28c1...</td>\n",
              "      <td>90523697</td>\n",
              "      <td>https://www.airbnb.com/users/show/90523697</td>\n",
              "      <td>Lidia</td>\n",
              "      <td>2016-08-17</td>\n",
              "      <td>Rio de Janeiro, State of Rio de Janeiro, Brazil</td>\n",
              "      <td>NaN</td>\n",
              "      <td>NaN</td>\n",
              "      <td>NaN</td>\n",
              "      <td>NaN</td>\n",
              "      <td>f</td>\n",
              "      <td>https://a0.muscache.com/im/pictures/user/f18a1...</td>\n",
              "      <td>https://a0.muscache.com/im/pictures/user/f18a1...</td>\n",
              "      <td>Ipanema</td>\n",
              "      <td>1.0</td>\n",
              "      <td>1.0</td>\n",
              "      <td>['email', 'phone', 'google', 'reviews', 'jumio...</td>\n",
              "      <td>t</td>\n",
              "      <td>t</td>\n",
              "      <td>Rio de Janeiro, Brazil</td>\n",
              "      <td>Ipanema</td>\n",
              "      <td>NaN</td>\n",
              "      <td>-22.98378</td>\n",
              "      <td>-43.21035</td>\n",
              "      <td>Entire apartment</td>\n",
              "      <td>Entire home/apt</td>\n",
              "      <td>4</td>\n",
              "      <td>NaN</td>\n",
              "      <td>2 baths</td>\n",
              "      <td>3.0</td>\n",
              "      <td>4.0</td>\n",
              "      <td>[\"Air conditioning\", \"Hangers\", \"Cooking basic...</td>\n",
              "      <td>1250.0</td>\n",
              "      <td>5</td>\n",
              "      <td>89</td>\n",
              "      <td>5</td>\n",
              "      <td>5</td>\n",
              "      <td>89</td>\n",
              "      <td>89</td>\n",
              "      <td>5.0</td>\n",
              "      <td>89.0</td>\n",
              "      <td>NaN</td>\n",
              "      <td>t</td>\n",
              "      <td>23</td>\n",
              "      <td>53</td>\n",
              "      <td>83</td>\n",
              "      <td>358</td>\n",
              "      <td>2021-01-27</td>\n",
              "      <td>9</td>\n",
              "      <td>0</td>\n",
              "      <td>0</td>\n",
              "      <td>2017-01-01</td>\n",
              "      <td>2019-12-16</td>\n",
              "      <td>100.0</td>\n",
              "      <td>10.0</td>\n",
              "      <td>10.0</td>\n",
              "      <td>10.0</td>\n",
              "      <td>10.0</td>\n",
              "      <td>10.0</td>\n",
              "      <td>10.0</td>\n",
              "      <td>NaN</td>\n",
              "      <td>f</td>\n",
              "      <td>1</td>\n",
              "      <td>1</td>\n",
              "      <td>0</td>\n",
              "      <td>0</td>\n",
              "      <td>0.18</td>\n",
              "    </tr>\n",
              "    <tr>\n",
              "      <th>12858</th>\n",
              "      <td>22696593</td>\n",
              "      <td>https://www.airbnb.com/rooms/22696593</td>\n",
              "      <td>20210126045954</td>\n",
              "      <td>2021-01-26</td>\n",
              "      <td>Botafogo Studio for Carnival!</td>\n",
              "      <td>This studio is ideal for youth. It's well-loca...</td>\n",
              "      <td>NaN</td>\n",
              "      <td>https://a0.muscache.com/pictures/c8aec9c2-d526...</td>\n",
              "      <td>55144316</td>\n",
              "      <td>https://www.airbnb.com/users/show/55144316</td>\n",
              "      <td>Sofia</td>\n",
              "      <td>2016-01-18</td>\n",
              "      <td>Rio de Janeiro, State of Rio de Janeiro, Brazil</td>\n",
              "      <td>NaN</td>\n",
              "      <td>NaN</td>\n",
              "      <td>NaN</td>\n",
              "      <td>NaN</td>\n",
              "      <td>f</td>\n",
              "      <td>https://a0.muscache.com/im/pictures/user/5febf...</td>\n",
              "      <td>https://a0.muscache.com/im/pictures/user/5febf...</td>\n",
              "      <td>Botafogo</td>\n",
              "      <td>1.0</td>\n",
              "      <td>1.0</td>\n",
              "      <td>['email', 'phone', 'facebook', 'jumio', 'gover...</td>\n",
              "      <td>t</td>\n",
              "      <td>t</td>\n",
              "      <td>NaN</td>\n",
              "      <td>Botafogo</td>\n",
              "      <td>NaN</td>\n",
              "      <td>-22.95339</td>\n",
              "      <td>-43.19130</td>\n",
              "      <td>Entire apartment</td>\n",
              "      <td>Entire home/apt</td>\n",
              "      <td>5</td>\n",
              "      <td>NaN</td>\n",
              "      <td>2 baths</td>\n",
              "      <td>1.0</td>\n",
              "      <td>1.0</td>\n",
              "      <td>[\"Free parking on premises\", \"Elevator\", \"Iron...</td>\n",
              "      <td>1250.0</td>\n",
              "      <td>5</td>\n",
              "      <td>1125</td>\n",
              "      <td>5</td>\n",
              "      <td>5</td>\n",
              "      <td>1125</td>\n",
              "      <td>1125</td>\n",
              "      <td>5.0</td>\n",
              "      <td>1125.0</td>\n",
              "      <td>NaN</td>\n",
              "      <td>t</td>\n",
              "      <td>30</td>\n",
              "      <td>60</td>\n",
              "      <td>90</td>\n",
              "      <td>365</td>\n",
              "      <td>2021-01-26</td>\n",
              "      <td>1</td>\n",
              "      <td>0</td>\n",
              "      <td>0</td>\n",
              "      <td>2019-02-22</td>\n",
              "      <td>2019-02-22</td>\n",
              "      <td>NaN</td>\n",
              "      <td>NaN</td>\n",
              "      <td>NaN</td>\n",
              "      <td>NaN</td>\n",
              "      <td>NaN</td>\n",
              "      <td>NaN</td>\n",
              "      <td>NaN</td>\n",
              "      <td>NaN</td>\n",
              "      <td>t</td>\n",
              "      <td>1</td>\n",
              "      <td>1</td>\n",
              "      <td>0</td>\n",
              "      <td>0</td>\n",
              "      <td>0.04</td>\n",
              "    </tr>\n",
              "    <tr>\n",
              "      <th>15757</th>\n",
              "      <td>31957053</td>\n",
              "      <td>https://www.airbnb.com/rooms/31957053</td>\n",
              "      <td>20210126045954</td>\n",
              "      <td>2021-01-28</td>\n",
              "      <td>Sua casa  na floresta  vamos   relaxar e medit...</td>\n",
              "      <td>UMA CASA NA FLORESTA EM CONDOMINIO FECHADO COM...</td>\n",
              "      <td>ENTRE BARRA DA TIJUCA E ITANHANGA,  A 5 MINUTO...</td>\n",
              "      <td>https://a0.muscache.com/pictures/71656663-becb...</td>\n",
              "      <td>124065988</td>\n",
              "      <td>https://www.airbnb.com/users/show/124065988</td>\n",
              "      <td>Rossana</td>\n",
              "      <td>2017-04-03</td>\n",
              "      <td>Rio de Janeiro, State of Rio de Janeiro, Brazil</td>\n",
              "      <td>advogada, terapeuta holistica, reikiana, zen, ...</td>\n",
              "      <td>within an hour</td>\n",
              "      <td>90%</td>\n",
              "      <td>86%</td>\n",
              "      <td>f</td>\n",
              "      <td>https://a0.muscache.com/im/pictures/user/0a27b...</td>\n",
              "      <td>https://a0.muscache.com/im/pictures/user/0a27b...</td>\n",
              "      <td>NaN</td>\n",
              "      <td>6.0</td>\n",
              "      <td>6.0</td>\n",
              "      <td>['email', 'phone']</td>\n",
              "      <td>t</td>\n",
              "      <td>f</td>\n",
              "      <td>Itanhangá, Rio de Janeiro, Brazil</td>\n",
              "      <td>Itanhangá</td>\n",
              "      <td>NaN</td>\n",
              "      <td>-22.99534</td>\n",
              "      <td>-43.29992</td>\n",
              "      <td>Entire house</td>\n",
              "      <td>Entire home/apt</td>\n",
              "      <td>6</td>\n",
              "      <td>NaN</td>\n",
              "      <td>3 baths</td>\n",
              "      <td>3.0</td>\n",
              "      <td>3.0</td>\n",
              "      <td>[\"Hot water\", \"Bed linens\", \"Free parking on p...</td>\n",
              "      <td>1250.0</td>\n",
              "      <td>2</td>\n",
              "      <td>1125</td>\n",
              "      <td>2</td>\n",
              "      <td>2</td>\n",
              "      <td>1125</td>\n",
              "      <td>1125</td>\n",
              "      <td>2.0</td>\n",
              "      <td>1125.0</td>\n",
              "      <td>NaN</td>\n",
              "      <td>t</td>\n",
              "      <td>0</td>\n",
              "      <td>0</td>\n",
              "      <td>0</td>\n",
              "      <td>0</td>\n",
              "      <td>2021-01-28</td>\n",
              "      <td>0</td>\n",
              "      <td>0</td>\n",
              "      <td>0</td>\n",
              "      <td>NaN</td>\n",
              "      <td>NaN</td>\n",
              "      <td>NaN</td>\n",
              "      <td>NaN</td>\n",
              "      <td>NaN</td>\n",
              "      <td>NaN</td>\n",
              "      <td>NaN</td>\n",
              "      <td>NaN</td>\n",
              "      <td>NaN</td>\n",
              "      <td>NaN</td>\n",
              "      <td>f</td>\n",
              "      <td>4</td>\n",
              "      <td>2</td>\n",
              "      <td>2</td>\n",
              "      <td>0</td>\n",
              "      <td>NaN</td>\n",
              "    </tr>\n",
              "    <tr>\n",
              "      <th>19489</th>\n",
              "      <td>40471177</td>\n",
              "      <td>https://www.airbnb.com/rooms/40471177</td>\n",
              "      <td>20210126045954</td>\n",
              "      <td>2021-01-27</td>\n",
              "      <td>Apartamento Catete Férias/ Natal/Reveill/Carnaval</td>\n",
              "      <td>Apto confortável no Catete.Arejado,iluminado e...</td>\n",
              "      <td>O Catete é um bairro tradicional do Rio de Jan...</td>\n",
              "      <td>https://a0.muscache.com/pictures/720afc04-38af...</td>\n",
              "      <td>71217220</td>\n",
              "      <td>https://www.airbnb.com/users/show/71217220</td>\n",
              "      <td>Maria</td>\n",
              "      <td>2016-05-09</td>\n",
              "      <td>BR</td>\n",
              "      <td>NaN</td>\n",
              "      <td>NaN</td>\n",
              "      <td>NaN</td>\n",
              "      <td>0%</td>\n",
              "      <td>f</td>\n",
              "      <td>https://a0.muscache.com/im/pictures/user/fdb48...</td>\n",
              "      <td>https://a0.muscache.com/im/pictures/user/fdb48...</td>\n",
              "      <td>Catete</td>\n",
              "      <td>2.0</td>\n",
              "      <td>2.0</td>\n",
              "      <td>['email', 'phone']</td>\n",
              "      <td>t</td>\n",
              "      <td>f</td>\n",
              "      <td>Flamengo, Rio de Janeiro, Brazil</td>\n",
              "      <td>Catete</td>\n",
              "      <td>NaN</td>\n",
              "      <td>-22.92806</td>\n",
              "      <td>-43.17747</td>\n",
              "      <td>Entire apartment</td>\n",
              "      <td>Entire home/apt</td>\n",
              "      <td>4</td>\n",
              "      <td>NaN</td>\n",
              "      <td>1 bath</td>\n",
              "      <td>1.0</td>\n",
              "      <td>1.0</td>\n",
              "      <td>[\"Essentials\", \"Elevator\", \"Iron\", \"Air condit...</td>\n",
              "      <td>1250.0</td>\n",
              "      <td>3</td>\n",
              "      <td>1125</td>\n",
              "      <td>3</td>\n",
              "      <td>3</td>\n",
              "      <td>1125</td>\n",
              "      <td>1125</td>\n",
              "      <td>3.0</td>\n",
              "      <td>1125.0</td>\n",
              "      <td>NaN</td>\n",
              "      <td>t</td>\n",
              "      <td>30</td>\n",
              "      <td>60</td>\n",
              "      <td>90</td>\n",
              "      <td>365</td>\n",
              "      <td>2021-01-27</td>\n",
              "      <td>2</td>\n",
              "      <td>1</td>\n",
              "      <td>0</td>\n",
              "      <td>2020-01-01</td>\n",
              "      <td>2020-03-02</td>\n",
              "      <td>90.0</td>\n",
              "      <td>10.0</td>\n",
              "      <td>8.0</td>\n",
              "      <td>10.0</td>\n",
              "      <td>10.0</td>\n",
              "      <td>10.0</td>\n",
              "      <td>9.0</td>\n",
              "      <td>NaN</td>\n",
              "      <td>f</td>\n",
              "      <td>1</td>\n",
              "      <td>1</td>\n",
              "      <td>0</td>\n",
              "      <td>0</td>\n",
              "      <td>0.15</td>\n",
              "    </tr>\n",
              "    <tr>\n",
              "      <th>19561</th>\n",
              "      <td>40541766</td>\n",
              "      <td>https://www.airbnb.com/rooms/40541766</td>\n",
              "      <td>20210126045954</td>\n",
              "      <td>2021-01-26</td>\n",
              "      <td>há 2 quadras da praia na melhor localização le...</td>\n",
              "      <td>apartamento de 150 m2, 3 quartos, 2 suites com...</td>\n",
              "      <td>NaN</td>\n",
              "      <td>https://a0.muscache.com/pictures/f8ac0172-cf0f...</td>\n",
              "      <td>314044826</td>\n",
              "      <td>https://www.airbnb.com/users/show/314044826</td>\n",
              "      <td>Hugo Elisio</td>\n",
              "      <td>2019-12-02</td>\n",
              "      <td>BR</td>\n",
              "      <td>NaN</td>\n",
              "      <td>a few days or more</td>\n",
              "      <td>0%</td>\n",
              "      <td>100%</td>\n",
              "      <td>f</td>\n",
              "      <td>https://a0.muscache.com/im/pictures/user/179e1...</td>\n",
              "      <td>https://a0.muscache.com/im/pictures/user/179e1...</td>\n",
              "      <td>Leblon</td>\n",
              "      <td>1.0</td>\n",
              "      <td>1.0</td>\n",
              "      <td>['phone']</td>\n",
              "      <td>t</td>\n",
              "      <td>f</td>\n",
              "      <td>NaN</td>\n",
              "      <td>Leblon</td>\n",
              "      <td>NaN</td>\n",
              "      <td>-22.98458</td>\n",
              "      <td>-43.22545</td>\n",
              "      <td>Entire apartment</td>\n",
              "      <td>Entire home/apt</td>\n",
              "      <td>4</td>\n",
              "      <td>NaN</td>\n",
              "      <td>4 baths</td>\n",
              "      <td>3.0</td>\n",
              "      <td>3.0</td>\n",
              "      <td>[\"Essentials\", \"Free parking on premises\", \"El...</td>\n",
              "      <td>1250.0</td>\n",
              "      <td>1</td>\n",
              "      <td>30</td>\n",
              "      <td>1</td>\n",
              "      <td>1</td>\n",
              "      <td>30</td>\n",
              "      <td>30</td>\n",
              "      <td>1.0</td>\n",
              "      <td>30.0</td>\n",
              "      <td>NaN</td>\n",
              "      <td>t</td>\n",
              "      <td>28</td>\n",
              "      <td>58</td>\n",
              "      <td>88</td>\n",
              "      <td>363</td>\n",
              "      <td>2021-01-26</td>\n",
              "      <td>0</td>\n",
              "      <td>0</td>\n",
              "      <td>0</td>\n",
              "      <td>NaN</td>\n",
              "      <td>NaN</td>\n",
              "      <td>NaN</td>\n",
              "      <td>NaN</td>\n",
              "      <td>NaN</td>\n",
              "      <td>NaN</td>\n",
              "      <td>NaN</td>\n",
              "      <td>NaN</td>\n",
              "      <td>NaN</td>\n",
              "      <td>NaN</td>\n",
              "      <td>t</td>\n",
              "      <td>1</td>\n",
              "      <td>1</td>\n",
              "      <td>0</td>\n",
              "      <td>0</td>\n",
              "      <td>NaN</td>\n",
              "    </tr>\n",
              "    <tr>\n",
              "      <th>23670</th>\n",
              "      <td>45970437</td>\n",
              "      <td>https://www.airbnb.com/rooms/45970437</td>\n",
              "      <td>20210126045954</td>\n",
              "      <td>2021-01-27</td>\n",
              "      <td>APARTAMENTO COPA OCEAN FRONT 3 SUÍTES</td>\n",
              "      <td>Apartamento super espaçoso de 3 suítes e local...</td>\n",
              "      <td>NaN</td>\n",
              "      <td>https://a0.muscache.com/pictures/e2cb055e-f635...</td>\n",
              "      <td>201410945</td>\n",
              "      <td>https://www.airbnb.com/users/show/201410945</td>\n",
              "      <td>Priscilla</td>\n",
              "      <td>2018-07-10</td>\n",
              "      <td>Rio de Janeiro, State of Rio de Janeiro, Brazil</td>\n",
              "      <td>NaN</td>\n",
              "      <td>a few days or more</td>\n",
              "      <td>0%</td>\n",
              "      <td>NaN</td>\n",
              "      <td>f</td>\n",
              "      <td>https://a0.muscache.com/im/pictures/user/74b00...</td>\n",
              "      <td>https://a0.muscache.com/im/pictures/user/74b00...</td>\n",
              "      <td>NaN</td>\n",
              "      <td>1.0</td>\n",
              "      <td>1.0</td>\n",
              "      <td>['email', 'phone', 'jumio', 'offline_governmen...</td>\n",
              "      <td>t</td>\n",
              "      <td>t</td>\n",
              "      <td>NaN</td>\n",
              "      <td>Copacabana</td>\n",
              "      <td>NaN</td>\n",
              "      <td>-22.98311</td>\n",
              "      <td>-43.18985</td>\n",
              "      <td>Entire apartment</td>\n",
              "      <td>Entire home/apt</td>\n",
              "      <td>7</td>\n",
              "      <td>NaN</td>\n",
              "      <td>3.5 baths</td>\n",
              "      <td>3.0</td>\n",
              "      <td>4.0</td>\n",
              "      <td>[\"Essentials\", \"Free parking on premises\", \"Ir...</td>\n",
              "      <td>1250.0</td>\n",
              "      <td>3</td>\n",
              "      <td>1125</td>\n",
              "      <td>3</td>\n",
              "      <td>3</td>\n",
              "      <td>1125</td>\n",
              "      <td>1125</td>\n",
              "      <td>3.0</td>\n",
              "      <td>1125.0</td>\n",
              "      <td>NaN</td>\n",
              "      <td>t</td>\n",
              "      <td>29</td>\n",
              "      <td>59</td>\n",
              "      <td>89</td>\n",
              "      <td>364</td>\n",
              "      <td>2021-01-27</td>\n",
              "      <td>0</td>\n",
              "      <td>0</td>\n",
              "      <td>0</td>\n",
              "      <td>NaN</td>\n",
              "      <td>NaN</td>\n",
              "      <td>NaN</td>\n",
              "      <td>NaN</td>\n",
              "      <td>NaN</td>\n",
              "      <td>NaN</td>\n",
              "      <td>NaN</td>\n",
              "      <td>NaN</td>\n",
              "      <td>NaN</td>\n",
              "      <td>NaN</td>\n",
              "      <td>f</td>\n",
              "      <td>1</td>\n",
              "      <td>1</td>\n",
              "      <td>0</td>\n",
              "      <td>0</td>\n",
              "      <td>NaN</td>\n",
              "    </tr>\n",
              "  </tbody>\n",
              "</table>\n",
              "</div>"
            ],
            "text/plain": [
              "             id  ... reviews_per_month\n",
              "3842    5205127  ...               NaN\n",
              "4928    9225010  ...              0.02\n",
              "4980    9345914  ...              0.02\n",
              "5921   10984938  ...               NaN\n",
              "7686   13513410  ...               NaN\n",
              "7842   13616725  ...               NaN\n",
              "9734   14491414  ...               NaN\n",
              "9781   14599909  ...              0.18\n",
              "12858  22696593  ...              0.04\n",
              "15757  31957053  ...               NaN\n",
              "19489  40471177  ...              0.15\n",
              "19561  40541766  ...               NaN\n",
              "23670  45970437  ...               NaN\n",
              "\n",
              "[13 rows x 74 columns]"
            ]
          },
          "metadata": {
            "tags": []
          },
          "execution_count": 45
        }
      ]
    },
    {
      "cell_type": "markdown",
      "metadata": {
        "id": "smpCaqrbKHWy"
      },
      "source": [
        "## Main objective of the analysis that specifies whether your model will be focused on prediction or interpretation.\n",
        "\n",
        "For this project, the aim is predicting prices of airbnb locations in NYC, based on the provided 2019 dataset of listing informations. A simple analysis will be conducted to look for visual information that may lead to better understanding and, for that reason, probably better model interpretation and results. The final output, although made by basic linear modelling, may be useful to help new airbnb listers to create their pricing through the predictive power of the model. \n",
        "- Linear Model: $ price = \\beta_1feature_1 + \\beta_2feature_2 + ... + \n",
        "\\beta_nfeature_n + u$\n",
        "\n",
        "The cost function may vary, due to our probable solutions being vanilla OLS, Ridge and Lasso \n",
        "\n",
        "- Vanilla Cost Function: $ \\frac{\\sum_{i=1}^n(y_{true} - y_{pred})^2}{n} $\n",
        "\n",
        "- Ridge Cost Function:  - Vanilla Cost Function: $ \\frac{\\sum_{i=1}^n(y_{true} - y_{pred})^2}{n} + \\lambda\\sum_{i=1}^n\\beta_n^2 $\n",
        "\n",
        "- Lasso Cost Function:  - Vanilla Cost Function: $ \\frac{\\sum_{i=1}^n(y_{true} - y_{pred})^2}{n} + \\lambda\\sum_{i=1}^n|\\beta_n| $"
      ]
    },
    {
      "cell_type": "markdown",
      "metadata": {
        "id": "bnJUUsmGQVHo"
      },
      "source": [
        "## Brief description of the data set you chose and a summary of its attributes."
      ]
    },
    {
      "cell_type": "code",
      "metadata": {
        "colab": {
          "base_uri": "https://localhost:8080/"
        },
        "id": "FOIu49b6JywI",
        "outputId": "fc6f5e27-1cb6-4363-cbdf-2cec8b570e3a"
      },
      "source": [
        "data.shape, data.dtypes"
      ],
      "execution_count": 46,
      "outputs": [
        {
          "output_type": "execute_result",
          "data": {
            "text/plain": [
              "((7028, 74), id                                                int64\n",
              " listing_url                                      object\n",
              " scrape_id                                         int64\n",
              " last_scraped                                     object\n",
              " name                                             object\n",
              "                                                  ...   \n",
              " calculated_host_listings_count                    int64\n",
              " calculated_host_listings_count_entire_homes       int64\n",
              " calculated_host_listings_count_private_rooms      int64\n",
              " calculated_host_listings_count_shared_rooms       int64\n",
              " reviews_per_month                               float64\n",
              " Length: 74, dtype: object)"
            ]
          },
          "metadata": {
            "tags": []
          },
          "execution_count": 46
        }
      ]
    },
    {
      "cell_type": "code",
      "metadata": {
        "colab": {
          "base_uri": "https://localhost:8080/",
          "height": 317
        },
        "id": "28W_A2CgQaWY",
        "outputId": "9e8d1a37-d79c-427f-9ce9-4453458b2d0b"
      },
      "source": [
        "# numerical variable columns\n",
        "cols = [col for col in data.columns if 'host' not in col]\n",
        "data[cols].describe()"
      ],
      "execution_count": 47,
      "outputs": [
        {
          "output_type": "execute_result",
          "data": {
            "text/html": [
              "<div>\n",
              "<style scoped>\n",
              "    .dataframe tbody tr th:only-of-type {\n",
              "        vertical-align: middle;\n",
              "    }\n",
              "\n",
              "    .dataframe tbody tr th {\n",
              "        vertical-align: top;\n",
              "    }\n",
              "\n",
              "    .dataframe thead th {\n",
              "        text-align: right;\n",
              "    }\n",
              "</style>\n",
              "<table border=\"1\" class=\"dataframe\">\n",
              "  <thead>\n",
              "    <tr style=\"text-align: right;\">\n",
              "      <th></th>\n",
              "      <th>id</th>\n",
              "      <th>scrape_id</th>\n",
              "      <th>neighbourhood_group_cleansed</th>\n",
              "      <th>latitude</th>\n",
              "      <th>longitude</th>\n",
              "      <th>accommodates</th>\n",
              "      <th>bathrooms</th>\n",
              "      <th>bedrooms</th>\n",
              "      <th>beds</th>\n",
              "      <th>price</th>\n",
              "      <th>minimum_nights</th>\n",
              "      <th>maximum_nights</th>\n",
              "      <th>minimum_minimum_nights</th>\n",
              "      <th>maximum_minimum_nights</th>\n",
              "      <th>minimum_maximum_nights</th>\n",
              "      <th>maximum_maximum_nights</th>\n",
              "      <th>minimum_nights_avg_ntm</th>\n",
              "      <th>maximum_nights_avg_ntm</th>\n",
              "      <th>calendar_updated</th>\n",
              "      <th>availability_30</th>\n",
              "      <th>availability_60</th>\n",
              "      <th>availability_90</th>\n",
              "      <th>availability_365</th>\n",
              "      <th>number_of_reviews</th>\n",
              "      <th>number_of_reviews_ltm</th>\n",
              "      <th>number_of_reviews_l30d</th>\n",
              "      <th>review_scores_rating</th>\n",
              "      <th>review_scores_accuracy</th>\n",
              "      <th>review_scores_cleanliness</th>\n",
              "      <th>review_scores_checkin</th>\n",
              "      <th>review_scores_communication</th>\n",
              "      <th>review_scores_location</th>\n",
              "      <th>review_scores_value</th>\n",
              "      <th>license</th>\n",
              "      <th>reviews_per_month</th>\n",
              "    </tr>\n",
              "  </thead>\n",
              "  <tbody>\n",
              "    <tr>\n",
              "      <th>count</th>\n",
              "      <td>7.028000e+03</td>\n",
              "      <td>7.028000e+03</td>\n",
              "      <td>0.0</td>\n",
              "      <td>7028.000000</td>\n",
              "      <td>7028.000000</td>\n",
              "      <td>7028.000000</td>\n",
              "      <td>0.0</td>\n",
              "      <td>7028.000000</td>\n",
              "      <td>6947.000000</td>\n",
              "      <td>7028.000000</td>\n",
              "      <td>7028.000000</td>\n",
              "      <td>7028.000000</td>\n",
              "      <td>7028.000000</td>\n",
              "      <td>7028.00000</td>\n",
              "      <td>7028.000000</td>\n",
              "      <td>7028.000000</td>\n",
              "      <td>7028.000000</td>\n",
              "      <td>7028.000000</td>\n",
              "      <td>0.0</td>\n",
              "      <td>7028.000000</td>\n",
              "      <td>7028.000000</td>\n",
              "      <td>7028.000000</td>\n",
              "      <td>7028.000000</td>\n",
              "      <td>7028.000000</td>\n",
              "      <td>7028.000000</td>\n",
              "      <td>7028.0</td>\n",
              "      <td>3020.000000</td>\n",
              "      <td>3017.0</td>\n",
              "      <td>3018.000000</td>\n",
              "      <td>3018.0</td>\n",
              "      <td>3020.0</td>\n",
              "      <td>3019.0</td>\n",
              "      <td>3020.000000</td>\n",
              "      <td>0.0</td>\n",
              "      <td>3341.000000</td>\n",
              "    </tr>\n",
              "    <tr>\n",
              "      <th>mean</th>\n",
              "      <td>2.510201e+07</td>\n",
              "      <td>2.021013e+13</td>\n",
              "      <td>NaN</td>\n",
              "      <td>-22.963371</td>\n",
              "      <td>-43.247481</td>\n",
              "      <td>3.507968</td>\n",
              "      <td>NaN</td>\n",
              "      <td>1.472396</td>\n",
              "      <td>2.070822</td>\n",
              "      <td>398.001129</td>\n",
              "      <td>2.816306</td>\n",
              "      <td>607.962863</td>\n",
              "      <td>2.786995</td>\n",
              "      <td>2.89428</td>\n",
              "      <td>712.198776</td>\n",
              "      <td>715.147268</td>\n",
              "      <td>2.814343</td>\n",
              "      <td>714.832584</td>\n",
              "      <td>NaN</td>\n",
              "      <td>19.212721</td>\n",
              "      <td>40.803216</td>\n",
              "      <td>63.466989</td>\n",
              "      <td>217.809192</td>\n",
              "      <td>2.402533</td>\n",
              "      <td>0.380194</td>\n",
              "      <td>0.0</td>\n",
              "      <td>98.666225</td>\n",
              "      <td>10.0</td>\n",
              "      <td>9.792578</td>\n",
              "      <td>10.0</td>\n",
              "      <td>10.0</td>\n",
              "      <td>10.0</td>\n",
              "      <td>9.649007</td>\n",
              "      <td>NaN</td>\n",
              "      <td>0.184122</td>\n",
              "    </tr>\n",
              "    <tr>\n",
              "      <th>std</th>\n",
              "      <td>1.514068e+07</td>\n",
              "      <td>1.746218e+00</td>\n",
              "      <td>NaN</td>\n",
              "      <td>0.029904</td>\n",
              "      <td>0.090632</td>\n",
              "      <td>1.728990</td>\n",
              "      <td>NaN</td>\n",
              "      <td>0.666724</td>\n",
              "      <td>1.255633</td>\n",
              "      <td>285.346100</td>\n",
              "      <td>1.729290</td>\n",
              "      <td>535.694375</td>\n",
              "      <td>1.720474</td>\n",
              "      <td>1.75780</td>\n",
              "      <td>522.236042</td>\n",
              "      <td>521.461063</td>\n",
              "      <td>1.721825</td>\n",
              "      <td>521.381536</td>\n",
              "      <td>NaN</td>\n",
              "      <td>12.795126</td>\n",
              "      <td>24.890130</td>\n",
              "      <td>36.151609</td>\n",
              "      <td>146.165372</td>\n",
              "      <td>4.321804</td>\n",
              "      <td>0.873215</td>\n",
              "      <td>0.0</td>\n",
              "      <td>2.673806</td>\n",
              "      <td>0.0</td>\n",
              "      <td>0.487889</td>\n",
              "      <td>0.0</td>\n",
              "      <td>0.0</td>\n",
              "      <td>0.0</td>\n",
              "      <td>0.590851</td>\n",
              "      <td>NaN</td>\n",
              "      <td>0.186042</td>\n",
              "    </tr>\n",
              "    <tr>\n",
              "      <th>min</th>\n",
              "      <td>6.479500e+04</td>\n",
              "      <td>2.021013e+13</td>\n",
              "      <td>NaN</td>\n",
              "      <td>-23.033740</td>\n",
              "      <td>-43.493880</td>\n",
              "      <td>1.000000</td>\n",
              "      <td>NaN</td>\n",
              "      <td>1.000000</td>\n",
              "      <td>0.000000</td>\n",
              "      <td>40.000000</td>\n",
              "      <td>1.000000</td>\n",
              "      <td>1.000000</td>\n",
              "      <td>1.000000</td>\n",
              "      <td>1.00000</td>\n",
              "      <td>1.000000</td>\n",
              "      <td>1.000000</td>\n",
              "      <td>1.000000</td>\n",
              "      <td>1.000000</td>\n",
              "      <td>NaN</td>\n",
              "      <td>0.000000</td>\n",
              "      <td>0.000000</td>\n",
              "      <td>0.000000</td>\n",
              "      <td>0.000000</td>\n",
              "      <td>0.000000</td>\n",
              "      <td>0.000000</td>\n",
              "      <td>0.0</td>\n",
              "      <td>83.000000</td>\n",
              "      <td>10.0</td>\n",
              "      <td>8.000000</td>\n",
              "      <td>10.0</td>\n",
              "      <td>10.0</td>\n",
              "      <td>10.0</td>\n",
              "      <td>8.000000</td>\n",
              "      <td>NaN</td>\n",
              "      <td>0.010000</td>\n",
              "    </tr>\n",
              "    <tr>\n",
              "      <th>25%</th>\n",
              "      <td>1.298628e+07</td>\n",
              "      <td>2.021013e+13</td>\n",
              "      <td>NaN</td>\n",
              "      <td>-22.982990</td>\n",
              "      <td>-43.308735</td>\n",
              "      <td>2.000000</td>\n",
              "      <td>NaN</td>\n",
              "      <td>1.000000</td>\n",
              "      <td>1.000000</td>\n",
              "      <td>180.000000</td>\n",
              "      <td>1.000000</td>\n",
              "      <td>30.000000</td>\n",
              "      <td>1.000000</td>\n",
              "      <td>1.00000</td>\n",
              "      <td>30.000000</td>\n",
              "      <td>30.000000</td>\n",
              "      <td>1.000000</td>\n",
              "      <td>30.000000</td>\n",
              "      <td>NaN</td>\n",
              "      <td>1.000000</td>\n",
              "      <td>12.000000</td>\n",
              "      <td>27.750000</td>\n",
              "      <td>87.000000</td>\n",
              "      <td>0.000000</td>\n",
              "      <td>0.000000</td>\n",
              "      <td>0.0</td>\n",
              "      <td>98.000000</td>\n",
              "      <td>10.0</td>\n",
              "      <td>10.000000</td>\n",
              "      <td>10.0</td>\n",
              "      <td>10.0</td>\n",
              "      <td>10.0</td>\n",
              "      <td>9.000000</td>\n",
              "      <td>NaN</td>\n",
              "      <td>0.070000</td>\n",
              "    </tr>\n",
              "    <tr>\n",
              "      <th>50%</th>\n",
              "      <td>2.299684e+07</td>\n",
              "      <td>2.021013e+13</td>\n",
              "      <td>NaN</td>\n",
              "      <td>-22.967020</td>\n",
              "      <td>-43.198180</td>\n",
              "      <td>4.000000</td>\n",
              "      <td>NaN</td>\n",
              "      <td>1.000000</td>\n",
              "      <td>2.000000</td>\n",
              "      <td>300.000000</td>\n",
              "      <td>2.000000</td>\n",
              "      <td>1125.000000</td>\n",
              "      <td>2.000000</td>\n",
              "      <td>2.00000</td>\n",
              "      <td>1125.000000</td>\n",
              "      <td>1125.000000</td>\n",
              "      <td>2.000000</td>\n",
              "      <td>1125.000000</td>\n",
              "      <td>NaN</td>\n",
              "      <td>27.000000</td>\n",
              "      <td>57.000000</td>\n",
              "      <td>87.000000</td>\n",
              "      <td>260.000000</td>\n",
              "      <td>0.000000</td>\n",
              "      <td>0.000000</td>\n",
              "      <td>0.0</td>\n",
              "      <td>100.000000</td>\n",
              "      <td>10.0</td>\n",
              "      <td>10.000000</td>\n",
              "      <td>10.0</td>\n",
              "      <td>10.0</td>\n",
              "      <td>10.0</td>\n",
              "      <td>10.000000</td>\n",
              "      <td>NaN</td>\n",
              "      <td>0.120000</td>\n",
              "    </tr>\n",
              "    <tr>\n",
              "      <th>75%</th>\n",
              "      <td>4.063471e+07</td>\n",
              "      <td>2.021013e+13</td>\n",
              "      <td>NaN</td>\n",
              "      <td>-22.938268</td>\n",
              "      <td>-43.185790</td>\n",
              "      <td>4.000000</td>\n",
              "      <td>NaN</td>\n",
              "      <td>2.000000</td>\n",
              "      <td>3.000000</td>\n",
              "      <td>537.000000</td>\n",
              "      <td>4.000000</td>\n",
              "      <td>1125.000000</td>\n",
              "      <td>4.000000</td>\n",
              "      <td>4.00000</td>\n",
              "      <td>1125.000000</td>\n",
              "      <td>1125.000000</td>\n",
              "      <td>4.000000</td>\n",
              "      <td>1125.000000</td>\n",
              "      <td>NaN</td>\n",
              "      <td>30.000000</td>\n",
              "      <td>60.000000</td>\n",
              "      <td>89.000000</td>\n",
              "      <td>364.000000</td>\n",
              "      <td>3.000000</td>\n",
              "      <td>0.000000</td>\n",
              "      <td>0.0</td>\n",
              "      <td>100.000000</td>\n",
              "      <td>10.0</td>\n",
              "      <td>10.000000</td>\n",
              "      <td>10.0</td>\n",
              "      <td>10.0</td>\n",
              "      <td>10.0</td>\n",
              "      <td>10.000000</td>\n",
              "      <td>NaN</td>\n",
              "      <td>0.240000</td>\n",
              "    </tr>\n",
              "    <tr>\n",
              "      <th>max</th>\n",
              "      <td>4.789197e+07</td>\n",
              "      <td>2.021013e+13</td>\n",
              "      <td>NaN</td>\n",
              "      <td>-22.902220</td>\n",
              "      <td>-43.159220</td>\n",
              "      <td>12.000000</td>\n",
              "      <td>NaN</td>\n",
              "      <td>3.000000</td>\n",
              "      <td>6.000000</td>\n",
              "      <td>1250.000000</td>\n",
              "      <td>8.000000</td>\n",
              "      <td>1825.000000</td>\n",
              "      <td>7.000000</td>\n",
              "      <td>9.00000</td>\n",
              "      <td>1825.000000</td>\n",
              "      <td>1825.000000</td>\n",
              "      <td>7.700000</td>\n",
              "      <td>1825.000000</td>\n",
              "      <td>NaN</td>\n",
              "      <td>30.000000</td>\n",
              "      <td>60.000000</td>\n",
              "      <td>90.000000</td>\n",
              "      <td>365.000000</td>\n",
              "      <td>22.000000</td>\n",
              "      <td>5.000000</td>\n",
              "      <td>0.0</td>\n",
              "      <td>100.000000</td>\n",
              "      <td>10.0</td>\n",
              "      <td>10.000000</td>\n",
              "      <td>10.0</td>\n",
              "      <td>10.0</td>\n",
              "      <td>10.0</td>\n",
              "      <td>10.000000</td>\n",
              "      <td>NaN</td>\n",
              "      <td>1.700000</td>\n",
              "    </tr>\n",
              "  </tbody>\n",
              "</table>\n",
              "</div>"
            ],
            "text/plain": [
              "                 id     scrape_id  ...  license  reviews_per_month\n",
              "count  7.028000e+03  7.028000e+03  ...      0.0        3341.000000\n",
              "mean   2.510201e+07  2.021013e+13  ...      NaN           0.184122\n",
              "std    1.514068e+07  1.746218e+00  ...      NaN           0.186042\n",
              "min    6.479500e+04  2.021013e+13  ...      NaN           0.010000\n",
              "25%    1.298628e+07  2.021013e+13  ...      NaN           0.070000\n",
              "50%    2.299684e+07  2.021013e+13  ...      NaN           0.120000\n",
              "75%    4.063471e+07  2.021013e+13  ...      NaN           0.240000\n",
              "max    4.789197e+07  2.021013e+13  ...      NaN           1.700000\n",
              "\n",
              "[8 rows x 35 columns]"
            ]
          },
          "metadata": {
            "tags": []
          },
          "execution_count": 47
        }
      ]
    },
    {
      "cell_type": "markdown",
      "metadata": {
        "id": "9pXygHhORDQi"
      },
      "source": [
        "Note that good part of the variables are categorical"
      ]
    },
    {
      "cell_type": "markdown",
      "metadata": {
        "id": "3azrwT1CTF6t"
      },
      "source": [
        "## Brief summary of data exploration and actions taken for data cleaning and feature engineering."
      ]
    },
    {
      "cell_type": "markdown",
      "metadata": {
        "id": "9NEnjYn8bLgm"
      },
      "source": [
        "### Explorational Analysis"
      ]
    },
    {
      "cell_type": "code",
      "metadata": {
        "id": "WIMpeMNA9wLn"
      },
      "source": [
        "data['host_inf'] = data['host_about'].isna()"
      ],
      "execution_count": 48,
      "outputs": []
    },
    {
      "cell_type": "code",
      "metadata": {
        "colab": {
          "base_uri": "https://localhost:8080/"
        },
        "id": "OkqLoF5t9waP",
        "outputId": "6448ca52-c563-4e11-c30a-058b2363e487"
      },
      "source": [
        "data.loc[data['host_inf'] == True]['price'].mean(), data.loc[data['host_inf'] == False]['price'].mean()"
      ],
      "execution_count": 49,
      "outputs": [
        {
          "output_type": "execute_result",
          "data": {
            "text/plain": [
              "(417.1766357421875, 367.9382629394531)"
            ]
          },
          "metadata": {
            "tags": []
          },
          "execution_count": 49
        }
      ]
    },
    {
      "cell_type": "code",
      "metadata": {
        "colab": {
          "base_uri": "https://localhost:8080/",
          "height": 390
        },
        "id": "wsJWv-37Toi8",
        "outputId": "ae52167a-496d-40ec-d0fd-7860af0e6249"
      },
      "source": [
        "count_df = data.groupby('neighbourhood_cleansed').count().sort_values('id', ascending=False)['id'].to_frame()\n",
        "count_df.head()\n",
        "count_df[:10]"
      ],
      "execution_count": 50,
      "outputs": [
        {
          "output_type": "execute_result",
          "data": {
            "text/html": [
              "<div>\n",
              "<style scoped>\n",
              "    .dataframe tbody tr th:only-of-type {\n",
              "        vertical-align: middle;\n",
              "    }\n",
              "\n",
              "    .dataframe tbody tr th {\n",
              "        vertical-align: top;\n",
              "    }\n",
              "\n",
              "    .dataframe thead th {\n",
              "        text-align: right;\n",
              "    }\n",
              "</style>\n",
              "<table border=\"1\" class=\"dataframe\">\n",
              "  <thead>\n",
              "    <tr style=\"text-align: right;\">\n",
              "      <th></th>\n",
              "      <th>id</th>\n",
              "    </tr>\n",
              "    <tr>\n",
              "      <th>neighbourhood_cleansed</th>\n",
              "      <th></th>\n",
              "    </tr>\n",
              "  </thead>\n",
              "  <tbody>\n",
              "    <tr>\n",
              "      <th>Copacabana</th>\n",
              "      <td>1642</td>\n",
              "    </tr>\n",
              "    <tr>\n",
              "      <th>Barra da Tijuca</th>\n",
              "      <td>661</td>\n",
              "    </tr>\n",
              "    <tr>\n",
              "      <th>Ipanema</th>\n",
              "      <td>462</td>\n",
              "    </tr>\n",
              "    <tr>\n",
              "      <th>Jacarepaguá</th>\n",
              "      <td>460</td>\n",
              "    </tr>\n",
              "    <tr>\n",
              "      <th>Botafogo</th>\n",
              "      <td>411</td>\n",
              "    </tr>\n",
              "    <tr>\n",
              "      <th>Recreio dos Bandeirantes</th>\n",
              "      <td>330</td>\n",
              "    </tr>\n",
              "    <tr>\n",
              "      <th>Santa Teresa</th>\n",
              "      <td>301</td>\n",
              "    </tr>\n",
              "    <tr>\n",
              "      <th>Leblon</th>\n",
              "      <td>286</td>\n",
              "    </tr>\n",
              "    <tr>\n",
              "      <th>Tijuca</th>\n",
              "      <td>242</td>\n",
              "    </tr>\n",
              "    <tr>\n",
              "      <th>Centro</th>\n",
              "      <td>230</td>\n",
              "    </tr>\n",
              "  </tbody>\n",
              "</table>\n",
              "</div>"
            ],
            "text/plain": [
              "                            id\n",
              "neighbourhood_cleansed        \n",
              "Copacabana                1642\n",
              "Barra da Tijuca            661\n",
              "Ipanema                    462\n",
              "Jacarepaguá                460\n",
              "Botafogo                   411\n",
              "Recreio dos Bandeirantes   330\n",
              "Santa Teresa               301\n",
              "Leblon                     286\n",
              "Tijuca                     242\n",
              "Centro                     230"
            ]
          },
          "metadata": {
            "tags": []
          },
          "execution_count": 50
        }
      ]
    },
    {
      "cell_type": "code",
      "metadata": {
        "colab": {
          "base_uri": "https://localhost:8080/",
          "height": 204
        },
        "id": "5JW5zsaGwKjT",
        "outputId": "affd2c82-7665-4696-f261-95620f3a22d2"
      },
      "source": [
        "rio = gpd.read_file('/content/gdrive/MyDrive/data_science_stuff/datasets/geom_json/neighbourhoods.geojson')\n",
        "rio.head()"
      ],
      "execution_count": 51,
      "outputs": [
        {
          "output_type": "execute_result",
          "data": {
            "text/html": [
              "<div>\n",
              "<style scoped>\n",
              "    .dataframe tbody tr th:only-of-type {\n",
              "        vertical-align: middle;\n",
              "    }\n",
              "\n",
              "    .dataframe tbody tr th {\n",
              "        vertical-align: top;\n",
              "    }\n",
              "\n",
              "    .dataframe thead th {\n",
              "        text-align: right;\n",
              "    }\n",
              "</style>\n",
              "<table border=\"1\" class=\"dataframe\">\n",
              "  <thead>\n",
              "    <tr style=\"text-align: right;\">\n",
              "      <th></th>\n",
              "      <th>neighbourhood</th>\n",
              "      <th>neighbourhood_group</th>\n",
              "      <th>geometry</th>\n",
              "    </tr>\n",
              "  </thead>\n",
              "  <tbody>\n",
              "    <tr>\n",
              "      <th>0</th>\n",
              "      <td>Paquetá</td>\n",
              "      <td>None</td>\n",
              "      <td>MULTIPOLYGON Z (((-43.10567 -22.74888 0.00000,...</td>\n",
              "    </tr>\n",
              "    <tr>\n",
              "      <th>1</th>\n",
              "      <td>Freguesia (Ilha)</td>\n",
              "      <td>None</td>\n",
              "      <td>MULTIPOLYGON Z (((-43.17170 -22.77661 0.00000,...</td>\n",
              "    </tr>\n",
              "    <tr>\n",
              "      <th>2</th>\n",
              "      <td>Bancários</td>\n",
              "      <td>None</td>\n",
              "      <td>MULTIPOLYGON Z (((-43.18915 -22.78318 0.00000,...</td>\n",
              "    </tr>\n",
              "    <tr>\n",
              "      <th>3</th>\n",
              "      <td>Galeão</td>\n",
              "      <td>None</td>\n",
              "      <td>MULTIPOLYGON Z (((-43.22804 -22.78374 0.00000,...</td>\n",
              "    </tr>\n",
              "    <tr>\n",
              "      <th>4</th>\n",
              "      <td>Portuguesa</td>\n",
              "      <td>None</td>\n",
              "      <td>MULTIPOLYGON Z (((-43.20763 -22.79498 0.00000,...</td>\n",
              "    </tr>\n",
              "  </tbody>\n",
              "</table>\n",
              "</div>"
            ],
            "text/plain": [
              "      neighbourhood  ...                                           geometry\n",
              "0           Paquetá  ...  MULTIPOLYGON Z (((-43.10567 -22.74888 0.00000,...\n",
              "1  Freguesia (Ilha)  ...  MULTIPOLYGON Z (((-43.17170 -22.77661 0.00000,...\n",
              "2         Bancários  ...  MULTIPOLYGON Z (((-43.18915 -22.78318 0.00000,...\n",
              "3            Galeão  ...  MULTIPOLYGON Z (((-43.22804 -22.78374 0.00000,...\n",
              "4        Portuguesa  ...  MULTIPOLYGON Z (((-43.20763 -22.79498 0.00000,...\n",
              "\n",
              "[5 rows x 3 columns]"
            ]
          },
          "metadata": {
            "tags": []
          },
          "execution_count": 51
        }
      ]
    },
    {
      "cell_type": "code",
      "metadata": {
        "colab": {
          "base_uri": "https://localhost:8080/",
          "height": 436
        },
        "id": "dpKhch1RvbuH",
        "outputId": "93469048-c691-4a5c-a034-af18ca0653d4"
      },
      "source": [
        "sns.set(font_scale = 1)\n",
        "\n",
        "sns.color_palette(\"viridis\", as_cmap=True)\n",
        "fig, ax = plt.subplots(figsize=(12,12))\n",
        "\n",
        "data_s = data.sample(5000)\n",
        "\n",
        "rio.plot(column='neighbourhood', ax=ax,color='slategrey')\n",
        "\n",
        "ax1=ax.scatter(data_s['longitude'], data_s['latitude'],s=data_s['price']/16,\n",
        "           cmap=plt.get_cmap('magma'),c=data_s['price'])\n",
        "\n",
        "ax.set_ylim((-23.05, -22.88))\n",
        "ax.set_xlim((-43.52, -43.13))\n",
        "ax.set_title('Prices by locations',size=16)\n",
        "\n",
        "fig.colorbar(ax1, pad=0,orientation=\"horizontal\")"
      ],
      "execution_count": 74,
      "outputs": [
        {
          "output_type": "execute_result",
          "data": {
            "text/plain": [
              "<matplotlib.colorbar.Colorbar at 0x7f20fe71ee50>"
            ]
          },
          "metadata": {
            "tags": []
          },
          "execution_count": 74
        },
        {
          "output_type": "display_data",
          "data": {
            "image/png": "[encoded data removed]",
            "text/plain": [
              "<Figure size 864x864 with 2 Axes>"
            ]
          },
          "metadata": {
            "tags": []
          }
        }
      ]
    },
    {
      "cell_type": "code",
      "metadata": {
        "colab": {
          "base_uri": "https://localhost:8080/",
          "height": 650
        },
        "id": "STh4YqxkQ1qT",
        "outputId": "0c1ccfc6-bf44-41ab-b302-09eef5ae28e2"
      },
      "source": [
        "sns.set(font_scale = 1.3)\n",
        "\n",
        "fig, ax = plt.subplots(figsize=(10,10))\n",
        "\n",
        "sns.barplot(data=count_df[:5], x=count_df[:5].index, y='id',ax=ax, )\n",
        "ax.set_xlabel('Neighbourhood', size=12)\n",
        "ax.set_ylabel('Listings', size=12)\n",
        "ax.set_title('Neighbourhoods with most listings')"
      ],
      "execution_count": 61,
      "outputs": [
        {
          "output_type": "execute_result",
          "data": {
            "text/plain": [
              "Text(0.5, 1.0, 'Neighbourhoods with most listings')"
            ]
          },
          "metadata": {
            "tags": []
          },
          "execution_count": 61
        },
        {
          "output_type": "display_data",
          "data": {
            "image/png": "[encoded data removed]",
            "text/plain": [
              "<Figure size 720x720 with 1 Axes>"
            ]
          },
          "metadata": {
            "tags": []
          }
        }
      ]
    },
    {
      "cell_type": "code",
      "metadata": {
        "colab": {
          "base_uri": "https://localhost:8080/",
          "height": 526
        },
        "id": "ZMhGCvJwyFNi",
        "outputId": "02774329-ba5f-44a0-cd88-61ec7ca42339"
      },
      "source": [
        "median_pr_5 =data.groupby('neighbourhood_cleansed').mean()['price'].to_frame()\\\n",
        ".sort_values('price',ascending=False).head().reset_index()\n",
        "\n",
        "fig, ax = plt.subplots(figsize=(12,8))\n",
        "\n",
        "sns.barplot(x='neighbourhood_cleansed',y='price',data=median_pr_5,ax=ax,)\n",
        "ax.set_title('Top 5 Neighbourhoods Median Price',size=14);"
      ],
      "execution_count": 66,
      "outputs": [
        {
          "output_type": "display_data",
          "data": {
            "image/png": "[encoded data removed]",
            "text/plain": [
              "<Figure size 864x576 with 1 Axes>"
            ]
          },
          "metadata": {
            "tags": []
          }
        }
      ]
    },
    {
      "cell_type": "code",
      "metadata": {
        "colab": {
          "base_uri": "https://localhost:8080/"
        },
        "id": "DmJjKGxi1Z2P",
        "outputId": "1d16f6d2-45bb-43fc-f008-de0b27fb70ce"
      },
      "source": [
        "data.loc[data['neighbourhood_cleansed']=='Mangueira']['price'].mean()"
      ],
      "execution_count": 55,
      "outputs": [
        {
          "output_type": "execute_result",
          "data": {
            "text/plain": [
              "800.0"
            ]
          },
          "metadata": {
            "tags": []
          },
          "execution_count": 55
        }
      ]
    },
    {
      "cell_type": "code",
      "metadata": {
        "colab": {
          "base_uri": "https://localhost:8080/",
          "height": 417
        },
        "id": "op0dp92zVjt4",
        "outputId": "b19a6e4c-b90d-424e-d038-a587a8aab4ea"
      },
      "source": [
        "fig, ax = plt.subplots(figsize=(8, 6))\n",
        "\n",
        "sns.violinplot(x='bedrooms', y='price', data=data.sample(1000),ax=ax)\n",
        "\n",
        "ax.set_title('Price per Number of Bedrooms Dist.',size=14)\n",
        "ax.set_ylim((-10, 1500));"
      ],
      "execution_count": 67,
      "outputs": [
        {
          "output_type": "display_data",
          "data": {
            "image/png": "[encoded data removed]",
            "text/plain": [
              "<Figure size 576x432 with 1 Axes>"
            ]
          },
          "metadata": {
            "tags": []
          }
        }
      ]
    },
    {
      "cell_type": "code",
      "metadata": {
        "colab": {
          "base_uri": "https://localhost:8080/",
          "height": 434
        },
        "id": "RPL3rUSxWsai",
        "outputId": "e64e0c3b-6158-4056-8a54-db84818d215a"
      },
      "source": [
        "fig, ax = plt.subplots(figsize=(8, 6))\n",
        "\n",
        "sns.violinplot(x='room_type', y='price', data=data.sample(2000), ax=ax)\n",
        "ax.set_title('Price per room type Dist.',size=14)\n",
        "ax.set_ylim((-10, 1500))"
      ],
      "execution_count": 68,
      "outputs": [
        {
          "output_type": "execute_result",
          "data": {
            "text/plain": [
              "(-10.0, 1500.0)"
            ]
          },
          "metadata": {
            "tags": []
          },
          "execution_count": 68
        },
        {
          "output_type": "display_data",
          "data": {
            "image/png": "[encoded data removed]",
            "text/plain": [
              "<Figure size 576x432 with 1 Axes>"
            ]
          },
          "metadata": {
            "tags": []
          }
        }
      ]
    },
    {
      "cell_type": "code",
      "metadata": {
        "id": "AYDKncakXKAI"
      },
      "source": [
        "top_50 = (data.groupby('neighbourhood')['id'].count()\n",
        "                                             .sort_values(ascending = False)[:50])\n",
        "\n",
        "df_50 = data.loc[data['neighbourhood'].isin(top_50.index.values)]"
      ],
      "execution_count": 175,
      "outputs": []
    },
    {
      "cell_type": "code",
      "metadata": {
        "colab": {
          "base_uri": "https://localhost:8080/",
          "height": 402
        },
        "id": "hR9Ws2zuYuK-",
        "outputId": "d77de9b9-9c62-47f4-98ad-badf32a5e1aa"
      },
      "source": [
        "rm_mn = data.groupby('room_type')['minimum_nights'].mean().to_frame().reset_index()\n",
        "\n",
        "fig, ax = plt.subplots(figsize=(8,6))\n",
        "\n",
        "sns.barplot(x = 'room_type',y='minimum_nights', data=rm_mn, ax=ax)\n",
        "ax.set_xlabel('Room Type', size=12)\n",
        "ax.set_ylabel('Min. nights', size=12)\n",
        "ax.set_title('Mean Minimum nights per Room type');"
      ],
      "execution_count": 176,
      "outputs": [
        {
          "output_type": "display_data",
          "data": {
            "image/png": "[encoded data removed]",
            "text/plain": [
              "<Figure size 576x432 with 1 Axes>"
            ]
          },
          "metadata": {
            "tags": []
          }
        }
      ]
    },
    {
      "cell_type": "code",
      "metadata": {
        "colab": {
          "base_uri": "https://localhost:8080/",
          "height": 142
        },
        "id": "MsN8-wWP5llz",
        "outputId": "3ddf392b-f616-4d08-c1c7-84a7fcadda71"
      },
      "source": [
        "br_pr = data.groupby('bedrooms')['price'].median().to_frame().dropna().reset_index()\n",
        "br_pr"
      ],
      "execution_count": 178,
      "outputs": [
        {
          "output_type": "execute_result",
          "data": {
            "text/html": [
              "<div>\n",
              "<style scoped>\n",
              "    .dataframe tbody tr th:only-of-type {\n",
              "        vertical-align: middle;\n",
              "    }\n",
              "\n",
              "    .dataframe tbody tr th {\n",
              "        vertical-align: top;\n",
              "    }\n",
              "\n",
              "    .dataframe thead th {\n",
              "        text-align: right;\n",
              "    }\n",
              "</style>\n",
              "<table border=\"1\" class=\"dataframe\">\n",
              "  <thead>\n",
              "    <tr style=\"text-align: right;\">\n",
              "      <th></th>\n",
              "      <th>bedrooms</th>\n",
              "      <th>price</th>\n",
              "    </tr>\n",
              "  </thead>\n",
              "  <tbody>\n",
              "    <tr>\n",
              "      <th>0</th>\n",
              "      <td>1.0</td>\n",
              "      <td>240.0</td>\n",
              "    </tr>\n",
              "    <tr>\n",
              "      <th>1</th>\n",
              "      <td>2.0</td>\n",
              "      <td>450.0</td>\n",
              "    </tr>\n",
              "    <tr>\n",
              "      <th>2</th>\n",
              "      <td>3.0</td>\n",
              "      <td>600.0</td>\n",
              "    </tr>\n",
              "  </tbody>\n",
              "</table>\n",
              "</div>"
            ],
            "text/plain": [
              "   bedrooms  price\n",
              "0       1.0  240.0\n",
              "1       2.0  450.0\n",
              "2       3.0  600.0"
            ]
          },
          "metadata": {
            "tags": []
          },
          "execution_count": 178
        }
      ]
    },
    {
      "cell_type": "code",
      "metadata": {
        "colab": {
          "base_uri": "https://localhost:8080/"
        },
        "id": "xgC6IUkO6YOb",
        "outputId": "077a9638-0bbb-40bc-b303-b165b1056a5b"
      },
      "source": [
        "# correlation bedrooms and price\n",
        "br_pr.corr().values[0,1]"
      ],
      "execution_count": 194,
      "outputs": [
        {
          "output_type": "execute_result",
          "data": {
            "text/plain": [
              "0.9954022744967959"
            ]
          },
          "metadata": {
            "tags": []
          },
          "execution_count": 194
        }
      ]
    },
    {
      "cell_type": "code",
      "metadata": {
        "colab": {
          "base_uri": "https://localhost:8080/",
          "height": 402
        },
        "id": "zRQQOZCmZYt2",
        "outputId": "08a53f16-2be3-4e7f-ac25-729f1783763b"
      },
      "source": [
        "fig, ax = plt.subplots(figsize=(8,6))\n",
        "\n",
        "sns.lineplot(br_pr['bedrooms'],\n",
        "            br_pr['price'],ax=ax,)\n",
        "\n",
        "ax.set_xlabel('Number of Reviews', size=12)\n",
        "ax.set_xticks([1,2,3])\n",
        "ax.set_ylabel('Price',size=12)\n",
        "plt.title('Prices x Reviews')\n",
        "plt.show()"
      ],
      "execution_count": 187,
      "outputs": [
        {
          "output_type": "display_data",
          "data": {
            "image/png": "[encoded data removed]",
            "text/plain": [
              "<Figure size 576x432 with 1 Axes>"
            ]
          },
          "metadata": {
            "tags": []
          }
        }
      ]
    },
    {
      "cell_type": "markdown",
      "metadata": {
        "id": "fnDDFsqwbQsg"
      },
      "source": [
        "### Feature Engineering"
      ]
    },
    {
      "cell_type": "code",
      "metadata": {
        "colab": {
          "base_uri": "https://localhost:8080/"
        },
        "id": "AYXxdSnXapkZ",
        "outputId": "55bac0d0-8075-465b-a706-e5d722d76ba2"
      },
      "source": [
        "# dropping unused columns\n",
        "data.columns"
      ],
      "execution_count": null,
      "outputs": [
        {
          "output_type": "execute_result",
          "data": {
            "text/plain": [
              "Index(['id', 'name', 'host_id', 'host_name', 'neighbourhood_group',\n",
              "       'neighbourhood', 'latitude', 'longitude', 'room_type', 'price',\n",
              "       'minimum_nights', 'number_of_reviews', 'last_review',\n",
              "       'reviews_per_month', 'calculated_host_listings_count',\n",
              "       'availability_365', 'log_price'],\n",
              "      dtype='object')"
            ]
          },
          "metadata": {
            "tags": []
          },
          "execution_count": 86
        }
      ]
    },
    {
      "cell_type": "code",
      "metadata": {
        "id": "taIj428Uzc3z"
      },
      "source": [
        "# utility functions\n",
        "\n",
        "def to_list(s):\n",
        "  ls = list(s.split(','))\n",
        "  return len(ls)\n",
        "\n",
        "def rmse(true,pred): return np.sqrt(mean_squared_error(true,pred))"
      ],
      "execution_count": 27,
      "outputs": []
    },
    {
      "cell_type": "code",
      "metadata": {
        "colab": {
          "base_uri": "https://localhost:8080/"
        },
        "id": "F0ITbrpybbBY",
        "outputId": "015c3428-43e6-413c-f14f-93a3664828f2"
      },
      "source": [
        "# dropping nans\n",
        "\n",
        "data = pd.read_csv('/content/gdrive/MyDrive/data_science_stuff/datasets/rio_listings.csv')\n",
        "data['price'] = data['price'].str.replace('$','')\n",
        "data['price'] = data['price'].str.replace(',','')\n",
        "data['price'] = data['price'].str.replace(' ','')\n",
        "data['price'] = data['price'].astype('float64')\n",
        "\n",
        "data = data[data['price'].notna()]\n",
        "data = data[data['bedrooms'].notna()]\n",
        "data = data[data['review_scores_rating'].notna()]                                \n",
        "\n",
        "Q1 = data.quantile(0.25)\n",
        "Q3 = data.quantile(0.75)\n",
        "IQR = Q3 - Q1\n",
        "\n",
        "data = data[~((data < (Q1 - 1.5 * IQR)) |(data > (Q3 + 1.5 * IQR))).any(axis=1)]\n",
        "data['price'] = data['price'].astype('float32')\n",
        "data['price'].dropna(inplace=True)\n",
        "data['bedrooms'].dropna(inplace=True)\n",
        "data['amenities'].fillna('0', inplace=True)\n",
        "data['instant_bookable']=data['instant_bookable'].replace({'f':0, 't':1})\n",
        "\n",
        "data = pd.concat([data,\n",
        "                  pd.get_dummies(data['room_type'],\n",
        "                                      prefix='r_t_')], axis=1)\n",
        "\n",
        "data['nbr_amnts'] = data['amenities'].apply(to_list)\n",
        "data['host_inf'] = data['host_about'].notna()\n",
        "\n",
        "data.shape"
      ],
      "execution_count": 84,
      "outputs": [
        {
          "output_type": "execute_result",
          "data": {
            "text/plain": [
              "(2803, 79)"
            ]
          },
          "metadata": {
            "tags": []
          },
          "execution_count": 84
        }
      ]
    },
    {
      "cell_type": "code",
      "metadata": {
        "id": "DAWboWl89YvY"
      },
      "source": [
        "data['host_inf'] = data['host_about'].notna()"
      ],
      "execution_count": 85,
      "outputs": []
    },
    {
      "cell_type": "markdown",
      "metadata": {
        "id": "8DukGUbSdPK2"
      },
      "source": [
        "## Linear Models"
      ]
    },
    {
      "cell_type": "code",
      "metadata": {
        "id": "qTDUqGdmx-xD"
      },
      "source": [
        "feature_cols = [x for x in data.columns if 'r_t_' in x]\n",
        "feature_cols.append('bedrooms')\n",
        "feature_cols.append('accommodates')\n",
        "feature_cols.append('latitude')\n",
        "feature_cols.append('longitude')\n",
        "feature_cols.append('number_of_reviews')\n",
        "feature_cols.append('review_scores_rating')\n",
        "feature_cols.append('host_inf')\n",
        "feature_cols.append('instant_bookable')\n",
        "feature_cols.append('nbr_amnts')"
      ],
      "execution_count": 86,
      "outputs": []
    },
    {
      "cell_type": "code",
      "metadata": {
        "colab": {
          "base_uri": "https://localhost:8080/"
        },
        "id": "JYdMYncO6QrF",
        "outputId": "296c8759-24d4-49d7-df1b-682d6b4dfd29"
      },
      "source": [
        "feature_cols"
      ],
      "execution_count": 87,
      "outputs": [
        {
          "output_type": "execute_result",
          "data": {
            "text/plain": [
              "['r_t__Entire home/apt',\n",
              " 'r_t__Hotel room',\n",
              " 'r_t__Private room',\n",
              " 'bedrooms',\n",
              " 'accommodates',\n",
              " 'latitude',\n",
              " 'longitude',\n",
              " 'number_of_reviews',\n",
              " 'review_scores_rating',\n",
              " 'host_inf',\n",
              " 'instant_bookable',\n",
              " 'nbr_amnts']"
            ]
          },
          "metadata": {
            "tags": []
          },
          "execution_count": 87
        }
      ]
    },
    {
      "cell_type": "code",
      "metadata": {
        "id": "xdwT9DjXcu99"
      },
      "source": [
        "pf = PolynomialFeatures(degree=2, include_bias=False,)\n",
        "X = data[feature_cols]\n",
        "X_pf  = pf.fit_transform(X)\n",
        "\n",
        "Y = data['price']\n",
        "\n",
        "x_train_pf, x_test_pf, y_train_pf, y_test_pf = train_test_split(X_pf, Y,\n",
        "                                                                test_size=0.2,\n",
        "                                                    random_state=7)\n",
        "\n",
        "x_train, x_test, y_train, y_test = train_test_split(X, Y,\n",
        "                                                                test_size=0.2,\n",
        "                                                    random_state=7)\n",
        "\n",
        "scaler = StandardScaler()\n",
        "\n",
        "x_train_ssp = scaler.fit_transform(x_train_pf)\n",
        "x_test_ssp = scaler.transform(x_test_pf)\n",
        "\n",
        "x_train_ss = scaler.fit_transform(x_train)\n",
        "x_test_ss = scaler.transform(x_test)"
      ],
      "execution_count": 101,
      "outputs": []
    },
    {
      "cell_type": "code",
      "metadata": {
        "colab": {
          "base_uri": "https://localhost:8080/"
        },
        "id": "e1Yw1YEW6U_t",
        "outputId": "a34d3552-3681-4883-ddbd-cf4956e516b7"
      },
      "source": [
        "data['nbr_amnts'].mean()"
      ],
      "execution_count": 23,
      "outputs": [
        {
          "output_type": "execute_result",
          "data": {
            "text/plain": [
              "19.970388869068856"
            ]
          },
          "metadata": {
            "tags": []
          },
          "execution_count": 23
        }
      ]
    },
    {
      "cell_type": "code",
      "metadata": {
        "colab": {
          "base_uri": "https://localhost:8080/"
        },
        "id": "Iw1M4zBZh_Wd",
        "outputId": "b51d34af-a96c-4578-f037-bb44a68fe901"
      },
      "source": [
        "x_train_ss.shape,x_test_ss.shape,"
      ],
      "execution_count": 14,
      "outputs": [
        {
          "output_type": "execute_result",
          "data": {
            "text/plain": [
              "((2242, 90), (561, 90))"
            ]
          },
          "metadata": {
            "tags": []
          },
          "execution_count": 14
        }
      ]
    },
    {
      "cell_type": "markdown",
      "metadata": {
        "id": "BOaxgNnI-NnD"
      },
      "source": [
        "#### Non Scaled OLS"
      ]
    },
    {
      "cell_type": "code",
      "metadata": {
        "colab": {
          "base_uri": "https://localhost:8080/"
        },
        "id": "L88C4MkBc2bi",
        "outputId": "4e7b5ae8-ae8b-412e-d7e6-202ccf91aae4"
      },
      "source": [
        "OLS = LinearRegression()\n",
        "\n",
        "model_ns = OLS.fit(x_train,y_train)\n",
        "not_scaled_coefs = model_ns.coef_\n",
        "\n",
        "ols_pred = model_ns.predict(x_test)\n",
        "\n",
        "nstd_r2 = r2_score(y_true=y_test, y_pred=model_ns.predict(x_test))\n",
        "\n",
        "nstd_r2"
      ],
      "execution_count": 75,
      "outputs": [
        {
          "output_type": "execute_result",
          "data": {
            "text/plain": [
              "0.41333531119724154"
            ]
          },
          "metadata": {
            "tags": []
          },
          "execution_count": 75
        }
      ]
    },
    {
      "cell_type": "code",
      "metadata": {
        "colab": {
          "base_uri": "https://localhost:8080/"
        },
        "id": "c3XryAQCCoHm",
        "outputId": "e071f2bd-b34b-4670-ecca-fac6fadeb036"
      },
      "source": [
        "ols_nstd = rmse(y_test, ols_pred)\n",
        "ols_nstd"
      ],
      "execution_count": 77,
      "outputs": [
        {
          "output_type": "execute_result",
          "data": {
            "text/plain": [
              "128.65585322180314"
            ]
          },
          "metadata": {
            "tags": []
          },
          "execution_count": 77
        }
      ]
    },
    {
      "cell_type": "markdown",
      "metadata": {
        "id": "b38VyJ0E-Us7"
      },
      "source": [
        "#### Scaled OLS"
      ]
    },
    {
      "cell_type": "code",
      "metadata": {
        "colab": {
          "base_uri": "https://localhost:8080/"
        },
        "id": "NjQXJABX-XFq",
        "outputId": "13f1c80f-b837-41cd-b4e3-fa5f1af1b2cf"
      },
      "source": [
        "model_ss = OLS.fit(x_train_ss, y_train)\n",
        "scaled_coefs = model_ss.coef_\n",
        "\n",
        "y_pred_ols_s = model_ss.predict(x_test_ss)\n",
        "\n",
        "std_r2 = r2_score(y_true=y_test, y_pred=y_pred_ols_s)\n",
        "std_r2"
      ],
      "execution_count": 26,
      "outputs": [
        {
          "output_type": "execute_result",
          "data": {
            "text/plain": [
              "0.4134993829307404"
            ]
          },
          "metadata": {
            "tags": []
          },
          "execution_count": 26
        }
      ]
    },
    {
      "cell_type": "code",
      "metadata": {
        "colab": {
          "base_uri": "https://localhost:8080/"
        },
        "id": "vKam449YBWCo",
        "outputId": "206c70b1-7476-4b61-8ce8-5a11ba508e54"
      },
      "source": [
        "ols_std = rmse(y_test, y_pred_ols_s)\n",
        "ols_std"
      ],
      "execution_count": 78,
      "outputs": [
        {
          "output_type": "execute_result",
          "data": {
            "text/plain": [
              "128.63786145807597"
            ]
          },
          "metadata": {
            "tags": []
          },
          "execution_count": 78
        }
      ]
    },
    {
      "cell_type": "markdown",
      "metadata": {
        "id": "qnvdLbfo-ow_"
      },
      "source": [
        "#### Scaled and PolyFactored Ridge"
      ]
    },
    {
      "cell_type": "code",
      "metadata": {
        "colab": {
          "base_uri": "https://localhost:8080/"
        },
        "id": "xo35WHwcgT9C",
        "outputId": "3941327b-1af0-4e01-d895-3b8f50bc8d24"
      },
      "source": [
        "alphas = np.linspace(1e-4,45,100)\n",
        "\n",
        "ridge = RidgeCV(alphas=alphas, \n",
        "                  cv=4).fit(x_train_ssp, y_train_pf)\n",
        "\n",
        "y_pred_rr = ridge.predict(x_test_ssp)\n",
        "\n",
        "r2_score(y_pred=y_pred_rr, y_true=y_test), ridge.alpha_"
      ],
      "execution_count": 102,
      "outputs": [
        {
          "output_type": "execute_result",
          "data": {
            "text/plain": [
              "(0.4132197763500559, 12.727344444444444)"
            ]
          },
          "metadata": {
            "tags": []
          },
          "execution_count": 102
        }
      ]
    },
    {
      "cell_type": "code",
      "metadata": {
        "colab": {
          "base_uri": "https://localhost:8080/"
        },
        "id": "rWrGly67HF4R",
        "outputId": "1d92127e-3bff-4c0a-bab6-62d671d93bc2"
      },
      "source": [
        "len(ridge.coef_),len([o for o in ridge.coef_ if o == 0])"
      ],
      "execution_count": 110,
      "outputs": [
        {
          "output_type": "execute_result",
          "data": {
            "text/plain": [
              "(90, 3)"
            ]
          },
          "metadata": {
            "tags": []
          },
          "execution_count": 110
        }
      ]
    },
    {
      "cell_type": "markdown",
      "metadata": {
        "id": "9p8NqX1l-_rH"
      },
      "source": [
        "#### Scaled and PolyFactored Lasso"
      ]
    },
    {
      "cell_type": "code",
      "metadata": {
        "colab": {
          "base_uri": "https://localhost:8080/"
        },
        "id": "itgUi-bttUM-",
        "outputId": "f303a015-c6b0-4cf4-8306-aa821ae466e4"
      },
      "source": [
        "alphas2 = np.linspace(1e-5,2,100)\n",
        "\n",
        "lasso = LassoCV(alphas=alphas2,\n",
        "                  max_iter=5e4,\n",
        "                  cv=3).fit(x_train_ssp, y_train_pf)\n",
        "y_pred_ls = lasso.predict(x_test_ssp)\n",
        "\n",
        "r2_score(y_pred=y_pred_ls, y_true=y_test), lasso.alpha_"
      ],
      "execution_count": 103,
      "outputs": [
        {
          "output_type": "execute_result",
          "data": {
            "text/plain": [
              "(0.4132946594411614, 0.08081767676767676)"
            ]
          },
          "metadata": {
            "tags": []
          },
          "execution_count": 103
        }
      ]
    },
    {
      "cell_type": "code",
      "metadata": {
        "colab": {
          "base_uri": "https://localhost:8080/"
        },
        "id": "jlNVaEAfG6Ld",
        "outputId": "7e8c2b4e-7c41-47d2-a389-46377bbc30ec"
      },
      "source": [
        "len(lasso.coef_),len([o for o in lasso.coef_ if o == 0])"
      ],
      "execution_count": 108,
      "outputs": [
        {
          "output_type": "execute_result",
          "data": {
            "text/plain": [
              "(90, 47)"
            ]
          },
          "metadata": {
            "tags": []
          },
          "execution_count": 108
        }
      ]
    },
    {
      "cell_type": "code",
      "metadata": {
        "colab": {
          "base_uri": "https://localhost:8080/"
        },
        "id": "Q2v43v1pts3d",
        "outputId": "c047d86e-ca47-476a-c9c3-f24e129bf7b6"
      },
      "source": [
        "las_rmse = rmse(y_test,y_pred_ls)\n",
        "rid_rmse = rmse(y_test, y_pred_rr)\n",
        "\n",
        "las_rmse, rid_rmse"
      ],
      "execution_count": 104,
      "outputs": [
        {
          "output_type": "execute_result",
          "data": {
            "text/plain": [
              "(128.66031061958444, 128.66852102240117)"
            ]
          },
          "metadata": {
            "tags": []
          },
          "execution_count": 104
        }
      ]
    },
    {
      "cell_type": "code",
      "metadata": {
        "id": "Mi84dldBtwQ-",
        "colab": {
          "base_uri": "https://localhost:8080/",
          "height": 302
        },
        "outputId": "ee95bc07-1951-4948-8a6c-84692157cd99"
      },
      "source": [
        "sns.regplot(y_test, y_pred_ols_s-200)\n",
        "sns.lineplot(y_test,y_test)"
      ],
      "execution_count": 116,
      "outputs": [
        {
          "output_type": "execute_result",
          "data": {
            "text/plain": [
              "<matplotlib.axes._subplots.AxesSubplot at 0x7f20fce4ca10>"
            ]
          },
          "metadata": {
            "tags": []
          },
          "execution_count": 116
        },
        {
          "output_type": "display_data",
          "data": {
            "image/png": "[encoded data removed]",
            "text/plain": [
              "<Figure size 432x288 with 1 Axes>"
            ]
          },
          "metadata": {
            "tags": []
          }
        }
      ]
    },
    {
      "cell_type": "code",
      "metadata": {
        "id": "3VePfAJMNOJs"
      },
      "source": [
        ""
      ],
      "execution_count": null,
      "outputs": []
    }
  ]
}